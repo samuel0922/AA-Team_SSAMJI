{
  "nbformat": 4,
  "nbformat_minor": 0,
  "metadata": {
    "colab": {
      "provenance": [],
      "collapsed_sections": [],
      "machine_shape": "hm",
      "include_colab_link": true
    },
    "kernelspec": {
      "name": "python3",
      "display_name": "Python 3"
    },
    "language_info": {
      "name": "python"
    },
    "accelerator": "GPU",
    "gpuClass": "standard"
  },
  "cells": [
    {
      "cell_type": "markdown",
      "metadata": {
        "id": "view-in-github",
        "colab_type": "text"
      },
      "source": [
        "<a href=\"https://colab.research.google.com/github/samuel0922/TEAM_SSAMJI/blob/main/disease_detection_FasterRCNN_0918PP1.ipynb\" target=\"_parent\"><img src=\"https://colab.research.google.com/assets/colab-badge.svg\" alt=\"Open In Colab\"/></a>"
      ]
    },
    {
      "cell_type": "markdown",
      "source": [
        "---\n",
        "# Title : Disease Detection using Faster R-CNN with Python (v.0918PP1)\n",
        "* 기본코드F에 데이터전처리 적용1 : albumentations\n",
        "* Epoch : 1 - mAP Loss 491.5\n",
        "---"
      ],
      "metadata": {
        "id": "O7rL77wG06DB"
      }
    },
    {
      "cell_type": "markdown",
      "source": [
        "## STEP 0. 환경설정"
      ],
      "metadata": {
        "id": "MJprZ9jt0t95"
      }
    },
    {
      "cell_type": "code",
      "source": [
        "from google.colab import drive\n",
        "drive.mount('/content/drive')"
      ],
      "metadata": {
        "colab": {
          "base_uri": "https://localhost:8080/"
        },
        "id": "9TSeOHLhoojp",
        "outputId": "75b9dd89-c156-483c-8fa7-f42688cba44c"
      },
      "execution_count": null,
      "outputs": [
        {
          "output_type": "stream",
          "name": "stdout",
          "text": [
            "Mounted at /content/drive\n"
          ]
        }
      ]
    },
    {
      "cell_type": "code",
      "source": [
        "# GPU 확인. 코랩에서는 랜덤 GPU할당되므로 메모리 부족현상 발생 가능 -> GPU확인 후 메모리 충분할 경우 진행 권장\n",
        "\n",
        "import torch\n",
        "\n",
        "if torch.cuda.is_available():    \n",
        "    device = torch.device(\"cuda\")\n",
        "    print('There are %d GPU(s) available.' % torch.cuda.device_count())\n",
        "    print('We will use the GPU:', torch.cuda.get_device_name(0))\n",
        "\n",
        "else:\n",
        "    print('No GPU available, using the CPU instead.')\n",
        "    device = torch.device(\"cpu\")"
      ],
      "metadata": {
        "colab": {
          "base_uri": "https://localhost:8080/"
        },
        "id": "bf4yxe4Z08yh",
        "outputId": "2c3d6f31-b1e0-4681-f18a-9c567f6b3bcc"
      },
      "execution_count": null,
      "outputs": [
        {
          "output_type": "stream",
          "name": "stdout",
          "text": [
            "There are 1 GPU(s) available.\n",
            "We will use the GPU: Tesla V100-SXM2-16GB\n"
          ]
        }
      ]
    },
    {
      "cell_type": "code",
      "source": [
        "# 라이브러리 임포트\n",
        "\n",
        "import os\n",
        "import glob\n",
        "import json\n",
        "import shutil as sh\n",
        "\n",
        "# 바운딩박스 도식화 위한 패키지 임포트\n",
        "import glob  # 파일, 디렉토리 처리\n",
        "import matplotlib.pyplot as plt  \n",
        "import matplotlib.image as mpimg  # matplotlib 시각화\n",
        "import matplotlib.patches as patches\n",
        "from bs4 import BeautifulSoup  # HTML, XML 파일 파싱, 웹스크래핑 \n",
        "\n",
        "from PIL import Image\n",
        "import cv2\n",
        "import numpy as np\n",
        "import time\n",
        "import torch\n",
        "import torchvision  # 이미지 처리를 위해 사용되며 데이터셋에 관한 패키지와 모델에 관한 패키지 내장\n",
        "from torch.utils.data import Dataset\n",
        "from torchvision import transforms\n",
        "import albumentations\n",
        "import albumentations.pytorch\n",
        "from matplotlib import pyplot as plt\n",
        "\n",
        "import random\n",
        "\n",
        "from tqdm import tqdm\n",
        "import pandas as pd\n",
        "from collections import Counter\n",
        "\n",
        "from torchvision import transforms, datasets, models\n",
        "from torchvision.models.detection.faster_rcnn import FastRCNNPredictor"
      ],
      "metadata": {
        "id": "DVjr_fK21Nvh"
      },
      "execution_count": null,
      "outputs": []
    },
    {
      "cell_type": "markdown",
      "source": [
        "## STEP 1. 데이터 준비\n",
        "* 사용할 데이터셋을 준비(다운로드 또는 기 받아놓은 폴더 공유)\n",
        "* 추천코드(FaceMask Detection)에서 사용하는 데이터셋 구조에 맞게 플젝(농작물 병해 진단) 데이터셋 구조를 맞춰 정리해줌 => 별도의 코드로 수행함\n",
        "---\n",
        "* 플젝(농작물 병해진단) 데이터셋은 마스크데이터 데이터셋과 다섯 가지 측면에서 차이가 있음\n",
        "    * 데이터셋 폴더 구조가 다름\n",
        "    * annotation 파일이 xlm파일이 아니고 json파일인 점\n",
        "    * bbox 좌표 형식이 다름xml(x1,y1,x2,y2)->json(x,y,h,w)\n",
        "    * label로 쓸 수 있는 직접적인 항목이 없음\n",
        "    * 마스크검출에서 바운딩 박스, 레이블은 검출된 객체인 N개의 마스크에 대해서만 annotation에 있는 반면에, 플젝데이터셋의 annotation에는 이미지당 1개씩의 객체와 레이블(로 조합해 활용할 수 있는 항목들)이 있고, 병징을 나타내는 N개의 part에 대한 바운딩박스가 있다는 점에서 차이가 있음.\n",
        "\n",
        "=> 각각에 대한 처리 방법은\n",
        "1. 플젝의 데이터 구조를 그냥 두고 필요한 파일을 불러와서 처리하는 방식도 가능하겠지만, 혼란을 줄이고 처리를 용이하게 하기 위해서 디렉토리 구조를 마스크데이터셋처럼 맞춰줌\n",
        "2. xml파일 대신 json파일에서 필요 정보 파싱해서 사용하면 됨\n",
        "3. 상이한 좌표형식을 환산식을 사용해 처리\n",
        "4. label로 쓸 수 있는 항목을 추출해 label로 쓸 수 있는 코드를 생성해 json 파일에 추가함\n",
        "*5.(이 부분이 핵심임) 병징을 나타내는 N개의 정보(바운딩박스좌표, id)를 어떻게 활ㄹ용할 것인가?         "
      ],
      "metadata": {
        "id": "E4U65Y861V7Q"
      }
    },
    {
      "cell_type": "markdown",
      "source": [
        "### S1-1P. 데이터 불러오기(농작물병해)"
      ],
      "metadata": {
        "id": "b-DByTbTZbEc"
      }
    },
    {
      "cell_type": "code",
      "source": [
        "# 플젝 데이터셋에서 데이터 불러와 확인을 위한 테스트 부분임\n",
        "\n",
        "# %cd /content/drive/MyDrive/aiffelthon/PjtDataset/train\n",
        "# !pwd\n",
        "\n",
        "# train = glob.glob('*')\n",
        "# print(\"train:\",train)\n",
        "# print(len(train))\n",
        "# print(train[40])\n",
        "# sample = glob.glob('train')\n",
        "# print(len(sample))\n",
        "\n",
        "# # train_image_sample = cv2.imread(glob.glob('train[40]'+'/*.jpg')[0])\n",
        "# train_json_sample = json.load(open(glob.glob(train[40]+'/*.json')[0], 'r'))\n",
        "\n",
        "# %cd /content/drive/MyDrive/aiffelthon/PjtDataset/train\n",
        "# !pwd\n",
        "# f_names = glob.glob('*')\n",
        "# print(len(f_names))\n",
        "# sample = f_names[40]\n",
        "\n",
        "# sample_train_image = cv2.imread(glob.glob(sample+'/*.jpg')[0])\n",
        "# print(sample_train_image)\n",
        "# # train_json_sample = json.load(open(glob.glob(train[42]+'/*.json')[0], 'r'))\n",
        "\n",
        "# with open((sample_train_image, \"r\") as json_file:\n",
        "#     sample_train_json = json.load(open(glob.glob(sample+'/*.json')[0], 'r'))\n",
        "#     sample_train_json['annotations'].append({\n",
        "#     \"label\": \"1_00_0\"\n",
        "#     })"
      ],
      "metadata": {
        "id": "BZV7fnf7ZcAz"
      },
      "execution_count": null,
      "outputs": []
    },
    {
      "cell_type": "code",
      "source": [
        "# 플젝 데이터셋에서 데이터 불러와 확인을 위한 테스트 부분임 : 이미지 파일 확인\n",
        "\n",
        "# # image\n",
        "# plt.imshow(cv2.cvtColor(train_image_sample, cv2.COLOR_BGR2RGB))\n",
        "# plt.show()"
      ],
      "metadata": {
        "id": "xdtOgbaCZcE5"
      },
      "execution_count": null,
      "outputs": []
    },
    {
      "cell_type": "code",
      "source": [
        "# 플젝 데이터셋에서 데이터 불러와 확인을 위한 테스트 부분임 : json파일 확인\n",
        "# # json\n",
        "# print(train_json_sample)\n",
        "# print(train_json_sample['annotations']['area'])"
      ],
      "metadata": {
        "id": "NCLXnCc1ZcIK"
      },
      "execution_count": null,
      "outputs": []
    },
    {
      "cell_type": "markdown",
      "source": [
        "### S2-1. 다운받은 농작물병해진단 데이터셋에서 train 데이터셋을 train과 validation 으로 분리해줌\n",
        "\n",
        "* split-folder 모듈 \n",
        "### S1-2. 데이터 분리 => 데이터셋 폴더구조 변경\n",
        "* 데이터셋에서 훈련셋과 시험셋을 나눠줌\n",
        "* 일반적으로 훈련셋:시험셋은 7:3으로 나누지만, 데이터셋이 적을 때는 8:2로 나눠주기도 함\n",
        "=> \n",
        "* 플젝 데이터셋은 이미 test와 train 폴더로 나눠져 있기 때문에 이 작업은 필요하지 않음\n",
        "* 다만, 마스크 데이터셋의 폴더구조는\n",
        "\n",
        "    FaceMask Dataset\n",
        "    - imges\n",
        "        -   .png\n",
        "    - annotations\n",
        "        -   .xml\n",
        "    => 인 것을 코드 내에서 test, train 으로 구분해 줌\n",
        "    - image\n",
        "    - test_image\n",
        "    - annotations\n",
        "    - test_annotations\n",
        "\n",
        "* 플젝 데이터셋의 폴더구조는 다음과 같이 되어 있어서 이를 FaceMask 데이터셋의 폴더구조와 같게 맞춰주었음\n",
        "\n",
        "    Pjtdataset(농작물 병해 데이터셋)\n",
        "    - train\n",
        "        - 10028\n",
        "            -   .jpg\n",
        "            -   .json\n",
        "            -   .csv\n",
        "    - test\n",
        "        - 10000\n",
        "            -   .jpg\n",
        "\n",
        "    => 별도의 작업을 통해 다음과 같이 폴더구조를 만들어 줌\n",
        "\n",
        "    Pjtdataset(농작물 병해 데이터셋)\n",
        "        - train\n",
        "            - images\n",
        "                -   .jpg\n",
        "            - annotations\n",
        "                -   .json\n",
        "        - test\n",
        "            - images\n",
        "                -   .jpg"
      ],
      "metadata": {
        "id": "7w5yEgLnBwZj"
      }
    },
    {
      "cell_type": "markdown",
      "source": [
        "### S2-2. 농작물병해진단 데이터셋 구조를 FaceMask 데이터셋 구조로 변경해 줌\n",
        "* glob, shutil 모듈\n",
        "* 대상작물폴더에 같이 들어있는 img파일(jpg)과 annotation파일(json)을 train과 val 폴더 밑에 각각 images, annotations 폴더로 나누어 줌"
      ],
      "metadata": {
        "id": "3dFRLF0_BwOW"
      }
    },
    {
      "cell_type": "code",
      "source": [],
      "metadata": {
        "id": "56yHBLOJBwDp"
      },
      "execution_count": null,
      "outputs": []
    },
    {
      "cell_type": "markdown",
      "source": [
        "### S1-2P.데이터 확인 : 바운딩박스\n",
        "* 플젝 baseline 코드에서 바운딩박스를 쳐주는 코드 발췌해 온 것임"
      ],
      "metadata": {
        "id": "7i0-2NpDBv2_"
      }
    },
    {
      "cell_type": "code",
      "source": [
        "# # 플젝 baseline 코드에서 바운딩박스를 쳐주는 코드 발췌해 온 것임\n",
        "# # visualize bbox\n",
        "# plt.figure(figsize=(7,7))\n",
        "# points = sample_json['annotations']['bbox'][0]\n",
        "# part_points = sample_json['annotations']['part']\n",
        "# img = cv2.cvtColor(sample_image, cv2.COLOR_BGR2RGB)\n",
        "\n",
        "# cv2.rectangle(\n",
        "#     img,\n",
        "#     (int(points['x']), int(points['y'])),\n",
        "#     (int((points['x']+points['w'])), int((points['y']+points['h']))),\n",
        "#     (0, 255, 0),\n",
        "# )\n",
        "# for part_point in part_points:\n",
        "#     point = part_point\n",
        "#     cv2.rectangle(\n",
        "#         img,\n",
        "#         (int(point['x']), int(point['y'])),\n",
        "#         (int((point['x']+point['w'])), int((point['y']+point['h']))),\n",
        "#         (255, 0, 0),\n",
        "#         1\n",
        "#     )\n",
        "# plt.imshow(img)\n",
        "# plt.show()"
      ],
      "metadata": {
        "id": "SWsCQk9cZcMW"
      },
      "execution_count": null,
      "outputs": []
    },
    {
      "cell_type": "markdown",
      "source": [
        "### S1-1B. 데이터 불러오기(마스크 데이터셋)"
      ],
      "metadata": {
        "id": "I07hto0vBlCq"
      }
    },
    {
      "cell_type": "code",
      "source": [
        "# # 데이터로더 파일이 들어 있는 유틸리티 파일을 clone하고\n",
        "# !git clone https://github.com/Pseudo-Lab/Tutorial-Book-Utils\n",
        "\n",
        "# # 데이터로더 파일을 실행시켜 데이터셋을 다운로드 받음. --data 옵션에 FaceMaskDetection 파라미터를 줌\n",
        "# !python Tutorial-Book-Utils/PL_data_loader.py --data FaceMaskDetection"
      ],
      "metadata": {
        "id": "PdstRuBtBkyy"
      },
      "execution_count": null,
      "outputs": []
    },
    {
      "cell_type": "code",
      "source": [
        "# # 다운받은 파일 압축 풀기\n",
        "\n",
        "# !unzip -q Face\\ Mask\\ Detection.zip"
      ],
      "metadata": {
        "id": "8uBZn2SFBkiq"
      },
      "execution_count": null,
      "outputs": []
    },
    {
      "cell_type": "markdown",
      "source": [
        "## STEP 2. 데이터 전처리"
      ],
      "metadata": {
        "id": "bJ_JupJN5LD-"
      }
    },
    {
      "cell_type": "markdown",
      "source": [
        "### S2-3P. label 코드 만들기\n",
        "* aanotaion 파일에 작물(crop), 병해(disease), 상태(risk)로 나누어져 있는 정보를 취합해서 레이블로 사용할 코드를 만들어 줌\n",
        "* 학습 및 예측에서 사용할 수 있도록 레이블에 대한 encoder, decoder를 만들어 둠\n",
        "* 생성한 레이블 코드를 annotaion파일에 label항목으로 추가해 줌\n"
      ],
      "metadata": {
        "id": "XJ1sWqmyaFgd"
      }
    },
    {
      "cell_type": "code",
      "source": [
        "# label 생성을 위해 개별 항목에 대한 코드(딕셔너리)화 작업.\n",
        "# 변수 설명 csv 파일 참조\n",
        "\n",
        "crop = {'1':'딸기','2':'토마토','3':'파프리카','4':'오이','5':'고추','6':'시설포도'}\n",
        "\n",
        "disease = {'1':{'a1':'딸기잿빛곰팡이병','a2':'딸기흰가루병','b1':'냉해피해','b6':'다량원소결핍 (N)','b7':'다량원소결핍 (P)','b8':'다량원소결핍 (K)'},\n",
        "           '2':{'a5':'토마토흰가루병','a6':'토마토잿빛곰팡이병','b2':'열과','b3':'칼슘결핍','b6':'다량원소결핍 (N)','b7':'다량원소결핍 (P)','b8':'다량원소결핍 (K)'},\n",
        "           '3':{'a9':'파프리카흰가루병','a10':'파프리카잘록병','b3':'칼슘결핍','b6':'다량원소결핍 (N)','b7':'다량원소결핍 (P)','b8':'다량원소결핍 (K)'},\n",
        "           '4':{'a3':'오이노균병','a4':'오이흰가루병','b1':'냉해피해','b6':'다량원소결핍 (N)','b7':'다량원소결핍 (P)','b8':'다량원소결핍 (K)'},\n",
        "           '5':{'a7':'고추탄저병','a8':'고추흰가루병','b3':'칼슘결핍','b6':'다량원소결핍 (N)','b7':'다량원소결핍 (P)','b8':'다량원소결핍 (K)'},\n",
        "           '6':{'a11':'시설포도탄저병','a12':'시설포도노균병','b4':'일소피해','b5':'축과병'}}\n",
        "\n",
        "risk = {'1':'초기','2':'중기','3':'말기'}"
      ],
      "metadata": {
        "id": "4z9KNrlbaFmu"
      },
      "execution_count": null,
      "outputs": []
    },
    {
      "cell_type": "code",
      "source": [
        "# label 생성 : 개별 항목에 대한 코드를 이용해 '작물_병해_진행단계' 형식으로 label 생성\n",
        "\n",
        "label_description = {}\n",
        "for key, value in disease.items():\n",
        "    label_description[f'{key}_00_0'] = f'{crop[key]}_정상'\n",
        "    for disease_code in value:\n",
        "        for risk_code in risk:\n",
        "            label = f'{key}_{disease_code}_{risk_code}'\n",
        "            label_description[label] = f'{crop[key]}_{disease[key][disease_code]}_{risk[risk_code]}'\n",
        "list(label_description.items())[:10]\n",
        "\n",
        "# # 클래스 갯수 확인\n",
        "# print(len(label_description))"
      ],
      "metadata": {
        "id": "G83CS3s_aFvl",
        "colab": {
          "base_uri": "https://localhost:8080/"
        },
        "outputId": "73977cd0-3874-4bcc-d7aa-675097b8047e"
      },
      "execution_count": null,
      "outputs": [
        {
          "output_type": "execute_result",
          "data": {
            "text/plain": [
              "[('1_00_0', '딸기_정상'),\n",
              " ('1_a1_1', '딸기_딸기잿빛곰팡이병_초기'),\n",
              " ('1_a1_2', '딸기_딸기잿빛곰팡이병_중기'),\n",
              " ('1_a1_3', '딸기_딸기잿빛곰팡이병_말기'),\n",
              " ('1_a2_1', '딸기_딸기흰가루병_초기'),\n",
              " ('1_a2_2', '딸기_딸기흰가루병_중기'),\n",
              " ('1_a2_3', '딸기_딸기흰가루병_말기'),\n",
              " ('1_b1_1', '딸기_냉해피해_초기'),\n",
              " ('1_b1_2', '딸기_냉해피해_중기'),\n",
              " ('1_b1_3', '딸기_냉해피해_말기')]"
            ]
          },
          "metadata": {},
          "execution_count": 11
        }
      ]
    },
    {
      "cell_type": "code",
      "source": [
        "# label 생성 : 생성한 label를 처리할 때 사용할 수 있게 encoder, decoder를 만들어둠\n",
        " \n",
        "label_encoder = {key:idx for idx, key in enumerate(label_description)}\n",
        "label_decoder = {val:key for key, val in label_encoder.items()}"
      ],
      "metadata": {
        "id": "srio3UyFll9t"
      },
      "execution_count": null,
      "outputs": []
    },
    {
      "cell_type": "code",
      "source": [
        "print(label_encoder['1_00_0'])\n",
        "print(label_decoder[41])"
      ],
      "metadata": {
        "colab": {
          "base_uri": "https://localhost:8080/"
        },
        "id": "PQ6XpU7R5btw",
        "outputId": "b0986424-e527-4b24-cbdb-56cecb192f10"
      },
      "execution_count": null,
      "outputs": [
        {
          "output_type": "stream",
          "name": "stdout",
          "text": [
            "0\n",
            "3_00_0\n"
          ]
        }
      ]
    },
    {
      "cell_type": "code",
      "source": [
        "# # 데이터셋을 불러서 학습셋과 시험셋으로 분리해 줌\n",
        "\n",
        "# # 데이터의 갯수를 확인해 봄\n",
        "# print(len(os.listdir('annotations')))\n",
        "# print(len(os.listdir('images')))\n",
        "\n",
        "# # 테스트셋을 저장할 폴더를 만들어줌\n",
        "# !mkdir test_images\n",
        "# !mkdir test_annotations\n",
        "\n",
        "# # 랜덤하게 수를 발생시켜 인덱스로 사용하고, random.sample()함수를 사용해 훈련셋과 시험셋으로 나눔\n",
        "# random.seed(1234)\n",
        "# idx = random.sample(range(853), 170)\n",
        "\n",
        "# for img in np.array(sorted(os.listdir('images')))[idx]:\n",
        "#     shutil.move('images/'+img, 'test_images/'+img)\n",
        "\n",
        "# for annot in np.array(sorted(os.listdir('annotations')))[idx]:\n",
        "#     shutil.move('annotations/'+annot, 'test_annotations/'+annot)\n",
        "\n",
        "# # 나눈 후 각각의 폴더에 있는 데이터 갯수를 확인해 봄\n",
        "# print(len(os.listdir('annotations')))\n",
        "# print(len(os.listdir('images')))\n",
        "# print(len(os.listdir('test_annotations')))\n",
        "# print(len(os.listdir('test_images')))"
      ],
      "metadata": {
        "id": "LvWKYEe22ywu"
      },
      "execution_count": null,
      "outputs": []
    },
    {
      "cell_type": "markdown",
      "source": [
        "### S1-X. json파일 읽어서 label항목을 만들어 추가해 줌"
      ],
      "metadata": {
        "id": "Bp_O6BL1ikfQ"
      }
    },
    {
      "cell_type": "code",
      "source": [
        "# import glob\n",
        "# train_annot_list = glob.glob('/content/drive/MyDrive/aiffel/Datathon/data/train/annotations/*')\n",
        "# print(train_annot_list)"
      ],
      "metadata": {
        "id": "lpK0YiuAil9_"
      },
      "execution_count": null,
      "outputs": []
    },
    {
      "cell_type": "code",
      "source": [
        "# json파일에 있는 작물(crop), 병해(disease), 상태(risk) 정보를 파싱해서 \n",
        "# label로 쓸 코드를 만들어 주는 코드 => 작업 완료\n",
        "\n",
        "# import json\n",
        "# for i, annot in enumerate(train_annot_list):\n",
        "\n",
        "#     # if i == 10 :\n",
        "#     #     break\n",
        "#     with open(annot, \"r\") as file:\n",
        "#         j_file = json.load(file)\n",
        "#     # print(j_file)\n",
        "\n",
        "#     label = str(j_file['annotations']['crop'])+\"_\"+str(j_file['annotations']['disease'])+\"_\"+str(j_file['annotations']['risk'])\n",
        "#     print('i : ',i, ', label : ',label)\n",
        "#     j_file['annotations']['label']=label \n",
        "#     # # j_file   \n",
        "#     with open(annot, \"w\") as file:\n",
        "#         json.dump(j_file, file)\n"
      ],
      "metadata": {
        "id": "e-BljGAoi1Pw"
      },
      "execution_count": null,
      "outputs": []
    },
    {
      "cell_type": "code",
      "source": [
        "# # json파일 열어보기\n",
        "\n",
        "# with open('/content/drive/MyDrive/aiffelthon/PjtDataset/train/annotations/58464.json', \"r\") as file:\n",
        "#     sample = json.load(file)\n",
        "# sample"
      ],
      "metadata": {
        "id": "T1vi4IRQi1S2"
      },
      "execution_count": null,
      "outputs": []
    },
    {
      "cell_type": "code",
      "source": [
        "# # 병해객체 바운딩박스 인덱싱 확인\n",
        "\n",
        "# print(sample['annotations']['bbox'][0]['x'])"
      ],
      "metadata": {
        "id": "qZBowDPIi1Vw"
      },
      "execution_count": null,
      "outputs": []
    },
    {
      "cell_type": "code",
      "source": [
        "# # 병징(part) 바운딩박스 인덱싱 확인\n",
        "\n",
        "# print(sample['annotations']['part'][0]['x'])"
      ],
      "metadata": {
        "id": "ioCJ_GSfi1YR"
      },
      "execution_count": null,
      "outputs": []
    },
    {
      "cell_type": "markdown",
      "source": [
        "### S1-3. 바운딩박스 관련 함수 정의\n"
      ],
      "metadata": {
        "id": "TZXEieNP3E7c"
      }
    },
    {
      "cell_type": "code",
      "source": [
        "# 바운딩박스 관련 함수 내부 코드 작동 확인을 위한 부분임\n",
        "\n",
        "# with open('/content/drive/MyDrive/aiffelthon/PjtDataset/train/19011/19011.json') as f:\n",
        "\n",
        "#     # json파일을 읽어서 part\n",
        "#     data = json.load(f)  # json파일을 읽어서\n",
        "#     # soup = BeautifulSoup(data, \"html.parser\")\n",
        "#     # objects = soup.find_all(\"object\")  # object 항목들이 무엇인지 확인 요\n",
        "#     print(data)\n",
        "#     objects = data['annotations']['bbox']\n",
        "#     print(objects)\n",
        "# # 함수 내부 코드 확인을 위한 코드임\n",
        "\n",
        "#     num_part = len(data['annotations']['bbox'])  # objects의 갯수를 할당해서 \n",
        "#     print(num_part)\n",
        "\n",
        "# boxes = generate_box(sample)\n",
        "\n",
        "# pboxes = []\n",
        "\n",
        "# for i in range(num_part):\n",
        "#     # labels.append(generate_label(i))\n",
        "#     # boxes.append(generate_box(i))\n",
        "#     pboxes.append(generate_pbox(sample,i))\n",
        "# labels = generate_label(sample)\n",
        "# labels = torch.as_tensor(labels, dtype=torch.int64) \n",
        "# boxes = torch.as_tensor(boxes, dtype=torch.float32) \n",
        "# pboxes = torch.as_tensor(pboxes, dtype=torch.float32) \n",
        "\n",
        "# target = {}\n",
        "# target[\"labels\"] = labels\n",
        "# target[\"boxes\"] = boxes\n",
        "# target[\"pboxes\"] = pboxes\n",
        "\n",
        "# print(target)"
      ],
      "metadata": {
        "id": "eIFKlG31eEXb"
      },
      "execution_count": null,
      "outputs": []
    },
    {
      "cell_type": "code",
      "source": [
        "# # generate_label()함수 내용 확인을 위한 부분임\n",
        "# with open('/content/drive/MyDrive/aiffelthon/PjtDataset/train/annotations/19667.json', \"r\") as f:\n",
        "#     data = json.load(f)\n",
        "\n",
        "#     objects = data['annotations']\n",
        "#     # print(objects)\n",
        "#     # print(len(objects))\n",
        "#     boxes = []\n",
        "#     for i in objects :\n",
        "#         label = objects['label']\n",
        "#         # print(label)\n",
        "#         label = label_encoder[label]\n",
        "\n",
        "#     # print(objects)\n",
        "#     # label = obj['annotations']['label']\n",
        "#     # print(label)\n",
        "#     # label = label_encoder[label]\n"
      ],
      "metadata": {
        "id": "3Ax9JUVOSuX1"
      },
      "execution_count": null,
      "outputs": []
    },
    {
      "cell_type": "code",
      "source": [
        "# 바운딩박스를 위한 함수들 정의\n",
        "\n",
        "# 병해 객체에 대한 바운딩박스를 쳐주는 함수. 병해 객체는 하나의 이미지에 한 개만 있음\n",
        "def generate_box(obj):\n",
        "    '''\n",
        "    annotation 파일에서 객체 bouding box 좌표를 읽어서 리턴함\n",
        "    사용하는 bbox좌표 형식은 (좌상x, 좌상y, 우하x, 우하y)\n",
        "    '''\n",
        "    \n",
        "    xmin = float(obj['annotations']['bbox'][0]['x'])  #find('xmin').text)\n",
        "    ymin = float(obj['annotations']['bbox'][0]['y'])  #find('ymin').text)\n",
        "    xmax = float(obj['annotations']['bbox'][0]['x']) + float(obj['annotations']['bbox'][0]['w'])  #find('xmax').text)\n",
        "    ymax = float(obj['annotations']['bbox'][0]['y']) + float(obj['annotations']['bbox'][0]['h'])  #find('ymax').text)\n",
        "\n",
        "    return [xmin, ymin, xmax, ymax]\n",
        "\n",
        "'''\n",
        "병징 관련된 부분(part)은 일단 배제\n",
        "* 주의사항 : part(병징)정보가 없는 경우도 꽤 있음...추후 코드 구현시 참고바람\n",
        "\n",
        "# N개의 병징들에 대해 바운딩박스를 쳐주는 함수 : 추천 코드에 없는데 추가한 부분임\n",
        "# N개의 병징들은 \n",
        "\n",
        "def generate_pbox(obj,i):\n",
        "    \n",
        "    #annotation 파일에서 질병(part) bouding box 좌표를 읽어서 리턴함\n",
        "    #사용하는 bbox좌표 형식은 (좌상x, 좌상y, 우하x, 우하y, id)\n",
        "    \n",
        "    \n",
        "    xmin_p = float(obj['annotations']['part'][i]['x'])  #find('xmin').text)\n",
        "    ymin_p = float(obj['annotations']['part'][i]['y'])  #find('ymin').text)\n",
        "    xmax_p = float(obj['annotations']['part'][i]['x']) + float(obj['annotations']['part'][i]['w'])  #find('xmax').text)\n",
        "    ymax_p = float(obj['annotations']['part'][i]['y']) + float(obj['annotations']['part'][i]['h'])  #find('ymax').text)\n",
        "    # id_p   = obj['annotations']['part'][i]['id']\n",
        "\n",
        "    return [xmin_p, ymin_p, xmax_p, ymax_p]\n",
        "\n",
        "adjust_label = 1  # adjust_lable : ??? <= 이게 왜 필요할까요?\n",
        "'''\n",
        "\n",
        "# 레이블을 생성해 주는 함수. 병해를 나타내는 레이블은 하나의 이미지당 1개임\n",
        "# 마스크 디텍션에서 레이블은 3가지 경우의 수가 있고 if문으로 처리하였으나\n",
        "# 농작물 병해는 작물_병해_진행단계 를 조합하여 만들어진 135개의 레이블이 있어\n",
        "# 이를 처리해 주기 위해 encoder, decoder로 만들어 활용함\n",
        "\n",
        "def generate_label(obj):  \n",
        "    '''\n",
        "    마스크착용상태 읽어서 레이블(정상착용, 비정상착용, 미착용)을 숫자로 리턴\n",
        "    => json파일의 annotations에 추가한 label에서 읽어와서 할당하고 리턴함\n",
        "    '''\n",
        "    # print(obj)\n",
        "    label = obj['annotations']['label']\n",
        "    # print(label)\n",
        "    label = label_encoder[label]\n",
        "\n",
        "    return label\n",
        "    # return 0 + adjust_label\n",
        "\n",
        "# 이 함수가 대회용 baseline 모델에는 없는 부분이므로 내용 파악 잘 해야함\n",
        "def generate_target(file): \n",
        "    '''\n",
        "    generate_box(), generate_label()를 각각 호출해서 반환된 값을 딕셔너리에 저장해 반환\n",
        "    html.parser()를 이용해 annotatin에 있는 내용을 불러와 타켓의 바운딩박스와 라벨에 추가함\n",
        "    '''\n",
        "\n",
        "    '''\n",
        "    json파일을 읽어들여서\n",
        "    한 개의 label과\n",
        "    한 개의 대상객체 바운딩박스bbox와\n",
        "    병해증상(part)의 갯수를 파악해서\n",
        "        여러개의 병해증상 바운딩박스pbbox 를 리스트에 담은 후\n",
        "    tensor에 할당하고\n",
        "    target딕셔너리의 각 키값에 할당한 뒤\n",
        "    리턴 \n",
        "    '''\n",
        "    print(\"file :\",file)\n",
        "\n",
        "    with open(file) as f:\n",
        "\n",
        "        # json파일을 읽어서 part\n",
        "        data = json.load(f)  # json파일을 읽어서\n",
        "        # soup = BeautifulSoup(data, \"html.parser\")\n",
        "        # objects = soup.find_all(\"object\")  # object 항목들이 무엇인지 확인 요\n",
        "\n",
        "        # 추천 코드에서와 마찬가지로 객체(여기서는 병해작물)를 objects로 할당\n",
        "        # 그런데...마스크 디텍션에 쓰는 xml에서는 각각의 object 리스트 안에 \n",
        "        # label('name')과 bbox좌표 등의 정보가 포함되어 있기 때문에 objects를 \n",
        "        # get_boxe()나 get_label()의 매개변수로 넘겨주는 형식을 취함. \n",
        "        # 단, for문을 사용해 i로 넘겨주고 함수에서는 obj로 받는데..\n",
        "        # 이 때 obj는 object 리스트임\n",
        "\n",
        "        # 그런데... 농작물병해데이터셋 json에서는..annotation 아래로 bbox와 \n",
        "        # label(생성해 준) 정보가 있는 점이 다름... 따라서... objects를 json에서\n",
        "        # 어떤 단위에서 잡아줄 지 주의해야 하고, 함수에서 받았을 때 파싱에 유의해야 함  \n",
        "        objects = data['annotations']\n",
        "\n",
        "        '''\n",
        "        일단 part에 대해 추가했던 이 부분도 배제\n",
        "\n",
        "        # 마스크 디텍션 코드에서 objects 는 label이 붙는 검출된 다수의 마스크만을 의미하지만\n",
        "        # 농작물 병해진단에서는 label이 붙는 객체는 1개이며, 대신 병징을 나타내는 여러개의 part로 구성됨\n",
        "        num_part = len(data['annotations']['part'])  # objects(part)의 갯수를 할당해서 \n",
        "        '''\n",
        "\n",
        "        '''\n",
        "        대신 추천코드에서 처럼 object(마스크 디텍션에서는 N개의 마스크)의 갯수를 찾아서 \n",
        "        그 갯수만큼 처리해주는 방식으로 해 봄.. 병해는 이미지에 하나지만...\n",
        "        '''\n",
        "\n",
        "        num_objs = len(data['annotations']['bbox'])\n",
        "\n",
        "        # 대상 객체를 나타내는 boxes와 label\n",
        "        # 각 함수의 리턴값은 리스트 형태임\n",
        "        labels = []\n",
        "        boxes = []\n",
        "\n",
        "        for i in objects :\n",
        "            labels.append(generate_label(data)) \n",
        "            boxes.append(generate_box(data))\n",
        "        \n",
        "        '''\n",
        "        # 병징을 나타내는 part들에 대한 좌표를 저장할 변수를 리스트로 선언해 주고\n",
        "        pboxes = []\n",
        "\n",
        "        # part(병징)의 수 만큼 for문을 돌려서 좌표를 구해서 pboxes리스트에 추가해줌\n",
        "        for i in range(num_part):\n",
        "            # labels.append(generate_label(i))\n",
        "            # boxes.append(generate_box(i))\n",
        "            pboxes.append(generate_pbox(data,i))\n",
        "        '''\n",
        "        # 저장된 labels, boxes, pboxes를 tensor로 저장\n",
        "        # 일단, 원래 코드에 있는 데이터사이즈로 저장해 줌 => 이게 문젠가??\n",
        "        labels = torch.as_tensor(labels, dtype=torch.int64) \n",
        "        boxes = torch.as_tensor(boxes, dtype=torch.float32) \n",
        "        '''\n",
        "        pboxes = torch.as_tensor(pboxes, dtype=torch.float32) \n",
        "        '''\n",
        "        # 함수의 리턴값인 target에 패킹해줌\n",
        "        target = {}\n",
        "        target[\"labels\"] = labels\n",
        "        target[\"boxes\"] = boxes \n",
        "        # 멘토님 추천 코드 : boxes.unsqueeze(dim=0) # (4) -> (N=1, 4)\n",
        "        # 위에서 labels을 리스트로 선언해주고 함수에서 리턴받은 리스트값을 추가해 줌\n",
        "        '''\n",
        "        target[\"pboxes\"] = pboxes\n",
        "        '''\n",
        "        return target\n",
        "\n",
        "def plot_image_from_output(img, annotation):\n",
        "    '''\n",
        "    기존 마스크검출 코드의 내용임.\n",
        "    이미지와 바운딩박스 함께 시각화\n",
        "    마스크 착용시 green, 미 착용시 red, 잘못 착용시 orange\n",
        "    \n",
        "    데이터 탐색에서의 plot_image()는 이미지를 파일경로에서 읽어오지만\n",
        "    plot_image_from_output()은 torch.tensor로 변환된 이미지를 시각화함\n",
        "    '''\n",
        "    \n",
        "    # img = mping.imread(img_path) \n",
        "    img = img.cpu().permute(1,2,0)\n",
        "\n",
        "    '''\n",
        "    pytorch에서는 이미지를 [channel, height, width]형식으로 표현하는 반면\n",
        "    matplotlib에서는 [height, width, channel]형식으로 표현하므로\n",
        "    채널 순서를 바꿔주는 permute()함수를 활용해서 matplotlib에서 사용하기 위해\n",
        "    채널 순서를 바꿔줌\n",
        "    '''\n",
        "\n",
        "    fig,ax = plt.subplots(1)\n",
        "    ax.imshow(img)\n",
        "    \n",
        "    '''\n",
        "    annotation에서 bbox 좌표를 받아서 대상객체 바운딩 박스를 그려준다.\n",
        "    '''\n",
        "    for idx in range(len(annotation[\"boxes\"])):\n",
        "        xmin, ymin, xmax, ymax = annotation[\"boxes\"][idx].cpu()  ## 원래 코드 -> 플젝코드로 바꿔줘야 함\n",
        "    \n",
        "        rect = patches.Rectangle((xmin,ymin),(xmax-xmin),(ymax-ymin),linewidth=2,edgecolor='r',facecolor='none')\n",
        "  \n",
        "        ax.add_patch(rect)\n",
        "    # ??? add_patch() 함수는 좌상x, 좌상y, h, w를 좌표로 해서 그림을 그려주는데...???\n",
        "    # 아항.. w, h를 각각 Xmax - Xmin, Ymax-Ymin 으로 환산해서 값을 구해 적용해 주네 ㅋ\n",
        "    # 그러면.. 애초에 json에서는 x, y, h, w로 좌표가 주어지니까 굳이 환산할 필요가 없네 ㅠㅠ\n",
        "    # 요 부분은 나중에 ㅋ\n",
        "    '''\n",
        "    annotation에서 pbox들의 좌표를 받아서 여러개의 병해부위 바운딩 박스를 그려준다\n",
        "    '''\n",
        "\n",
        "    # for idx in range(len(annotation[\"pboxes\"])):\n",
        "    #     xmin, ymin, xmax, ymax = annotation[\"pboxes\"][idx].cpu()  \n",
        "    #         # .cpu()를 해주지 않으면 tensor관련 에러가 발생함\n",
        "\n",
        "    #     rect_p = patches.Rectangle((xmin,ymin),(xmax-xmin),(ymax-ymin),linewidth=1,edgecolor='orange',facecolor='none')\n",
        "        \n",
        "    #     ax.add_patch(rect_p)\n",
        "\n",
        "    plt.show()"
      ],
      "metadata": {
        "id": "Sam9tsxw3X6p"
      },
      "execution_count": null,
      "outputs": []
    },
    {
      "cell_type": "markdown",
      "source": [
        "## STEP 3. 데이터셋 클래스와 데이터 로더 정의\n",
        "\n",
        "* 파이토치 모델을 학습시키기 위해서 데이터셋 클래스를 정의해야 함\n",
        "\n",
        "* torchvision에서 제공하는 객체탐지모델을 학습시키기 위한 데이터셋클래스의 __getitem__메서드는 이미지 파일과 바운딩박스 좌표를 반환함\n",
        "\n",
        "* 최종적으로 훈련용 데이터와 시험용 데이터를 batch단위로 불러올 수 있게 torch.utils.data.DataLoader함수를 활용해 data_loader와 test_data_loader를 각각 정의함\n",
        "\n",
        "* torch.utils.data.DataLoader() 함수를 통해 배치 사이즈를 4로 지정해 불러옴\n",
        "* 배치 사이즈는 개인의 메모리 크기에 따라 자유롭게 설정하면 됨"
      ],
      "metadata": {
        "id": "_03Rwvvq3eeN"
      }
    },
    {
      "cell_type": "code",
      "source": [
        "# # # sorted(os.listdir(path))) 동작 확인\n",
        "\n",
        "# # path = '/content/drive/MyDrive/aiffelthon/PjtDataset/train/images'  # /content/drive/MyDrive/aiffelthon/PjtDataset/train\n",
        "# # print(list((sorted(os.listdir(path)))))\n",
        "\n",
        "# %cd /content/drive/MyDrive/aiffelthon/PjtDataset/test\n",
        "# !pwd\n",
        "# lists = glob.glob('./test_images_back')\n",
        "# # for i, list in enumerate(lists):\n",
        "# #     print('list: ',list)\n",
        "#     # sh.copy('./test_images_bak/list','./test_images/')\n",
        "#     # if i > 2000:\n",
        "#     #     break"
      ],
      "metadata": {
        "id": "6M2WyBCZCiST"
      },
      "execution_count": null,
      "outputs": []
    },
    {
      "cell_type": "code",
      "source": [
        "# Dataset 경로\n",
        "\n",
        "train_path = '/content/drive/MyDrive/aiffelthon/FarmDataset/train'\n",
        "val_path = '/content/drive/MyDrive/aiffelthon/FarmDataset/val'"
      ],
      "metadata": {
        "id": "5qFZqWRaE3kj"
      },
      "execution_count": null,
      "outputs": []
    },
    {
      "cell_type": "markdown",
      "source": [
        "### S3-1. 기본코드(전처리 미적용)용 커스텀 데이터셋 클래스 정의 : FarmBasicDataset"
      ],
      "metadata": {
        "id": "a3eaEe5wFGlv"
      }
    },
    {
      "cell_type": "code",
      "source": [
        "# # 농작물 병해 기본코드를 위한 데이터셋\n",
        "\n",
        "# class FarmBasicDataset(object):\n",
        "#     def __init__(self, transforms, path):\n",
        "#         '''\n",
        "#         path: path to train folder or test folder\n",
        "#         '''\n",
        "#         # transform module과 img path 경로를 정의\n",
        "#         self.transforms = transforms\n",
        "#         self.path = path\n",
        "#         self.imgs = list(sorted(os.listdir(self.path)))\n",
        "#         # print(self.path)\n",
        "#         # print(self.imgs)\n",
        "\n",
        "#     def __getitem__(self, idx): #special method\n",
        "#         # load images ad masks\n",
        "#         file_image = self.imgs[idx]\n",
        "#         file_label = self.imgs[idx][:-3] + 'json'\n",
        "#         img_path = os.path.join(self.path, file_image)\n",
        "        \n",
        "#         if 'val' in self.path:\n",
        "#             label_path = os.path.join(val_path+\"/annotations/\", file_label)\n",
        "#         else:\n",
        "#             label_path = os.path.join(train_path+\"/annotations/\", file_label)\n",
        "\n",
        "#         img = Image.open(img_path).convert(\"RGB\")\n",
        "\n",
        "#         # Generate Target\n",
        "#         target = generate_target(label_path)\n",
        "        \n",
        "#         if self.transforms is not None:\n",
        "#             img = self.transforms(img)\n",
        "\n",
        "#         # print(img.shape)\n",
        "#         # print(target.shape)\n",
        "\n",
        "#         return img, target\n",
        "\n",
        "#     def __len__(self): \n",
        "#         return len(self.imgs)\n",
        "\n",
        "# data_transform = transforms.Compose([  # transforms.Compose : list 내의 작업을 연달아 할 수 있게 호출하는 클래스\n",
        "#         transforms.ToTensor() # ToTensor : numpy 이미지에서 torch 이미지로 변경\n",
        "#     ])\n",
        "# '''\n",
        "# 추후에 데이터전처리와 관련된 작업 내용을 Compose에 추가해야 함\n",
        "# '''\n",
        "\n",
        "# def collate_fn(batch):\n",
        "#     return tuple(zip(*batch))\n",
        "\n",
        "# dataset = FarmBasicDataset(data_transform, train_path+'/images/')\n",
        "# test_dataset = FarmBasicDataset(data_transform, val_path+'/images/')\n",
        "\n",
        "# # 훈련용 데이터와 시험용 데이터를 batch단위로 불러올 수 있게 \n",
        "# # data_loader, test_data_loader를 각각 정의함\n",
        "# data_loader = torch.utils.data.DataLoader(dataset, batch_size=4, collate_fn=collate_fn)\n",
        "# test_data_loader = torch.utils.data.DataLoader(test_dataset, batch_size=2, collate_fn=collate_fn)"
      ],
      "metadata": {
        "id": "o5ASm9XU3o8K"
      },
      "execution_count": null,
      "outputs": []
    },
    {
      "cell_type": "markdown",
      "source": [
        "### S3-2. 데이터 전처리 적용 코드를 위한 커스텀 데이터셋 : \n",
        "* albumentation 적용"
      ],
      "metadata": {
        "id": "JjytmEwAFcZF"
      }
    },
    {
      "cell_type": "code",
      "source": [
        "# Albumentation 최신 버전 설치\n",
        "\n",
        "# ! pip install albumentations==0.5.2."
      ],
      "metadata": {
        "id": "ogs20-tVIIz7"
      },
      "execution_count": null,
      "outputs": []
    },
    {
      "cell_type": "code",
      "source": [
        "# 데이터셋 클래스 정의\n",
        "\n",
        "class AlbumentationsDataset(Dataset):\n",
        "    '''\n",
        "    torchvision 데이터셋과 비슷한 구조\n",
        "    cv2 모듈을 이용해 이미지를 읽고 RGB로 바꿔줌\n",
        "    이미지 변환을 실시한 후 결과값을 반환함\n",
        "    '''\n",
        "    \n",
        "    def __init__(self, transform, path):\n",
        "        print('path: ',path)\n",
        "        self.path = path\n",
        "        print('self.path: ',self.path)\n",
        "        self.imgs = list(sorted(os.listdir(self.path)))\n",
        "        print(\"self.imgs: \",self.imgs)\n",
        "        self.transform = transform\n",
        "        \n",
        "    def __len__(self):\n",
        "        return len(self.imgs)\n",
        "\n",
        "    def __getitem__(self, idx):\n",
        "        print(\"idx: \",idx)\n",
        "        file_image = self.imgs[idx]\n",
        "        file_label = self.imgs[idx][:-3] + 'json'\n",
        "        img_path = os.path.join(self.path, file_image)\n",
        "\n",
        "        print(file_label)\n",
        "\n",
        "        if 'val' in self.path:\n",
        "            label_path = os.path.join(val_path+\"/annotations/\", file_label)\n",
        "            print('test label_path:',label_path)\n",
        "        else:\n",
        "            label_path = os.path.join(train_path+\"/annotations/\", file_label)\n",
        "            print('train label_path: ',label_path)\n",
        "        \n",
        "        # albumentation을 위해 추가된 부분 (시작)\n",
        "\n",
        "        # Read an image with OpenCV\n",
        "        image = cv2.imread(img_path)\n",
        "        image = cv2.cvtColor(image, cv2.COLOR_BGR2RGB)\n",
        "        \n",
        "\n",
        "        target = generate_target(label_path)\n",
        "\n",
        "        if self.transform:\n",
        "            augmented = self.transform(image=image)\n",
        "            image = augmented['image']\n",
        "        \n",
        "        # albumentation을 위해 추가된 부분 (끝)\n",
        "            \n",
        "        return image, target\n",
        "\n",
        "# torchvision.transforms와 속도 비교를 위해 같은 함수들 사용해 처리\n",
        "# Same transform with torchvision_transform\n",
        "\n",
        "albumentations_transform = albumentations.Compose([\n",
        "    albumentations.Resize(300, 300), \n",
        "    albumentations.RandomCrop(224, 224),\n",
        "    albumentations.ColorJitter(p=1), \n",
        "    albumentations.HorizontalFlip(p=1), \n",
        "    albumentations.Normalize(mean=0.5, std=0.5),  # 훈련시 오류에 대한 처리부분\n",
        "    albumentations.pytorch.transforms.ToTensorV2()\n",
        "])\n",
        "\n",
        "def collate_fn(batch):\n",
        "    return tuple(zip(*batch))\n",
        "\n",
        "# 정의해 놓은 커스텀데이터셋 클래스(모델에 넘겨줄 학습용 또는 테스트용 \n",
        "# 데이터셋을 구성해 주기 위한 클래스 ) 사용해서 학습용, 테스트용 데이터셋을 구성\n",
        "# 매개변수는 앞에서 정의해 놓은 albumentation_transform과 경로\n",
        "dataset = AlbumentationsDataset(albumentations_transform, train_path+'/images/')\n",
        "print(\"train_path: \",train_path)\n",
        "test_dataset = AlbumentationsDataset(albumentations_transform, val_path+'/images/')\n",
        "print(\"test_path: \",val_path)\n",
        "\n",
        "# 훈련용 데이터와 시험용 데이터를 batch단위로 불러올 수 있게 \n",
        "# data_loader, test_data_loader를 각각 정의함\n",
        "# 매개변수는 데이터셋, 배치사이즈, collate_fn\n",
        "data_loader = torch.utils.data.DataLoader(dataset, batch_size=4, collate_fn=collate_fn)\n",
        "test_data_loader = torch.utils.data.DataLoader(test_dataset, batch_size=2, collate_fn=collate_fn)"
      ],
      "metadata": {
        "colab": {
          "base_uri": "https://localhost:8080/"
        },
        "id": "z1jrQHpIFcfy",
        "outputId": "662949b3-82ad-4d32-9b4f-8be63b0c9edf"
      },
      "execution_count": null,
      "outputs": [
        {
          "output_type": "stream",
          "name": "stdout",
          "text": [
            "path:  /content/drive/MyDrive/aiffelthon/FarmDataset/train/images/\n",
            "self.path:  /content/drive/MyDrive/aiffelthon/FarmDataset/train/images/\n",
            "self.imgs:  ['10043.jpg', '10045.jpg', '10063.jpg', '10090.jpg', '10109.jpg', '10115.jpg', '10117.jpg', '10118.jpg', '10124.jpg', '10169.jpg', '10199.jpg', '10201.jpg', '10224.jpg', '10251.jpg', '10252.jpg', '10263.jpg', '10274.jpg', '10300.jpg', '10304.jpg', '10328.jpg', '10345.jpg', '10348.jpg', '10365.jpg', '10369.jpg', '10418.jpg', '10419.jpg', '10421.jpg', '10442.jpg', '10478.jpg', '10480.jpg', '10496.jpg', '10505.jpg', '10513.jpg', '10519.jpg', '10525.jpg', '10540.jpg', '10546.jpg', '10549.jpg', '10601.jpg', '10612.jpg', '10635.jpg', '10649.jpg', '10652.jpg', '10653.jpg', '10677.jpg', '10682.jpg', '10693.jpg', '10706.jpg', '10733.jpg', '10738.jpg', '10764.jpg', '10813.jpg', '10817.jpg', '10826.jpg', '10828.jpg', '10834.jpg', '10847.jpg', '10850.jpg', '10851.jpg', '10858.jpg', '10862.jpg', '10864.jpg', '10879.jpg', '10880.jpg', '10882.jpg', '10908.jpg', '10922.jpg', '10927.jpg', '10945.jpg', '10950.jpg', '10970.jpg', '10983.jpg', '10991.jpg', '10997.jpg', '11003.jpg', '11040.jpg', '11045.jpg', '11050.jpg', '11058.jpg', '11107.jpg', '11119.jpg', '11122.jpg', '11134.jpg', '11138.jpg', '11148.jpg', '11149.jpg', '11159.jpg', '11165.jpg', '11179.jpg', '11198.jpg', '11221.jpg', '11233.jpg', '11242.jpg', '11292.jpg', '11295.jpg', '11314.jpg', '11321.jpg', '11333.jpg', '11335.jpg', '11346.jpg', '11350.jpg', '11358.jpg', '11364.jpg', '11400.jpg', '11402.jpg', '11403.jpg', '11409.jpg', '11449.jpg', '11470.jpg', '11485.jpg', '11492.jpg', '11497.jpg', '11498.jpg', '11523.jpg', '11526.jpg', '11533.jpg', '11537.jpg', '11542.jpg', '11558.jpg', '11568.jpg', '11618.jpg', '11622.jpg', '11644.jpg', '11648.jpg', '11655.jpg', '11664.jpg', '11673.jpg', '11715.jpg', '11724.jpg', '11738.jpg', '11740.jpg', '11744.jpg', '11759.jpg', '11766.jpg', '11768.jpg', '11773.jpg', '11777.jpg', '11785.jpg', '11798.jpg', '11804.jpg', '11860.jpg', '11864.jpg', '11895.jpg', '11931.jpg', '11936.jpg', '11942.jpg', '11943.jpg', '11945.jpg', '11951.jpg', '11977.jpg', '11978.jpg', '11990.jpg', '11995.jpg', '11997.jpg', '12010.jpg', '12045.jpg', '12054.jpg', '12055.jpg', '12063.jpg', '12136.jpg', '12148.jpg', '12152.jpg', '12158.jpg', '12173.jpg', '12179.jpg', '12185.jpg', '12190.jpg', '12197.jpg', '12214.jpg', '12217.jpg', '12231.jpg', '12232.jpg', '12253.jpg', '12256.jpg', '12258.jpg', '12276.jpg', '12283.jpg', '12285.jpg', '12294.jpg', '12310.jpg', '12344.jpg', '12348.jpg', '12356.jpg', '12361.jpg', '12446.jpg', '12448.jpg', '12452.jpg', '12455.jpg', '12470.jpg', '12476.jpg', '12483.jpg', '12485.jpg', '12515.jpg', '12522.jpg', '12536.jpg', '12543.jpg', '12550.jpg', '12576.jpg', '12589.jpg', '12591.jpg', '12598.jpg', '12655.jpg', '12679.jpg', '12692.jpg', '12696.jpg', '12698.jpg', '12712.jpg', '12721.jpg', '12727.jpg', '12738.jpg', '12748.jpg', '12770.jpg', '12797.jpg', '12817.jpg', '12827.jpg', '12838.jpg', '12841.jpg', '12842.jpg', '12891.jpg', '12892.jpg', '12905.jpg', '12922.jpg', '12928.jpg', '12949.jpg', '12961.jpg', '12978.jpg', '12982.jpg', '13019.jpg', '13033.jpg', '13036.jpg', '13054.jpg', '13056.jpg', '13061.jpg', '13071.jpg', '13082.jpg', '13135.jpg', '13141.jpg', '13143.jpg', '13145.jpg', '13156.jpg', '13167.jpg', '13183.jpg', '13186.jpg', '13193.jpg', '13196.jpg', '13203.jpg', '13217.jpg', '13224.jpg', '13229.jpg', '13240.jpg', '13249.jpg', '13252.jpg', '13271.jpg', '13273.jpg', '13298.jpg', '13300.jpg', '13305.jpg', '13320.jpg', '13356.jpg', '13364.jpg', '13392.jpg', '13413.jpg', '13426.jpg', '13452.jpg', '13454.jpg', '13478.jpg', '13483.jpg', '13488.jpg', '13492.jpg', '13502.jpg', '13506.jpg', '13514.jpg', '13521.jpg', '13532.jpg', '13583.jpg', '13599.jpg', '13601.jpg', '13614.jpg', '13644.jpg', '13658.jpg', '13674.jpg', '13679.jpg', '13691.jpg', '13709.jpg', '13719.jpg', '13721.jpg', '13726.jpg', '13741.jpg', '13748.jpg', '13761.jpg', '13794.jpg', '13813.jpg', '13816.jpg', '13818.jpg', '13820.jpg', '13828.jpg', '13845.jpg', '13848.jpg', '13863.jpg', '13885.jpg', '13895.jpg', '13932.jpg', '13945.jpg', '13980.jpg', '13983.jpg', '13986.jpg', '13993.jpg', '13998.jpg', '14003.jpg', '14017.jpg', '14035.jpg', '14050.jpg', '14082.jpg', '14093.jpg', '14119.jpg', '14142.jpg', '14148.jpg', '14163.jpg', '14164.jpg', '14168.jpg', '14178.jpg', '14179.jpg', '14187.jpg', '14223.jpg', '14239.jpg', '14247.jpg', '14248.jpg', '14273.jpg', '14275.jpg', '14291.jpg', '14314.jpg', '14322.jpg', '14324.jpg', '14353.jpg', '14358.jpg', '14363.jpg', '14369.jpg', '14405.jpg', '14411.jpg', '14417.jpg', '14419.jpg', '14438.jpg', '14468.jpg', '14471.jpg', '14481.jpg', '14495.jpg', '14498.jpg', '14507.jpg', '14518.jpg', '14529.jpg', '14545.jpg', '14585.jpg', '14601.jpg', '14623.jpg', '14649.jpg', '14659.jpg', '14669.jpg', '14694.jpg', '14702.jpg', '14722.jpg', '14723.jpg', '14756.jpg', '14780.jpg', '14812.jpg', '14824.jpg', '14835.jpg', '14841.jpg', '14873.jpg', '14879.jpg', '14926.jpg', '14943.jpg', '14949.jpg', '14955.jpg', '14957.jpg', '14963.jpg', '14965.jpg', '14966.jpg', '14968.jpg', '14975.jpg', '14986.jpg', '14994.jpg', '15010.jpg', '15014.jpg', '15019.jpg', '15022.jpg', '15043.jpg', '15072.jpg', '15089.jpg', '15097.jpg', '15109.jpg', '15129.jpg', '15131.jpg', '15132.jpg', '15141.jpg', '15152.jpg', '15156.jpg', '15176.jpg', '15201.jpg', '15218.jpg', '15227.jpg', '15232.jpg', '15236.jpg', '15239.jpg', '15245.jpg', '15263.jpg', '15267.jpg', '15273.jpg', '15295.jpg', '15328.jpg', '15362.jpg', '15368.jpg', '15379.jpg', '15381.jpg', '15391.jpg', '15405.jpg', '15411.jpg', '15416.jpg', '15427.jpg', '15435.jpg', '15436.jpg', '15452.jpg', '15468.jpg', '15486.jpg', '15491.jpg', '15493.jpg', '15497.jpg', '15503.jpg', '15507.jpg', '15509.jpg', '15512.jpg', '15519.jpg', '15521.jpg', '15575.jpg', '15582.jpg', '15586.jpg', '15596.jpg', '15598.jpg', '15624.jpg', '15633.jpg', '15674.jpg', '15676.jpg', '15684.jpg', '15692.jpg', '15702.jpg', '15710.jpg', '15716.jpg', '15738.jpg', '15742.jpg', '15765.jpg', '15767.jpg', '15776.jpg', '15778.jpg', '15782.jpg', '15801.jpg', '15802.jpg', '15805.jpg', '15843.jpg', '15846.jpg', '15861.jpg', '15873.jpg', '15880.jpg', '15892.jpg', '15905.jpg', '15909.jpg', '15911.jpg', '15914.jpg', '15918.jpg', '15943.jpg', '15959.jpg', '15967.jpg', '15978.jpg', '15993.jpg', '16005.jpg', '16045.jpg', '16075.jpg', '16076.jpg', '16080.jpg', '16105.jpg', '16112.jpg', '16113.jpg', '16115.jpg', '16125.jpg', '16150.jpg', '16195.jpg', '16197.jpg', '16203.jpg', '16225.jpg', '16234.jpg', '16238.jpg', '16246.jpg', '16266.jpg', '16269.jpg', '16290.jpg', '16291.jpg', '16298.jpg', '16300.jpg', '16308.jpg', '16335.jpg', '16350.jpg', '16362.jpg', '16395.jpg', '16402.jpg', '16423.jpg', '16427.jpg', '16437.jpg', '16455.jpg', '16469.jpg', '16485.jpg', '16486.jpg', '16491.jpg', '16503.jpg', '16505.jpg', '16523.jpg', '16531.jpg', '16554.jpg', '16556.jpg', '16568.jpg', '16571.jpg', '16577.jpg', '16587.jpg', '16603.jpg', '16604.jpg', '16606.jpg', '16607.jpg', '16609.jpg', '16621.jpg', '16626.jpg', '16647.jpg', '16651.jpg', '16652.jpg', '16675.jpg', '16678.jpg', '16729.jpg', '16737.jpg', '16746.jpg', '16748.jpg', '16752.jpg', '16757.jpg', '16758.jpg', '16759.jpg', '16767.jpg', '16776.jpg', '16796.jpg', '16811.jpg', '16821.jpg', '16842.jpg', '16845.jpg', '16866.jpg', '16884.jpg', '16938.jpg', '16947.jpg', '16951.jpg', '16958.jpg', '16962.jpg', '16963.jpg', '16979.jpg', '16983.jpg', '16985.jpg', '16992.jpg', '17006.jpg', '17017.jpg', '17026.jpg', '17055.jpg', '17061.jpg', '17067.jpg', '17079.jpg', '17117.jpg', '17119.jpg', '17125.jpg', '17126.jpg', '17127.jpg', '17129.jpg', '17135.jpg', '17160.jpg', '17183.jpg', '17187.jpg', '17188.jpg', '17205.jpg', '17223.jpg', '17232.jpg', '17251.jpg', '17259.jpg', '17261.jpg', '17266.jpg', '17300.jpg', '17305.jpg', '17316.jpg', '17324.jpg', '17327.jpg', '17328.jpg', '17332.jpg', '17334.jpg', '17341.jpg', '17344.jpg', '17346.jpg', '17349.jpg', '17368.jpg', '17370.jpg', '17401.jpg', '17420.jpg', '17427.jpg', '17428.jpg', '17442.jpg', '17446.jpg', '17451.jpg', '17463.jpg', '17465.jpg', '17482.jpg', '17487.jpg', '17497.jpg', '17508.jpg', '17521.jpg', '17534.jpg', '17551.jpg', '17569.jpg', '17575.jpg', '17579.jpg', '17580.jpg', '17592.jpg', '17595.jpg', '17603.jpg', '17607.jpg', '17608.jpg', '17627.jpg', '17633.jpg', '17638.jpg', '17665.jpg', '17681.jpg', '17714.jpg', '17752.jpg', '17768.jpg', '17788.jpg', '17816.jpg', '17835.jpg', '17836.jpg', '17839.jpg', '17842.jpg', '17849.jpg', '17851.jpg', '17862.jpg', '17883.jpg', '17902.jpg', '17917.jpg', '17918.jpg', '17953.jpg', '17962.jpg', '17968.jpg', '17989.jpg', '18009.jpg', '18017.jpg', '18042.jpg', '18055.jpg', '18063.jpg', '18064.jpg', '18088.jpg', '18094.jpg', '18095.jpg', '18109.jpg', '18110.jpg', '18119.jpg', '18129.jpg', '18132.jpg', '18145.jpg', '18146.jpg', '18154.jpg', '18199.jpg', '18212.jpg', '18248.jpg', '18257.jpg', '18267.jpg', '18273.jpg', '18302.jpg', '18321.jpg', '18329.jpg', '18333.jpg', '18343.jpg', '18352.jpg', '18391.jpg', '18408.jpg', '18418.jpg', '18441.jpg', '18450.jpg', '18459.jpg', '18480.jpg', '18496.jpg', '18525.jpg', '18529.jpg', '18559.jpg', '18575.jpg', '18590.jpg', '18591.jpg', '18619.jpg', '18633.jpg', '18644.jpg', '18648.jpg', '18649.jpg', '18652.jpg', '18672.jpg', '18683.jpg', '18686.jpg', '18696.jpg', '18697.jpg', '18713.jpg', '18718.jpg', '18724.jpg', '18733.jpg', '18741.jpg', '18751.jpg', '18753.jpg', '18755.jpg', '18787.jpg', '18788.jpg', '18804.jpg', '18831.jpg', '18841.jpg', '18848.jpg', '18867.jpg', '18870.jpg', '18875.jpg', '18897.jpg', '18910.jpg', '18934.jpg', '18949.jpg', '18951.jpg', '18958.jpg', '18961.jpg', '18974.jpg', '18978.jpg', '18980.jpg', '18982.jpg', '18996.jpg', '19011.jpg', '19016.jpg', '19019.jpg', '19048.jpg', '19060.jpg', '19076.jpg', '19093.jpg', '19111.jpg', '19120.jpg', '19132.jpg', '19143.jpg', '19158.jpg', '19162.jpg', '19163.jpg', '19165.jpg', '19166.jpg', '19167.jpg', '19169.jpg', '19175.jpg', '19178.jpg', '19189.jpg', '19235.jpg', '19238.jpg', '19242.jpg', '19250.jpg', '19255.jpg', '19271.jpg', '19275.jpg', '19288.jpg', '19290.jpg', '19303.jpg', '19305.jpg', '19340.jpg', '19356.jpg', '19362.jpg', '19371.jpg', '19403.jpg', '19405.jpg', '19446.jpg', '19452.jpg', '19453.jpg', '19455.jpg', '19471.jpg', '19492.jpg', '19496.jpg', '19503.jpg', '19507.jpg', '19511.jpg', '19516.jpg', '19519.jpg', '19541.jpg', '19543.jpg', '19546.jpg', '19551.jpg', '19558.jpg', '19560.jpg', '19574.jpg', '19580.jpg', '19586.jpg', '19588.jpg', '19598.jpg', '19605.jpg', '19619.jpg', '19634.jpg', '19645.jpg', '19648.jpg', '19667.jpg', '19682.jpg', '19693.jpg', '19697.jpg', '19699.jpg', '19705.jpg', '19710.jpg', '19712.jpg', '19741.jpg', '19749.jpg', '19755.jpg', '19758.jpg', '19763.jpg', '19769.jpg', '19777.jpg', '19791.jpg', '19794.jpg', '19797.jpg', '19801.jpg', '19802.jpg', '19845.jpg', '19862.jpg', '19868.jpg', '19899.jpg', '19905.jpg', '19906.jpg', '19938.jpg', '19939.jpg', '19942.jpg', '19964.jpg', '19989.jpg', '19998.jpg', '20011.jpg', '20015.jpg', '20028.jpg', '20040.jpg', '20041.jpg', '20048.jpg', '20065.jpg', '20068.jpg', '20071.jpg', '20088.jpg', '20089.jpg', '20095.jpg', '20120.jpg', '20128.jpg', '20144.jpg', '20181.jpg', '20183.jpg', '20188.jpg', '20191.jpg', '20195.jpg', '20205.jpg', '20206.jpg', '20213.jpg', '20218.jpg', '20225.jpg', '20237.jpg', '20246.jpg', '20249.jpg', '20259.jpg', '20291.jpg', '20292.jpg', '20298.jpg', '20326.jpg', '20328.jpg', '20359.jpg', '20360.jpg', '20363.jpg', '20364.jpg', '20404.jpg', '20405.jpg', '20422.jpg', '20423.jpg', '20430.jpg', '20431.jpg', '20442.jpg', '20452.jpg', '20457.jpg', '20471.jpg', '20482.jpg', '20495.jpg', '20523.jpg', '20524.jpg', '20563.jpg', '20570.jpg', '20589.jpg', '20609.jpg', '20610.jpg', '20624.jpg', '20627.jpg', '20629.jpg', '20638.jpg', '20643.jpg', '20664.jpg', '20678.jpg', '20687.jpg', '20693.jpg', '20695.jpg', '20708.jpg', '20714.jpg', '20716.jpg', '20718.jpg', '20721.jpg', '20727.jpg', '20733.jpg', '20735.jpg', '20749.jpg', '20767.jpg', '20779.jpg', '20793.jpg', '20807.jpg', '20824.jpg', '20837.jpg', '20844.jpg', '20863.jpg', '20906.jpg', '20907.jpg', '20950.jpg', '20963.jpg', '20968.jpg', '20978.jpg', '20990.jpg', '21011.jpg', '21025.jpg', '21028.jpg', '21037.jpg', '21038.jpg', '21067.jpg', '21076.jpg', '21083.jpg', '21100.jpg', '21107.jpg', '21120.jpg', '21145.jpg', '21171.jpg', '21172.jpg', '21174.jpg', '21215.jpg', '21232.jpg', '21251.jpg', '21253.jpg', '21254.jpg', '21260.jpg', '21262.jpg', '21265.jpg', '21298.jpg', '21323.jpg', '21335.jpg', '21345.jpg', '21347.jpg', '21348.jpg', '21349.jpg', '21361.jpg', '21379.jpg', '21388.jpg', '21405.jpg', '21419.jpg', '21506.jpg', '21537.jpg', '21585.jpg', '21597.jpg', '21615.jpg', '21622.jpg', '21638.jpg', '21655.jpg', '21670.jpg', '21682.jpg', '21797.jpg', '21801.jpg', '21804.jpg', '21811.jpg', '21813.jpg', '21822.jpg', '21849.jpg', '21867.jpg', '21873.jpg', '21874.jpg', '21880.jpg', '21886.jpg', '21899.jpg', '21914.jpg', '21922.jpg', '21952.jpg', '21953.jpg', '21972.jpg', '21979.jpg', '21984.jpg', '22004.jpg', '22010.jpg', '22026.jpg', '22036.jpg', '22060.jpg', '22067.jpg', '22069.jpg', '22086.jpg', '22095.jpg', '22096.jpg', '22098.jpg', '22101.jpg', '22186.jpg', '22187.jpg', '22200.jpg', '22201.jpg', '22206.jpg', '22207.jpg', '22217.jpg', '22220.jpg', '22225.jpg', '22262.jpg', '22265.jpg', '22285.jpg', '22287.jpg', '22315.jpg', '22324.jpg', '22352.jpg', '22407.jpg', '22425.jpg', '22441.jpg', '22443.jpg', '22454.jpg', '22480.jpg', '22483.jpg', '22497.jpg', '22502.jpg', '22509.jpg', '22514.jpg', '22522.jpg', '22574.jpg', '22576.jpg', '22582.jpg', '22598.jpg', '22599.jpg', '22600.jpg', '22623.jpg', '22629.jpg', '22631.jpg', '22634.jpg', '22648.jpg', '22684.jpg', '22707.jpg', '22709.jpg', '22724.jpg', '22726.jpg', '22742.jpg', '22752.jpg', '22761.jpg', '22765.jpg', '22769.jpg', '22776.jpg', '22784.jpg', '22789.jpg', '22794.jpg', '22799.jpg', '22821.jpg', '22823.jpg', '22847.jpg', '22849.jpg', '22858.jpg', '22860.jpg', '22866.jpg', '22879.jpg', '22890.jpg', '22892.jpg', '22908.jpg', '22926.jpg', '22935.jpg', '22952.jpg', '22955.jpg', '22959.jpg', '22960.jpg', '22964.jpg', '22971.jpg', '22976.jpg', '22982.jpg', '22985.jpg', '22988.jpg', '22993.jpg', '22997.jpg', '22999.jpg', '23000.jpg', '23005.jpg', '23016.jpg', '23031.jpg', '23067.jpg', '23071.jpg', '23073.jpg', '23075.jpg', '23091.jpg', '23185.jpg', '23190.jpg', '23216.jpg', '23249.jpg', '23252.jpg', '23254.jpg', '23260.jpg', '23313.jpg', '23323.jpg', '23325.jpg', '23326.jpg', '23344.jpg', '23358.jpg', '23389.jpg', '23404.jpg', '23415.jpg', '23416.jpg', '23426.jpg', '23428.jpg', '23433.jpg', '23443.jpg', '23458.jpg', '23459.jpg', '23464.jpg', '23467.jpg', '23471.jpg', '23472.jpg', '23476.jpg', '23479.jpg', '23483.jpg', '23491.jpg', '23501.jpg', '23520.jpg', '23521.jpg', '23528.jpg', '23537.jpg', '23538.jpg', '23539.jpg', '23561.jpg', '23570.jpg', '23580.jpg', '23582.jpg', '23584.jpg', '23610.jpg', '23636.jpg', '23639.jpg', '23651.jpg', '23659.jpg', '23669.jpg', '23681.jpg', '23692.jpg', '23697.jpg', '23710.jpg', '23721.jpg', '23742.jpg', '23754.jpg', '23767.jpg', '23771.jpg', '23784.jpg', '23797.jpg', '23812.jpg', '23837.jpg', '23843.jpg', '23853.jpg', '23860.jpg', '23863.jpg', '23867.jpg', '23881.jpg', '23886.jpg', '23898.jpg', '23901.jpg', '23927.jpg', '23955.jpg', '24016.jpg', '24019.jpg', '24043.jpg', '24046.jpg', '24052.jpg', '24061.jpg', '24063.jpg', '24081.jpg', '24087.jpg', '24095.jpg', '24126.jpg', '24129.jpg', '24143.jpg', '24145.jpg', '24177.jpg', '24189.jpg', '24198.jpg', '24207.jpg', '24219.jpg', '24229.jpg', '24285.jpg', '24287.jpg', '24304.jpg', '24313.jpg', '24323.jpg', '24335.jpg', '24337.jpg', '24342.jpg', '24352.jpg', '24354.jpg', '24360.jpg', '24372.jpg', '24373.jpg', '24408.jpg', '24411.jpg', '24412.jpg', '24428.jpg', '24436.jpg', '24440.jpg', '24443.jpg', '24465.jpg', '24474.jpg', '24481.jpg', '24487.jpg', '24501.jpg', '24518.jpg', '24534.jpg', '24540.jpg', '24542.jpg', '24569.jpg', '24616.jpg', '24624.jpg', '24630.jpg', '24633.jpg', '24637.jpg', '24643.jpg', '24677.jpg', '24706.jpg', '24717.jpg', '24730.jpg', '24736.jpg', '24740.jpg', '24742.jpg', '24748.jpg', '24751.jpg', '24753.jpg', '24795.jpg', '24798.jpg', '24804.jpg', '24807.jpg', '24820.jpg', '24857.jpg', '24861.jpg', '24864.jpg', '24887.jpg', '24890.jpg', '24899.jpg', '24903.jpg', '24931.jpg', '24942.jpg', '24948.jpg', '24958.jpg', '24972.jpg', '25018.jpg', '25019.jpg', '25028.jpg', '25038.jpg', '25040.jpg', '25041.jpg', '25051.jpg', '25056.jpg', '25062.jpg', '25068.jpg', '25082.jpg', '25085.jpg', '25096.jpg', '25099.jpg', '25102.jpg', '25106.jpg', '25123.jpg', '25131.jpg', '25145.jpg', '25151.jpg', '25159.jpg', '25166.jpg', '25174.jpg', '25177.jpg', '25183.jpg', '25225.jpg', '25266.jpg', '25279.jpg', '25314.jpg', '25322.jpg', '25332.jpg', '25338.jpg', '25345.jpg', '25380.jpg', '25386.jpg', '25402.jpg', '25408.jpg', '25419.jpg', '25437.jpg', '25451.jpg', '25487.jpg', '25489.jpg', '25517.jpg', '25526.jpg', '25560.jpg', '25565.jpg', '25566.jpg', '25571.jpg', '25606.jpg', '25640.jpg', '25644.jpg', '25670.jpg', '25671.jpg', '25685.jpg', '25689.jpg', '25693.jpg', '25698.jpg', '25702.jpg', '25713.jpg', '25730.jpg', '25770.jpg', '25782.jpg', '25796.jpg', '25800.jpg', '25807.jpg', '25817.jpg', '25859.jpg', '25876.jpg', '25884.jpg', '25899.jpg', '25910.jpg', '25912.jpg', '25928.jpg', '25932.jpg', '25940.jpg', '25948.jpg', '25971.jpg', '25980.jpg', '25982.jpg', '25988.jpg', '25994.jpg', '25998.jpg', '26001.jpg', '26010.jpg', '26019.jpg', '26071.jpg', '26099.jpg', '26108.jpg', '26118.jpg', '26120.jpg', '26129.jpg', '26143.jpg', '26151.jpg', '26185.jpg', '26202.jpg', '26203.jpg', '26234.jpg', '26247.jpg', '26252.jpg', '26254.jpg', '26297.jpg', '26300.jpg', '26313.jpg', '26321.jpg', '26330.jpg', '26340.jpg', '26384.jpg', '26391.jpg', '26400.jpg', '26411.jpg', '26438.jpg', '26443.jpg', '26446.jpg', '26464.jpg', '26501.jpg', '26514.jpg', '26547.jpg', '26552.jpg', '26553.jpg', '26565.jpg', '26586.jpg', '26602.jpg', '26617.jpg', '26622.jpg', '26636.jpg', '26684.jpg', '26699.jpg', '26731.jpg', '26736.jpg', '26749.jpg', '26753.jpg', '26756.jpg', '26760.jpg', '26777.jpg', '26781.jpg', '26784.jpg', '26798.jpg', '26801.jpg', '26875.jpg', '26887.jpg', '26898.jpg', '26899.jpg', '26923.jpg', '26950.jpg', '26954.jpg', '26955.jpg', '26962.jpg', '26968.jpg', '26998.jpg', '27013.jpg', '27021.jpg', '27022.jpg', '27029.jpg', '27073.jpg', '27074.jpg', '27075.jpg', '27076.jpg', '27080.jpg', '27089.jpg', '27105.jpg', '27120.jpg', '27127.jpg', '27137.jpg', '27141.jpg', '27145.jpg', '27158.jpg', '27165.jpg', '27176.jpg', '27184.jpg', '27195.jpg', '27229.jpg', '27233.jpg', '27260.jpg', '27315.jpg', '27321.jpg', '27323.jpg', '27345.jpg', '27413.jpg', '27442.jpg', '27449.jpg', '27464.jpg', '27472.jpg', '27476.jpg', '27482.jpg', '27496.jpg', '27507.jpg', '27522.jpg', '27523.jpg', '27528.jpg', '27536.jpg', '27539.jpg', '27556.jpg', '27576.jpg', '27591.jpg', '27594.jpg', '27602.jpg', '27612.jpg', '27629.jpg', '27675.jpg', '27706.jpg', '27714.jpg', '27743.jpg', '27745.jpg', '27773.jpg', '27774.jpg', '27800.jpg', '27801.jpg', '27814.jpg', '27818.jpg', '27831.jpg', '27837.jpg', '27860.jpg', '27862.jpg', '27870.jpg', '27874.jpg', '27879.jpg', '27897.jpg', '27899.jpg', '27919.jpg', '27934.jpg', '27945.jpg', '27951.jpg', '27963.jpg', '27978.jpg', '27981.jpg', '27990.jpg', '27998.jpg', '28002.jpg', '28014.jpg', '28078.jpg', '28091.jpg', '28123.jpg', '28140.jpg', '28182.jpg', '28183.jpg', '28184.jpg', '28237.jpg', '28240.jpg', '28257.jpg', '28264.jpg', '28275.jpg', '28295.jpg', '28304.jpg', '28322.jpg', '28326.jpg', '28330.jpg', '28331.jpg', '28332.jpg', '28340.jpg', '28368.jpg', '28375.jpg', '28390.jpg', '28393.jpg', '28435.jpg', '28437.jpg', '28447.jpg', '28480.jpg', '28484.jpg', '28489.jpg', '28520.jpg', '28545.jpg', '28549.jpg', '28557.jpg', '28558.jpg', '28576.jpg', '28612.jpg', '28629.jpg', '28640.jpg', '28649.jpg', '28674.jpg', '28678.jpg', '28690.jpg', '28718.jpg', '28735.jpg', '28740.jpg', '28748.jpg', '28775.jpg', '28780.jpg', '28794.jpg', '28801.jpg', '28846.jpg', '28905.jpg', '28909.jpg', '28921.jpg', '28968.jpg', '28981.jpg', '28995.jpg', '29006.jpg', '29009.jpg', '29040.jpg', '29043.jpg', '29058.jpg', '29071.jpg', '29100.jpg', '29119.jpg', '29130.jpg', '29155.jpg', '29188.jpg', '29218.jpg', '29223.jpg', '29282.jpg', '29311.jpg', '29334.jpg', '29347.jpg', '29368.jpg', '29369.jpg', '29407.jpg', '29450.jpg', '29454.jpg', '29461.jpg', '29463.jpg', '29480.jpg', '29513.jpg', '29528.jpg', '29531.jpg', '29539.jpg', '29540.jpg', '29561.jpg', '29563.jpg', '29567.jpg', '29577.jpg', '29580.jpg', '29594.jpg', '29618.jpg', '29639.jpg', '29656.jpg', '29684.jpg', '29693.jpg', '29695.jpg', '29696.jpg', '29722.jpg', '29727.jpg', '29760.jpg', '29762.jpg', '29767.jpg', '29788.jpg', '29809.jpg', '29837.jpg', '29851.jpg', '29854.jpg', '29862.jpg', '29886.jpg', '29888.jpg', '29893.jpg', '29899.jpg', '29904.jpg', '29906.jpg', '29909.jpg', '29910.jpg', '29915.jpg', '29927.jpg', '29939.jpg', '29941.jpg', '29942.jpg', '29943.jpg', '29945.jpg', '29954.jpg', '29956.jpg', '29965.jpg', '29969.jpg', '29971.jpg', '29995.jpg', '30005.jpg', '30013.jpg', '30027.jpg', '30035.jpg', '30040.jpg', '30042.jpg', '30051.jpg', '30064.jpg', '30075.jpg', '30099.jpg', '30152.jpg', '30153.jpg', '30228.jpg', '30231.jpg', '30236.jpg', '30242.jpg', '30247.jpg', '30252.jpg', '30255.jpg', '30336.jpg', '30342.jpg', '30369.jpg', '30373.jpg', '30404.jpg', '30422.jpg', '30429.jpg', '30448.jpg', '30456.jpg', '30464.jpg', '30468.jpg', '30472.jpg', '30473.jpg', '30478.jpg', '30484.jpg', '30485.jpg', '30512.jpg', '30536.jpg', '30544.jpg', '30546.jpg', '30557.jpg', '30568.jpg', '30569.jpg', '30587.jpg', '30609.jpg', '30610.jpg', '30631.jpg', '30642.jpg', '30646.jpg', '30653.jpg', '30696.jpg', '30711.jpg', '30731.jpg', '30732.jpg', '30737.jpg', '30739.jpg', '30751.jpg', '30767.jpg', '30784.jpg', '30798.jpg', '30829.jpg', '30844.jpg', '30849.jpg', '30867.jpg', '30875.jpg', '30879.jpg', '30889.jpg', '30903.jpg', '30945.jpg', '30947.jpg', '30948.jpg', '30964.jpg', '30975.jpg', '30981.jpg', '30992.jpg', '31001.jpg', '31027.jpg', '31063.jpg', '31069.jpg', '31072.jpg', '31101.jpg', '31103.jpg', '31111.jpg', '31130.jpg', '31138.jpg', '31143.jpg', '31148.jpg', '31161.jpg', '31167.jpg', '31196.jpg', '31205.jpg', '31206.jpg', '31216.jpg', '31251.jpg', '31261.jpg', '31264.jpg', '31314.jpg', '31320.jpg', '31321.jpg', '31327.jpg', '31334.jpg', '31335.jpg', '31368.jpg', '31388.jpg', '31395.jpg', '31438.jpg', '31442.jpg', '31460.jpg', '31467.jpg', '31478.jpg', '31492.jpg', '31500.jpg', '31502.jpg', '31511.jpg', '31514.jpg', '31551.jpg', '31553.jpg', '31579.jpg', '31581.jpg', '31589.jpg', '31595.jpg', '31597.jpg', '31610.jpg', '31611.jpg', '31613.jpg', '31647.jpg', '31679.jpg', '31680.jpg', '31685.jpg', '31691.jpg', '31708.jpg', '31723.jpg', '31731.jpg', '31744.jpg', '31754.jpg', '31756.jpg', '31760.jpg', '31769.jpg', '31785.jpg', '31787.jpg', '31812.jpg', '31837.jpg', '31847.jpg', '31849.jpg', '31867.jpg', '31886.jpg', '31911.jpg', '31913.jpg', '31951.jpg', '31955.jpg', '31962.jpg', '31976.jpg', '31980.jpg', '31982.jpg', '31993.jpg', '31998.jpg', '32018.jpg', '32022.jpg', '32027.jpg', '32035.jpg', '32044.jpg', '32084.jpg', '32112.jpg', '32138.jpg', '32139.jpg', '32141.jpg', '32147.jpg', '32161.jpg', '32165.jpg', '32166.jpg', '32181.jpg', '32186.jpg', '32187.jpg', '32213.jpg', '32220.jpg', '32233.jpg', '32239.jpg', '32255.jpg', '32280.jpg', '32281.jpg', '32291.jpg', '32298.jpg', '32302.jpg', '32307.jpg', '32313.jpg', '32336.jpg', '32349.jpg', '32363.jpg', '32377.jpg', '32394.jpg', '32401.jpg', '32432.jpg', '32448.jpg', '32459.jpg', '32460.jpg', '32463.jpg', '32469.jpg', '32476.jpg', '32498.jpg', '32499.jpg', '32502.jpg', '32508.jpg', '32522.jpg', '32527.jpg', '32542.jpg', '32549.jpg', '32607.jpg', '32624.jpg', '32629.jpg', '32639.jpg', '32653.jpg', '32710.jpg', '32734.jpg', '32737.jpg', '32771.jpg', '32785.jpg', '32791.jpg', '32827.jpg', '32830.jpg', '32834.jpg', '32839.jpg', '32843.jpg', '32846.jpg', '32847.jpg', '32849.jpg', '32860.jpg', '32879.jpg', '32893.jpg', '32895.jpg', '32902.jpg', '32906.jpg', '32917.jpg', '32926.jpg', '32937.jpg', '32947.jpg', '32951.jpg', '32957.jpg', '32998.jpg', '33039.jpg', '33040.jpg', '33043.jpg', '33049.jpg', '33055.jpg', '33068.jpg', '33076.jpg', '33082.jpg', '33109.jpg', '33142.jpg', '33150.jpg', '33179.jpg', '33188.jpg', '33205.jpg', '33218.jpg', '33223.jpg', '33234.jpg', '33262.jpg', '33272.jpg', '33283.jpg', '33314.jpg', '33320.jpg', '33322.jpg', '33328.jpg', '33343.jpg', '33355.jpg', '33366.jpg', '33369.jpg', '33371.jpg', '33378.jpg', '33412.jpg', '33416.jpg', '33426.jpg', '33433.jpg', '33441.jpg', '33445.jpg', '33451.jpg', '33464.jpg', '33502.jpg', '33506.jpg', '33518.jpg', '33537.jpg', '33608.jpg', '33617.jpg', '33637.jpg', '33662.jpg', '33666.jpg', '33667.jpg', '33677.jpg', '33696.jpg', '33705.jpg', '33707.jpg', '33733.jpg', '33774.jpg', '33794.jpg', '33799.jpg', '33807.jpg', '33809.jpg', '33828.jpg', '33841.jpg', '33846.jpg', '33859.jpg', '33871.jpg', '33873.jpg', '33886.jpg', '33898.jpg', '33901.jpg', '33928.jpg', '33930.jpg', '33969.jpg', '33970.jpg', '33974.jpg', '33978.jpg', '33983.jpg', '33987.jpg', '33999.jpg', '34005.jpg', '34011.jpg', '34013.jpg', '34025.jpg', '34031.jpg', '34032.jpg', '34045.jpg', '34047.jpg', '34056.jpg', '34064.jpg', '34068.jpg', '34075.jpg', '34088.jpg', '34115.jpg', '34117.jpg', '34122.jpg', '34125.jpg', '34128.jpg', '34129.jpg', '34133.jpg', '34147.jpg', '34148.jpg', '34155.jpg', '34168.jpg', '34178.jpg', '34184.jpg', '34186.jpg', '34188.jpg', '34199.jpg', '34214.jpg', '34227.jpg', '34260.jpg', '34265.jpg', '34272.jpg', '34283.jpg', '34284.jpg', '34289.jpg', '34293.jpg', '34341.jpg', '34417.jpg', '34436.jpg', '34450.jpg', '34465.jpg', '34480.jpg', '34491.jpg', '34504.jpg', '34508.jpg', '34549.jpg', '34550.jpg', '34579.jpg', '34600.jpg', '34617.jpg', '34618.jpg', '34626.jpg', '34636.jpg', '34653.jpg', '34667.jpg', '34672.jpg', '34674.jpg', '34682.jpg', '34684.jpg', '34699.jpg', '34780.jpg', '34787.jpg', '34807.jpg', '34817.jpg', '34838.jpg', '34844.jpg', '34852.jpg', '34862.jpg', '34866.jpg', '34872.jpg', '34878.jpg', '34898.jpg', '34927.jpg', '34942.jpg', '34966.jpg', '34967.jpg', '34972.jpg', '34978.jpg', '34995.jpg', '35008.jpg', '35019.jpg', '35043.jpg', '35067.jpg', '35080.jpg', '35089.jpg', '35118.jpg', '35119.jpg', '35133.jpg', '35134.jpg', '35150.jpg', '35173.jpg', '35174.jpg', '35175.jpg', '35179.jpg', '35195.jpg', '35230.jpg', '35269.jpg', '35290.jpg', '35326.jpg', '35330.jpg', '35345.jpg', '35359.jpg', '35367.jpg', '35368.jpg', '35379.jpg', '35382.jpg', '35385.jpg', '35386.jpg', '35402.jpg', '35425.jpg', '35447.jpg', '35478.jpg', '35495.jpg', '35515.jpg', '35516.jpg', '35517.jpg', '35531.jpg', '35546.jpg', '35555.jpg', '35559.jpg', '35568.jpg', '35579.jpg', '35587.jpg', '35601.jpg', '35612.jpg', '35630.jpg', '35695.jpg', '35702.jpg', '35771.jpg', '35772.jpg', '35773.jpg', '35790.jpg', '35791.jpg', '35808.jpg', '35809.jpg', '35816.jpg', '35831.jpg', '35853.jpg', '35855.jpg', '35859.jpg', '35880.jpg', '35898.jpg', '35903.jpg', '35932.jpg', '35940.jpg', '35972.jpg', '35982.jpg', '36015.jpg', '36025.jpg', '36049.jpg', '36060.jpg', '36088.jpg', '36092.jpg', '36093.jpg', '36097.jpg', '36141.jpg', '36145.jpg', '36154.jpg', '36160.jpg', '36167.jpg', '36208.jpg', '36219.jpg', '36224.jpg', '36240.jpg', '36251.jpg', '36262.jpg', '36294.jpg', '36321.jpg', '36326.jpg', '36357.jpg', '36387.jpg', '36391.jpg', '36398.jpg', '36416.jpg', '36417.jpg', '36434.jpg', '36449.jpg', '36465.jpg', '36466.jpg', '36473.jpg', '36474.jpg', '36480.jpg', '36522.jpg', '36524.jpg', '36541.jpg', '36545.jpg', '36579.jpg', '36605.jpg', '36616.jpg', '36649.jpg', '36659.jpg', '36675.jpg', '36681.jpg', '36713.jpg', '36732.jpg', '36767.jpg', '36777.jpg', '36780.jpg', '36788.jpg', '36819.jpg', '36847.jpg', '36849.jpg', '36876.jpg', '36883.jpg', '36920.jpg', '36931.jpg', '36936.jpg', '36951.jpg', '36959.jpg', '36981.jpg', '36990.jpg', '37004.jpg', '37009.jpg', '37029.jpg', '37033.jpg', '37037.jpg', '37058.jpg', '37068.jpg', '37149.jpg', '37159.jpg', '37169.jpg', '37177.jpg', '37178.jpg', '37187.jpg', '37192.jpg', '37216.jpg', '37220.jpg', '37236.jpg', '37242.jpg', '37257.jpg', '37342.jpg', '37377.jpg', '37378.jpg', '37381.jpg', '37394.jpg', '37410.jpg', '37424.jpg', '37443.jpg', '37467.jpg', '37473.jpg', '37481.jpg', '37501.jpg', '37503.jpg', '37506.jpg', '37508.jpg', '37511.jpg', '37516.jpg', '37530.jpg', '37536.jpg', '37541.jpg', '37543.jpg', '37566.jpg', '37575.jpg', '37614.jpg', '37619.jpg', '37627.jpg', '37631.jpg', '37655.jpg', '37658.jpg', '37680.jpg', '37684.jpg', '37691.jpg', '37727.jpg', '37731.jpg', '37735.jpg', '37745.jpg', '37760.jpg', '37762.jpg', '37765.jpg', '37786.jpg', '37789.jpg', '37812.jpg', '37820.jpg', '37822.jpg', '37887.jpg', '37893.jpg', '37897.jpg', '37905.jpg', '37920.jpg', '37923.jpg', '37937.jpg', '37944.jpg', '37953.jpg', '37965.jpg', '37971.jpg', '37985.jpg', '37986.jpg', '37991.jpg', '38000.jpg', '38015.jpg', '38019.jpg', '38021.jpg', '38044.jpg', '38058.jpg', '38066.jpg', '38074.jpg', '38083.jpg', '38088.jpg', '38129.jpg', '38146.jpg', '38148.jpg', '38155.jpg', '38162.jpg', '38171.jpg', '38174.jpg', '38181.jpg', '38204.jpg', '38235.jpg', '38248.jpg', '38249.jpg', '38254.jpg', '38261.jpg', '38267.jpg', '38269.jpg', '38301.jpg', '38305.jpg', '38306.jpg', '38335.jpg', '38344.jpg', '38360.jpg', '38412.jpg', '38423.jpg', '38456.jpg', '38461.jpg', '38466.jpg', '38470.jpg', '38497.jpg', '38535.jpg', '38547.jpg', '38560.jpg', '38565.jpg', '38574.jpg', '38625.jpg', '38637.jpg', '38652.jpg', '38665.jpg', '38669.jpg', '38677.jpg', '38723.jpg', '38741.jpg', '38744.jpg', '38757.jpg', '38781.jpg', '38801.jpg', '38820.jpg', '38825.jpg', '38844.jpg', '38854.jpg', '38879.jpg', '38882.jpg', '38887.jpg', '38893.jpg', '38904.jpg', '38906.jpg', '38917.jpg', '38920.jpg', '38925.jpg', '38938.jpg', '38939.jpg', '38943.jpg', '38977.jpg', '39008.jpg', '39044.jpg', '39045.jpg', '39050.jpg', '39066.jpg', '39071.jpg', '39085.jpg', '39110.jpg', '39171.jpg', '39172.jpg', '39183.jpg', '39194.jpg', '39195.jpg', '39224.jpg', '39251.jpg', '39257.jpg', '39270.jpg', '39275.jpg', '39299.jpg', '39304.jpg', '39305.jpg', '39321.jpg', '39333.jpg', '39355.jpg', '39366.jpg', '39396.jpg', '39400.jpg', '39401.jpg', '39405.jpg', '39407.jpg', '39438.jpg', '39439.jpg', '39445.jpg', '39497.jpg', '39504.jpg', '39506.jpg', '39525.jpg', '39532.jpg', '39536.jpg', '39545.jpg', '39559.jpg', '39571.jpg', '39572.jpg', '39580.jpg', '39597.jpg', '39600.jpg', '39628.jpg', '39643.jpg', '39648.jpg', '39656.jpg', '39671.jpg', '39686.jpg', '39691.jpg', '39697.jpg', '39703.jpg', '39704.jpg', '39713.jpg', '39738.jpg', '39764.jpg', '39765.jpg', '39767.jpg', '39770.jpg', '39774.jpg', '39815.jpg', '39818.jpg', '39839.jpg', '39840.jpg', '39852.jpg', '39855.jpg', '39869.jpg', '39870.jpg', '39886.jpg', '39897.jpg', '39904.jpg', '39925.jpg', '39938.jpg', '39947.jpg', '39975.jpg', '39977.jpg', '39988.jpg', '40019.jpg', '40045.jpg', '40049.jpg', '40053.jpg', '40069.jpg', '40097.jpg', '40104.jpg', '40112.jpg', '40131.jpg', '40139.jpg', '40171.jpg', '40176.jpg', '40179.jpg', '40184.jpg', '40205.jpg', '40223.jpg', '40241.jpg', '40278.jpg', '40281.jpg', '40314.jpg', '40339.jpg', '40350.jpg', '40358.jpg', '40359.jpg', '40365.jpg', '40372.jpg', '40381.jpg', '40384.jpg', '40404.jpg', '40411.jpg', '40422.jpg', '40471.jpg', '40485.jpg', '40486.jpg', '40505.jpg', '40518.jpg', '40574.jpg', '40582.jpg', '40584.jpg', '40594.jpg', '40597.jpg', '40603.jpg', '40604.jpg', '40624.jpg', '40635.jpg', '40640.jpg', '40700.jpg', '40706.jpg', '40708.jpg', '40717.jpg', '40742.jpg', '40752.jpg', '40756.jpg', '40765.jpg', '40768.jpg', '40771.jpg', '40787.jpg', '40804.jpg', '40816.jpg', '40828.jpg', '40829.jpg', '40851.jpg', '40865.jpg', '40869.jpg', '40904.jpg', '40945.jpg', '40947.jpg', '40958.jpg', '40967.jpg', '40971.jpg', '40983.jpg', '40986.jpg', '40993.jpg', '41011.jpg', '41014.jpg', '41031.jpg', '41037.jpg', '41041.jpg', '41078.jpg', '41092.jpg', '41116.jpg', '41123.jpg', '41127.jpg', '41129.jpg', '41130.jpg', '41145.jpg', '41168.jpg', '41204.jpg', '41207.jpg', '41209.jpg', '41237.jpg', '41276.jpg', '41278.jpg', '41290.jpg', '41293.jpg', '41302.jpg', '41310.jpg', '41312.jpg', '41344.jpg', '41350.jpg', '41351.jpg', '41354.jpg', '41365.jpg', '41367.jpg', '41370.jpg', '41394.jpg', '41410.jpg', '41439.jpg', '41440.jpg', '41443.jpg', '41445.jpg', '41452.jpg', '41456.jpg', '41458.jpg', '41471.jpg', '41502.jpg', '41510.jpg', '41518.jpg', '41519.jpg', '41531.jpg', '41534.jpg', '41539.jpg', '41547.jpg', '41553.jpg', '41556.jpg', '41557.jpg', '41568.jpg', '41596.jpg', '41618.jpg', '41625.jpg', '41626.jpg', '41652.jpg', '41658.jpg', '41682.jpg', '41686.jpg', '41695.jpg', '41705.jpg', '41733.jpg', '41764.jpg', '41778.jpg', '41786.jpg', '41795.jpg', '41797.jpg', '41807.jpg', '41809.jpg', '41814.jpg', '41821.jpg', '41832.jpg', '41843.jpg', '41846.jpg', '41857.jpg', '41860.jpg', '41867.jpg', '41882.jpg', '41883.jpg', '41893.jpg', '41898.jpg', '41903.jpg', '41923.jpg', '41963.jpg', '41987.jpg', '41994.jpg', '42003.jpg', '42013.jpg', '42026.jpg', '42060.jpg', '42061.jpg', '42066.jpg', '42075.jpg', '42107.jpg', '42120.jpg', '42124.jpg', '42142.jpg', '42143.jpg', '42151.jpg', '42159.jpg', '42164.jpg', '42213.jpg', '42217.jpg', '42237.jpg', '42250.jpg', '42261.jpg', '42274.jpg', '42287.jpg', '42330.jpg', '42345.jpg', '42356.jpg', '42360.jpg', '42368.jpg', '42371.jpg', '42382.jpg', '42389.jpg', '42401.jpg', '42409.jpg', '42433.jpg', '42443.jpg', '42494.jpg', '42516.jpg', '42528.jpg', '42531.jpg', '42534.jpg', '42542.jpg', '42549.jpg', '42560.jpg', '42595.jpg', '42599.jpg', '42606.jpg', '42611.jpg', '42619.jpg', '42620.jpg', '42627.jpg', '42637.jpg', '42647.jpg', '42651.jpg', '42672.jpg', '42675.jpg', '42718.jpg', '42725.jpg', '42729.jpg', '42747.jpg', '42748.jpg', '42755.jpg', '42761.jpg', '42774.jpg', '42779.jpg', '42782.jpg', '42788.jpg', '42791.jpg', '42795.jpg', '42797.jpg', '42818.jpg', '42822.jpg', '42871.jpg', '42881.jpg', '42914.jpg', '42916.jpg', '42926.jpg', '42944.jpg', '42967.jpg', '42974.jpg', '42982.jpg', '42985.jpg', '43020.jpg', '43025.jpg', '43028.jpg', '43044.jpg', '43045.jpg', '43076.jpg', '43078.jpg', '43081.jpg', '43085.jpg', '43086.jpg', '43089.jpg', '43108.jpg', '43113.jpg', '43126.jpg', '43133.jpg', '43168.jpg', '43169.jpg', '43199.jpg', '43202.jpg', '43214.jpg', '43224.jpg', '43230.jpg', '43231.jpg', '43252.jpg', '43295.jpg', '43331.jpg', '43348.jpg', '43363.jpg', '43365.jpg', '43412.jpg', '43418.jpg', '43424.jpg', '43440.jpg', '43452.jpg', '43454.jpg', '43460.jpg', '43465.jpg', '43470.jpg', '43493.jpg', '43497.jpg', '43498.jpg', '43504.jpg', '43525.jpg', '43527.jpg', '43529.jpg', '43538.jpg', '43549.jpg', '43567.jpg', '43574.jpg', '43583.jpg', '43587.jpg', '43625.jpg', '43665.jpg', '43684.jpg', '43712.jpg', '43713.jpg', '43723.jpg', '43745.jpg', '43755.jpg', '43761.jpg', '43765.jpg', '43767.jpg', '43778.jpg', '43779.jpg', '43783.jpg', '43801.jpg', '43813.jpg', '43816.jpg', '43819.jpg', '43822.jpg', '43823.jpg', '43832.jpg', '43848.jpg', '43860.jpg', '43876.jpg', '43914.jpg', '43917.jpg', '43929.jpg', '43937.jpg', '43943.jpg', '43987.jpg', '44009.jpg', '44059.jpg', '44061.jpg', '44091.jpg', '44098.jpg', '44129.jpg', '44135.jpg', '44181.jpg', '44183.jpg', '44185.jpg', '44186.jpg', '44206.jpg', '44233.jpg', '44236.jpg', '44253.jpg', '44256.jpg', '44276.jpg', '44293.jpg', '44304.jpg', '44305.jpg', '44320.jpg', '44338.jpg', '44353.jpg', '44354.jpg', '44356.jpg', '44375.jpg', '44416.jpg', '44424.jpg', '44425.jpg', '44442.jpg', '44443.jpg', '44448.jpg', '44455.jpg', '44463.jpg', '44479.jpg', '44484.jpg', '44490.jpg', '44522.jpg', '44525.jpg', '44526.jpg', '44528.jpg', '44531.jpg', '44539.jpg', '44542.jpg', '44549.jpg', '44550.jpg', '44561.jpg', '44562.jpg', '44565.jpg', '44569.jpg', '44592.jpg', '44600.jpg', '44624.jpg', '44639.jpg', '44644.jpg', '44658.jpg', '44672.jpg', '44675.jpg', '44692.jpg', '44693.jpg', '44725.jpg', '44733.jpg', '44738.jpg', '44758.jpg', '44760.jpg', '44764.jpg', '44828.jpg', '44832.jpg', '44837.jpg', '44839.jpg', '44848.jpg', '44874.jpg', '44914.jpg', '44922.jpg', '44944.jpg', '44954.jpg', '44959.jpg', '44960.jpg', '44968.jpg', '44970.jpg', '44980.jpg', '44993.jpg', '45002.jpg', '45011.jpg', '45028.jpg', '45041.jpg', '45046.jpg', '45052.jpg', '45071.jpg', '45079.jpg', '45081.jpg', '45090.jpg', '45099.jpg', '45103.jpg', '45107.jpg', '45119.jpg', '45120.jpg', '45131.jpg', '45141.jpg', '45146.jpg', '45163.jpg', '45174.jpg', '45176.jpg', '45190.jpg', '45240.jpg', '45259.jpg', '45260.jpg', '45265.jpg', '45268.jpg', '45275.jpg', '45289.jpg', '45310.jpg', '45354.jpg', '45375.jpg', '45422.jpg', '45435.jpg', '45457.jpg', '45476.jpg', '45496.jpg', '45505.jpg', '45510.jpg', '45567.jpg', '45590.jpg', '45597.jpg', '45611.jpg', '45623.jpg', '45625.jpg', '45653.jpg', '45656.jpg', '45689.jpg', '45719.jpg', '45728.jpg', '45730.jpg', '45753.jpg', '45760.jpg', '45767.jpg', '45781.jpg', '45791.jpg', '45792.jpg', '45837.jpg', '45855.jpg', '45887.jpg', '45893.jpg', '45899.jpg', '45928.jpg', '45938.jpg', '45951.jpg', '45959.jpg', '45962.jpg', '45969.jpg', '45980.jpg', '45992.jpg', '46004.jpg', '46019.jpg', '46024.jpg', '46043.jpg', '46054.jpg', '46057.jpg', '46063.jpg', '46077.jpg', '46111.jpg', '46113.jpg', '46124.jpg', '46127.jpg', '46141.jpg', '46142.jpg', '46143.jpg', '46147.jpg', '46148.jpg', '46167.jpg', '46170.jpg', '46189.jpg', '46234.jpg', '46243.jpg', '46303.jpg', '46346.jpg', '46348.jpg', '46365.jpg', '46368.jpg', '46383.jpg', '46386.jpg', '46435.jpg', '46448.jpg', '46449.jpg', '46455.jpg', '46458.jpg', '46501.jpg', '46504.jpg', '46567.jpg', '46604.jpg', '46611.jpg', '46613.jpg', '46615.jpg', '46637.jpg', '46663.jpg', '46674.jpg', '46681.jpg', '46695.jpg', '46696.jpg', '46701.jpg', '46723.jpg', '46724.jpg', '46729.jpg', '46756.jpg', '46769.jpg', '46795.jpg', '46806.jpg', '46819.jpg', '46824.jpg', '46832.jpg', '46854.jpg', '46855.jpg', '46859.jpg', '46864.jpg', '46865.jpg', '46873.jpg', '46876.jpg', '46878.jpg', '46883.jpg', '46891.jpg', '46914.jpg', '46925.jpg', '46926.jpg', '46931.jpg', '46961.jpg', '46978.jpg', '47012.jpg', '47013.jpg', '47025.jpg', '47026.jpg', '47039.jpg', '47057.jpg', '47063.jpg', '47090.jpg', '47099.jpg', '47111.jpg', '47114.jpg', '47116.jpg', '47138.jpg', '47152.jpg', '47153.jpg', '47160.jpg', '47162.jpg', '47175.jpg', '47178.jpg', '47179.jpg', '47185.jpg', '47192.jpg', '47196.jpg', '47215.jpg', '47221.jpg', '47234.jpg', '47255.jpg', '47274.jpg', '47278.jpg', '47286.jpg', '47293.jpg', '47319.jpg', '47327.jpg', '47330.jpg', '47332.jpg', '47346.jpg', '47397.jpg', '47405.jpg', '47410.jpg', '47451.jpg', '47478.jpg', '47530.jpg', '47535.jpg', '47538.jpg', '47549.jpg', '47560.jpg', '47573.jpg', '47581.jpg', '47595.jpg', '47596.jpg', '47606.jpg', '47619.jpg', '47622.jpg', '47624.jpg', '47671.jpg', '47676.jpg', '47685.jpg', '47698.jpg', '47717.jpg', '47731.jpg', '47741.jpg', '47745.jpg', '47762.jpg', '47768.jpg', '47784.jpg', '47788.jpg', '47808.jpg', '47811.jpg', '47820.jpg', '47829.jpg', '47860.jpg', '47862.jpg', '47882.jpg', '47888.jpg', '47894.jpg', '47905.jpg', '47909.jpg', '47916.jpg', '47930.jpg', '47933.jpg', '47934.jpg', '47956.jpg', '47959.jpg', '47973.jpg', '47989.jpg', '48014.jpg', '48037.jpg', '48038.jpg', '48039.jpg', '48081.jpg', '48085.jpg', '48089.jpg', '48119.jpg', '48133.jpg', '48180.jpg', '48207.jpg', '48208.jpg', '48212.jpg', '48214.jpg', '48248.jpg', '48252.jpg', '48256.jpg', '48266.jpg', '48267.jpg', '48285.jpg', '48303.jpg', '48328.jpg', '48340.jpg', '48349.jpg', '48365.jpg', '48378.jpg', '48400.jpg', '48437.jpg', '48443.jpg', '48465.jpg', '48490.jpg', '48508.jpg', '48516.jpg', '48525.jpg', '48527.jpg', '48531.jpg', '48545.jpg', '48556.jpg', '48560.jpg', '48581.jpg', '48587.jpg', '48595.jpg', '48601.jpg', '48619.jpg', '48620.jpg', '48627.jpg', '48640.jpg', '48654.jpg', '48666.jpg', '48669.jpg', '48671.jpg', '48672.jpg', '48679.jpg', '48689.jpg', '48700.jpg', '48716.jpg', '48725.jpg', '48728.jpg', '48733.jpg', '48742.jpg', '48774.jpg', '48782.jpg', '48798.jpg', '48811.jpg', '48829.jpg', '48840.jpg', '48845.jpg', '48858.jpg', '48863.jpg', '48871.jpg', '48884.jpg', '48887.jpg', '48893.jpg', '48895.jpg', '48899.jpg', '48900.jpg', '48943.jpg', '48957.jpg', '48971.jpg', '48985.jpg', '48993.jpg', '48998.jpg', '49012.jpg', '49018.jpg', '49020.jpg', '49032.jpg', '49040.jpg', '49043.jpg', '49069.jpg', '49093.jpg', '49109.jpg', '49111.jpg', '49146.jpg', '49162.jpg', '49175.jpg', '49179.jpg', '49180.jpg', '49192.jpg', '49195.jpg', '49205.jpg', '49235.jpg', '49240.jpg', '49245.jpg', '49247.jpg', '49249.jpg', '49252.jpg', '49268.jpg', '49270.jpg', '49274.jpg', '49277.jpg', '49289.jpg', '49309.jpg', '49339.jpg', '49346.jpg', '49359.jpg', '49393.jpg', '49412.jpg', '49436.jpg', '49454.jpg', '49482.jpg', '49490.jpg', '49494.jpg', '49546.jpg', '49549.jpg', '49558.jpg', '49563.jpg', '49575.jpg', '49577.jpg', '49588.jpg', '49589.jpg', '49623.jpg', '49632.jpg', '49644.jpg', '49655.jpg', '49658.jpg', '49666.jpg', '49705.jpg', '49729.jpg', '49737.jpg', '49745.jpg', '49750.jpg', '49764.jpg', '49766.jpg', '49770.jpg', '49799.jpg', '49813.jpg', '49845.jpg', '49884.jpg', '49917.jpg', '49926.jpg', '49938.jpg', '49943.jpg', '49946.jpg', '49954.jpg', '49962.jpg', '49964.jpg', '49975.jpg', '49981.jpg', '49989.jpg', '50003.jpg', '50005.jpg', '50007.jpg', '50056.jpg', '50058.jpg', '50067.jpg', '50084.jpg', '50101.jpg', '50106.jpg', '50134.jpg', '50138.jpg', '50139.jpg', '50146.jpg', '50147.jpg', '50149.jpg', '50151.jpg', '50157.jpg', '50164.jpg', '50187.jpg', '50194.jpg', '50207.jpg', '50210.jpg', '50221.jpg', '50225.jpg', '50234.jpg', '50252.jpg', '50273.jpg', '50278.jpg', '50293.jpg', '50302.jpg', '50309.jpg', '50333.jpg', '50367.jpg', '50378.jpg', '50382.jpg', '50388.jpg', '50398.jpg', '50402.jpg', '50446.jpg', '50474.jpg', '50476.jpg', '50478.jpg', '50479.jpg', '50506.jpg', '50510.jpg', '50521.jpg', '50531.jpg', '50536.jpg', '50537.jpg', '50560.jpg', '50567.jpg', '50570.jpg', '50572.jpg', '50574.jpg', '50579.jpg', '50580.jpg', '50595.jpg', '50604.jpg', '50608.jpg', '50609.jpg', '50611.jpg', '50615.jpg', '50622.jpg', '50641.jpg', '50651.jpg', '50666.jpg', '50704.jpg', '50730.jpg', '50735.jpg', '50740.jpg', '50742.jpg', '50753.jpg', '50764.jpg', '50785.jpg', '50788.jpg', '50798.jpg', '50804.jpg', '50828.jpg', '50845.jpg', '50846.jpg', '50865.jpg', '50874.jpg', '50888.jpg', '50903.jpg', '50937.jpg', '50938.jpg', '50945.jpg', '50946.jpg', '50952.jpg', '50959.jpg', '50969.jpg', '50983.jpg', '51013.jpg', '51037.jpg', '51040.jpg', '51056.jpg', '51062.jpg', '51068.jpg', '51073.jpg', '51074.jpg', '51104.jpg', '51124.jpg', '51133.jpg', '51146.jpg', '51162.jpg', '51184.jpg', '51223.jpg', '51253.jpg', '51255.jpg', '51256.jpg', '51281.jpg', '51298.jpg', '51299.jpg', '51332.jpg', '51335.jpg', '51380.jpg', '51410.jpg', '51427.jpg', '51428.jpg', '51443.jpg', '51450.jpg', '51461.jpg', '51466.jpg', '51482.jpg', '51490.jpg', '51500.jpg', '51525.jpg', '51532.jpg', '51549.jpg', '51571.jpg', '51576.jpg', '51609.jpg', '51613.jpg', '51634.jpg', '51637.jpg', '51652.jpg', '51671.jpg', '51686.jpg', '51699.jpg', '51700.jpg', '51704.jpg', '51714.jpg', '51740.jpg', '51742.jpg', '51799.jpg', '51807.jpg', '51810.jpg', '51813.jpg', '51817.jpg', '51832.jpg', '51846.jpg', '51879.jpg', '51886.jpg', '51891.jpg', '51905.jpg', '51949.jpg', '51951.jpg', '51960.jpg', '51962.jpg', '51966.jpg', '51970.jpg', '51973.jpg', '52008.jpg', '52016.jpg', '52031.jpg', '52038.jpg', '52041.jpg', '52043.jpg', '52082.jpg', '52085.jpg', '52086.jpg', '52088.jpg', '52093.jpg', '52106.jpg', '52110.jpg', '52140.jpg', '52156.jpg', '52197.jpg', '52219.jpg', '52249.jpg', '52254.jpg', '52256.jpg', '52283.jpg', '52318.jpg', '52325.jpg', '52332.jpg', '52333.jpg', '52334.jpg', '52342.jpg', '52346.jpg', '52355.jpg', '52357.jpg', '52359.jpg', '52371.jpg', '52375.jpg', '52381.jpg', '52388.jpg', '52391.jpg', '52446.jpg', '52454.jpg', '52470.jpg', '52473.jpg', '52485.jpg', '52486.jpg', '52491.jpg', '52492.jpg', '52496.jpg', '52513.jpg', '52515.jpg', '52519.jpg', '52527.jpg', '52535.jpg', '52540.jpg', '52554.jpg', '52562.jpg', '52609.jpg', '52613.jpg', '52629.jpg', '52647.jpg', '52678.jpg', '52682.jpg', '52689.jpg', '52753.jpg', '52761.jpg', '52774.jpg', '52793.jpg', '52800.jpg', '52802.jpg', '52807.jpg', '52810.jpg', '52837.jpg', '52839.jpg', '52840.jpg', '52866.jpg', '52910.jpg', '52912.jpg', '52916.jpg', '52934.jpg', '52944.jpg', '52948.jpg', '52967.jpg', '52970.jpg', '52982.jpg', '52986.jpg', '52989.jpg', '53001.jpg', '53006.jpg', '53009.jpg', '53025.jpg', '53044.jpg', '53045.jpg', '53072.jpg', '53106.jpg', '53109.jpg', '53112.jpg', '53116.jpg', '53117.jpg', '53160.jpg', '53184.jpg', '53217.jpg', '53231.jpg', '53262.jpg', '53280.jpg', '53289.jpg', '53291.jpg', '53305.jpg', '53314.jpg', '53322.jpg', '53334.jpg', '53349.jpg', '53350.jpg', '53354.jpg', '53365.jpg', '53372.jpg', '53377.jpg', '53396.jpg', '53412.jpg', '53429.jpg', '53434.jpg', '53439.jpg', '53442.jpg', '53472.jpg', '53475.jpg', '53482.jpg', '53504.jpg', '53506.jpg', '53508.jpg', '53512.jpg', '53565.jpg', '53618.jpg', '53632.jpg', '53644.jpg', '53735.jpg', '53736.jpg', '53740.jpg', '53748.jpg', '53768.jpg', '53770.jpg', '53772.jpg', '53773.jpg', '53784.jpg', '53801.jpg', '53803.jpg', '53819.jpg', '53871.jpg', '53911.jpg', '53919.jpg', '53924.jpg', '53936.jpg', '53945.jpg', '53950.jpg', '53971.jpg', '53976.jpg', '53980.jpg', '54037.jpg', '54040.jpg', '54047.jpg', '54060.jpg', '54096.jpg', '54097.jpg', '54119.jpg', '54133.jpg', '54137.jpg', '54158.jpg', '54204.jpg', '54235.jpg', '54240.jpg', '54259.jpg', '54265.jpg', '54285.jpg', '54334.jpg', '54358.jpg', '54360.jpg', '54370.jpg', '54377.jpg', '54411.jpg', '54419.jpg', '54420.jpg', '54430.jpg', '54448.jpg', '54449.jpg', '54450.jpg', '54484.jpg', '54490.jpg', '54510.jpg', '54515.jpg', '54530.jpg', '54540.jpg', '54549.jpg', '54578.jpg', '54581.jpg', '54605.jpg', '54632.jpg', '54641.jpg', '54653.jpg', '54679.jpg', '54681.jpg', '54690.jpg', '54692.jpg', '54698.jpg', '54710.jpg', '54716.jpg', '54718.jpg', '54745.jpg', '54763.jpg', '54766.jpg', '54772.jpg', '54797.jpg', '54800.jpg', '54817.jpg', '54839.jpg', '54869.jpg', '54880.jpg', '54897.jpg', '54904.jpg', '54932.jpg', '54937.jpg', '54941.jpg', '54949.jpg', '54962.jpg', '55002.jpg', '55005.jpg', '55025.jpg', '55039.jpg', '55044.jpg', '55055.jpg', '55069.jpg', '55084.jpg', '55123.jpg', '55130.jpg', '55133.jpg', '55135.jpg', '55141.jpg', '55155.jpg', '55166.jpg', '55176.jpg', '55177.jpg', '55179.jpg', '55251.jpg', '55264.jpg', '55282.jpg', '55293.jpg', '55299.jpg', '55308.jpg', '55309.jpg', '55313.jpg', '55314.jpg', '55315.jpg', '55327.jpg', '55331.jpg', '55335.jpg', '55348.jpg', '55350.jpg', '55394.jpg', '55401.jpg', '55449.jpg', '55450.jpg', '55455.jpg', '55459.jpg', '55474.jpg', '55479.jpg', '55481.jpg', '55493.jpg', '55502.jpg', '55505.jpg', '55507.jpg', '55517.jpg', '55526.jpg', '55527.jpg', '55530.jpg', '55535.jpg', '55539.jpg', '55543.jpg', '55547.jpg', '55548.jpg', '55550.jpg', '55560.jpg', '55564.jpg', '55594.jpg', '55605.jpg', '55626.jpg', '55637.jpg', '55649.jpg', '55652.jpg', '55659.jpg', '55662.jpg', '55690.jpg', '55700.jpg', '55716.jpg', '55724.jpg', '55730.jpg', '55732.jpg', '55735.jpg', '55748.jpg', '55750.jpg', '55756.jpg', '55796.jpg', '55804.jpg', '55807.jpg', '55811.jpg', '55833.jpg', '55834.jpg', '55844.jpg', '55848.jpg', '55858.jpg', '55905.jpg', '55913.jpg', '55914.jpg', '55922.jpg', '55958.jpg', '56017.jpg', '56044.jpg', '56053.jpg', '56068.jpg', '56069.jpg', '56091.jpg', '56123.jpg', '56139.jpg', '56141.jpg', '56152.jpg', '56165.jpg', '56166.jpg', '56174.jpg', '56176.jpg', '56180.jpg', '56198.jpg', '56207.jpg', '56215.jpg', '56242.jpg', '56256.jpg', '56264.jpg', '56269.jpg', '56271.jpg', '56313.jpg', '56317.jpg', '56318.jpg', '56328.jpg', '56336.jpg', '56340.jpg', '56342.jpg', '56351.jpg', '56363.jpg', '56381.jpg', '56390.jpg', '56391.jpg', '56396.jpg', '56418.jpg', '56426.jpg', '56433.jpg', '56457.jpg', '56459.jpg', '56472.jpg', '56493.jpg', '56496.jpg', '56529.jpg', '56530.jpg', '56537.jpg', '56544.jpg', '56574.jpg', '56575.jpg', '56577.jpg', '56584.jpg', '56588.jpg', '56629.jpg', '56636.jpg', '56647.jpg', '56648.jpg', '56655.jpg', '56688.jpg', '56705.jpg', '56710.jpg', '56726.jpg', '56728.jpg', '56734.jpg', '56739.jpg', '56752.jpg', '56764.jpg', '56783.jpg', '56797.jpg', '56825.jpg', '56834.jpg', '56852.jpg', '56855.jpg', '56868.jpg', '56869.jpg', '56879.jpg', '56890.jpg', '56893.jpg', '56895.jpg', '56904.jpg', '56908.jpg', '56912.jpg', '56916.jpg', '56920.jpg', '56921.jpg', '56925.jpg', '56933.jpg', '56937.jpg', '56945.jpg', '56954.jpg', '56957.jpg', '56962.jpg', '56968.jpg', '56982.jpg', '56988.jpg', '57015.jpg', '57019.jpg', '57021.jpg', '57030.jpg', '57034.jpg', '57043.jpg', '57051.jpg', '57053.jpg', '57057.jpg', '57074.jpg', '57079.jpg', '57128.jpg', '57132.jpg', '57155.jpg', '57169.jpg', '57185.jpg', '57188.jpg', '57192.jpg', '57193.jpg', '57205.jpg', '57228.jpg', '57238.jpg', '57243.jpg', '57275.jpg', '57284.jpg', '57289.jpg', '57290.jpg', '57302.jpg', '57305.jpg', '57322.jpg', '57327.jpg', '57328.jpg', '57334.jpg', '57335.jpg', '57341.jpg', '57342.jpg', '57345.jpg', '57390.jpg', '57399.jpg', '57400.jpg', '57415.jpg', '57419.jpg', '57429.jpg', '57435.jpg', '57440.jpg', '57480.jpg', '57482.jpg', '57493.jpg', '57516.jpg', '57537.jpg', '57561.jpg', '57563.jpg', '57568.jpg', '57580.jpg', '57582.jpg', '57596.jpg', '57614.jpg', '57635.jpg', '57645.jpg', '57649.jpg', '57658.jpg', '57662.jpg', '57668.jpg', '57706.jpg', '57713.jpg', '57716.jpg', '57717.jpg', '57719.jpg', '57720.jpg', '57730.jpg', '57731.jpg', '57770.jpg', '57781.jpg', '57783.jpg', '57786.jpg', '57806.jpg', '57812.jpg', '57842.jpg', '57844.jpg', '57856.jpg', '57858.jpg', '57864.jpg', '57865.jpg', '57876.jpg', '57928.jpg', '57946.jpg', '57962.jpg', '57964.jpg', '57986.jpg', '57988.jpg', '57996.jpg', '58053.jpg', '58063.jpg', '58067.jpg', '58075.jpg', '58079.jpg', '58096.jpg', '58098.jpg', '58111.jpg', '58122.jpg', '58134.jpg', '58146.jpg', '58148.jpg', '58157.jpg', '58166.jpg', '58182.jpg', '58185.jpg', '58211.jpg', '58223.jpg', '58232.jpg', '58235.jpg', '58242.jpg', '58245.jpg', '58255.jpg', '58257.jpg', '58263.jpg', '58269.jpg', '58276.jpg', '58287.jpg', '58291.jpg', '58338.jpg', '58342.jpg', '58350.jpg', '58382.jpg', '58403.jpg', '58413.jpg', '58421.jpg', '58422.jpg', '58424.jpg', '58439.jpg', '58446.jpg', '58464.jpg', '58470.jpg', '58475.jpg', '58483.jpg', '58489.jpg', '58492.jpg', '58501.jpg', '58505.jpg', '58514.jpg', '58520.jpg', '58537.jpg', '58550.jpg', '58551.jpg', '58564.jpg', '58572.jpg', '58599.jpg', '58614.jpg', '58630.jpg', '58649.jpg', '58679.jpg', '58687.jpg', '58691.jpg', '58698.jpg', '58706.jpg', '58716.jpg', '58720.jpg', '58734.jpg', '58735.jpg', '58765.jpg', '58781.jpg', '58820.jpg', '58841.jpg', '58844.jpg', '58856.jpg', '58860.jpg', '58880.jpg', '58890.jpg', '58894.jpg', '58915.jpg', '58938.jpg', '58950.jpg', '58963.jpg', '58971.jpg', '58977.jpg', '59011.jpg', '59030.jpg', '59097.jpg', '59104.jpg', '59106.jpg', '59123.jpg', '59125.jpg', '59126.jpg', '59138.jpg', '59190.jpg', '59195.jpg', '59217.jpg', '59218.jpg', '59242.jpg', '59256.jpg', '59259.jpg', '59266.jpg', '59282.jpg', '59303.jpg', '59310.jpg', '59313.jpg', '59319.jpg', '59332.jpg', '59337.jpg', '59362.jpg', '59374.jpg', '59406.jpg', '59408.jpg', '59418.jpg', '59447.jpg', '59448.jpg', '59451.jpg', '59458.jpg', '59460.jpg', '59465.jpg', '59473.jpg', '59474.jpg', '59480.jpg', '59492.jpg', '59500.jpg', '59501.jpg', '59509.jpg', '59518.jpg', '59556.jpg', '59566.jpg', '59580.jpg', '59597.jpg', '59598.jpg', '59600.jpg', '59635.jpg', '59645.jpg', '59648.jpg', '59653.jpg', '59666.jpg', '59671.jpg', '59680.jpg', '59713.jpg', '59715.jpg', '59728.jpg', '59753.jpg', '59755.jpg', '59783.jpg', '59787.jpg', '59791.jpg', '59795.jpg', '59796.jpg', '59808.jpg', '59837.jpg', '59855.jpg', '59866.jpg', '59875.jpg', '59904.jpg', '59918.jpg', '59923.jpg', '59926.jpg', '59930.jpg', '59933.jpg', '59945.jpg', '59957.jpg', '59959.jpg', '59963.jpg', '59979.jpg', '59988.jpg', '60006.jpg', '60009.jpg', '60011.jpg', '60032.jpg', '60036.jpg', '60037.jpg', '60042.jpg', '60045.jpg', '60046.jpg', '60047.jpg', '60062.jpg', '60072.jpg', '60074.jpg', '60090.jpg', '60102.jpg', '60107.jpg', '60126.jpg', '60133.jpg', '60150.jpg', '60154.jpg', '60156.jpg', '60209.jpg', '60220.jpg', '60224.jpg', '60226.jpg', '60229.jpg', '60246.jpg', '60251.jpg', '60284.jpg', '60307.jpg', '60312.jpg', '60332.jpg', '60343.jpg', '60347.jpg', '60351.jpg', '60357.jpg', '60378.jpg', '60389.jpg', '60409.jpg', '60421.jpg', '60450.jpg', '60468.jpg', '60473.jpg', '60482.jpg', '60516.jpg', '60523.jpg', '60529.jpg', '60531.jpg', '60544.jpg', '60548.jpg', '60560.jpg', '60566.jpg', '60567.jpg', '60569.jpg', '60576.jpg', '60579.jpg', '60610.jpg', '60614.jpg', '60616.jpg', '60617.jpg', '60643.jpg', '60647.jpg', '60685.jpg', '60686.jpg', '60688.jpg', '60759.jpg', '60787.jpg', '60799.jpg', '60800.jpg', '60808.jpg', '60838.jpg', '60843.jpg', '60855.jpg', '60871.jpg', '60912.jpg', '60938.jpg', '60947.jpg', '60974.jpg', '60976.jpg', '60979.jpg', '61001.jpg', '61004.jpg', '61019.jpg', '61029.jpg', '61041.jpg', '61085.jpg', '61087.jpg', '61118.jpg', '61126.jpg', '61137.jpg', '61153.jpg', '61190.jpg', '61200.jpg', '61205.jpg', '61245.jpg', '61251.jpg', '61253.jpg', '61271.jpg', '61279.jpg', '61310.jpg', '61324.jpg', '61328.jpg', '61359.jpg', '61363.jpg', '61373.jpg', '61378.jpg', '61402.jpg', '61405.jpg', '61416.jpg', '61421.jpg', '61435.jpg', '61476.jpg', '61487.jpg', '61507.jpg', '61511.jpg', '61513.jpg', '61515.jpg', '61571.jpg', '61579.jpg', '61586.jpg', '61595.jpg', '61604.jpg', '61605.jpg', '61611.jpg', '61612.jpg', '61622.jpg', '61626.jpg', '61644.jpg', '61648.jpg', '61660.jpg', '61665.jpg', '61680.jpg', '61683.jpg', '61684.jpg', '61700.jpg', '61714.jpg', '61725.jpg', '61727.jpg', '61762.jpg', '61774.jpg', '61781.jpg', '61795.jpg', '61798.jpg', '61807.jpg', '61817.jpg', '61826.jpg', '61838.jpg', '61875.jpg', '61878.jpg', '61890.jpg', '61914.jpg', '61917.jpg', '61930.jpg', '61943.jpg', '61944.jpg', '61961.jpg', '61984.jpg', '61989.jpg', '62003.jpg', '62028.jpg', '62032.jpg', '62040.jpg', '62073.jpg', '62074.jpg', '62080.jpg', '62093.jpg', '62098.jpg', '62110.jpg', '62112.jpg', '62118.jpg', '62125.jpg', '62136.jpg', '62141.jpg', '62169.jpg', '62192.jpg', '62195.jpg', '62204.jpg', '62206.jpg', '62218.jpg', '62232.jpg', '62241.jpg', '62249.jpg', '62256.jpg', '62272.jpg', '62328.jpg', '62337.jpg', '62340.jpg', '62347.jpg', '62350.jpg', '62355.jpg', '62371.jpg', '62372.jpg', '62373.jpg', '62375.jpg', '62379.jpg', '62396.jpg', '62407.jpg', '62413.jpg', '62420.jpg', '62431.jpg', '62450.jpg', '62453.jpg', '62478.jpg', '62483.jpg', '62487.jpg', '62515.jpg', '62520.jpg', '62527.jpg', '62535.jpg', '62542.jpg', '62554.jpg', '62571.jpg', '62607.jpg', '62625.jpg', '62640.jpg', '62655.jpg', '62668.jpg', '62676.jpg', '62683.jpg', '62687.jpg', '62702.jpg', '62718.jpg', '62720.jpg', '62721.jpg', '62741.jpg', '62755.jpg', '62778.jpg', '62816.jpg', '62821.jpg', '62824.jpg', '62827.jpg', '62828.jpg', '62835.jpg', '62846.jpg', '62850.jpg', '62866.jpg', '62881.jpg', '62893.jpg', '62912.jpg', '62940.jpg', '62960.jpg', '62961.jpg', '62963.jpg', '62968.jpg', '62969.jpg', '62974.jpg', '63006.jpg', '63012.jpg', '63015.jpg', '63016.jpg', '63030.jpg', '63066.jpg', '63075.jpg', '63086.jpg', '63094.jpg', '63136.jpg', '63154.jpg', '63163.jpg', '63191.jpg', '63209.jpg', '63221.jpg', '63260.jpg', '63262.jpg', '63277.jpg', '63286.jpg', '63330.jpg', '63333.jpg', '63337.jpg', '63347.jpg', '63376.jpg', '63389.jpg', '63412.jpg', '63443.jpg', '63482.jpg', '63488.jpg', '63496.jpg', '63509.jpg', '63514.jpg', '63538.jpg', '63540.jpg', '63553.jpg', '63568.jpg', '63570.jpg', '63601.jpg', '63608.jpg', '63610.jpg', '63614.jpg', '63625.jpg', '63631.jpg', '63632.jpg', '63658.jpg', '63665.jpg', '63672.jpg', '63680.jpg', '63702.jpg', '63711.jpg', '63721.jpg', '63737.jpg', '63738.jpg', '63756.jpg', '63764.jpg', '63769.jpg', '63797.jpg', '63805.jpg', '63814.jpg', '63815.jpg', '63831.jpg', '63839.jpg', '63840.jpg', '63887.jpg', '63895.jpg', '63897.jpg', '63914.jpg', '63923.jpg', '63938.jpg', '63950.jpg', '63992.jpg', '63997.jpg', '64018.jpg', '64029.jpg', '64030.jpg', '64043.jpg', '64060.jpg', '64099.jpg', '64119.jpg', '64120.jpg', '64150.jpg', '64182.jpg', '64188.jpg', '64208.jpg', '64211.jpg', '64220.jpg', '64225.jpg', '64243.jpg', '64246.jpg', '64247.jpg', '64253.jpg', '64254.jpg', '64285.jpg', '64289.jpg', '64313.jpg', '64314.jpg', '64323.jpg', '64324.jpg', '64325.jpg', '64330.jpg', '64346.jpg', '64372.jpg', '64373.jpg', '64376.jpg', '64384.jpg', '64390.jpg', '64401.jpg', '64408.jpg', '64441.jpg', '64445.jpg', '64453.jpg', '64460.jpg', '64464.jpg', '64496.jpg', '64503.jpg', '64518.jpg', '64523.jpg', '64524.jpg', '64528.jpg', '64535.jpg', '64539.jpg', '64546.jpg', '64549.jpg', '64567.jpg', '64576.jpg', '64580.jpg', '64585.jpg', '64594.jpg', '64603.jpg', '64655.jpg', '64665.jpg', '64678.jpg', '64684.jpg', '64690.jpg', '64711.jpg', '64715.jpg', '64736.jpg', '64761.jpg', '64777.jpg', '64797.jpg', '64838.jpg', '64842.jpg', '64884.jpg', '64886.jpg', '64906.jpg', '64909.jpg', '64927.jpg', '64931.jpg', '64939.jpg', '64943.jpg', '64944.jpg', '64955.jpg', '64963.jpg', '64965.jpg', '64970.jpg', '64982.jpg', '64998.jpg', '65008.jpg', '65010.jpg', '65014.jpg', '65017.jpg', '65023.jpg', '65030.jpg', '65042.jpg', '65043.jpg', '65054.jpg', '65055.jpg', '65073.jpg', '65083.jpg', '65096.jpg', '65106.jpg', '65176.jpg', '65186.jpg', '65200.jpg', '65203.jpg', '65213.jpg', '65215.jpg', '65221.jpg', '65246.jpg', '65256.jpg', '65269.jpg', '65281.jpg', '65287.jpg', '65295.jpg', '65296.jpg', '65301.jpg', '65324.jpg', '65356.jpg', '65359.jpg', '65374.jpg', '65382.jpg', '65408.jpg', '65424.jpg', '65428.jpg', '65436.jpg', '65463.jpg', '65480.jpg', '65499.jpg', '65510.jpg', '65533.jpg', '65537.jpg', '65564.jpg', '65569.jpg', '65589.jpg', '65592.jpg', '65613.jpg', '65621.jpg', '65690.jpg', '65694.jpg', '65716.jpg', '65724.jpg', '65725.jpg', '65744.jpg', '65763.jpg', '65779.jpg', '65835.jpg', '65896.jpg', '65906.jpg', '65941.jpg', '65957.jpg', '65961.jpg', '65965.jpg', '65999.jpg', '66008.jpg', '66017.jpg', '66030.jpg', '66042.jpg', '66060.jpg', '66064.jpg', '66067.jpg', '66074.jpg', '66082.jpg', '66086.jpg', '66090.jpg', '66103.jpg', '66111.jpg', '66131.jpg', '66136.jpg', '66137.jpg', '66146.jpg', '66149.jpg', '66166.jpg', '66173.jpg', '66176.jpg', '66178.jpg', '66182.jpg', '66194.jpg', '66202.jpg', '66216.jpg', '66268.jpg', '66269.jpg', '66270.jpg', '66281.jpg', '66284.jpg', '66302.jpg', '66316.jpg', '66323.jpg', '66341.jpg', '66348.jpg', '66349.jpg', '66355.jpg', '66379.jpg', '66393.jpg', '66395.jpg', '66397.jpg', '66401.jpg', '66412.jpg', '66461.jpg', '66465.jpg', '66475.jpg', '66477.jpg', '66485.jpg', '66502.jpg', '66503.jpg', '66512.jpg', '66525.jpg', '66526.jpg', '66529.jpg', '66537.jpg', '66541.jpg', '66563.jpg', '66578.jpg', '66582.jpg', '66598.jpg', '66624.jpg', '66655.jpg', '66661.jpg', '66685.jpg', '66723.jpg', '66729.jpg', '66758.jpg', '66761.jpg', '66784.jpg', '66785.jpg', '66806.jpg', '66809.jpg', '66813.jpg', '66834.jpg', '66851.jpg', '66869.jpg', '66902.jpg', '66905.jpg', '66913.jpg', '66918.jpg', '66927.jpg', '66972.jpg', '66983.jpg', '66989.jpg', '66997.jpg', '66999.jpg', '67002.jpg', '67011.jpg', '67023.jpg', '67028.jpg', '67054.jpg', '67079.jpg', '67082.jpg', '67086.jpg', '67092.jpg', '67120.jpg', '67153.jpg', '67154.jpg', '67157.jpg', '67177.jpg', '67183.jpg', '67201.jpg', '67230.jpg', '67239.jpg', '67241.jpg', '67243.jpg', '67247.jpg', '67250.jpg', '67263.jpg', '67301.jpg', '67310.jpg', '67328.jpg', '67332.jpg', '67348.jpg', '67365.jpg', '67373.jpg', '67376.jpg', '67382.jpg', '67414.jpg', '67420.jpg', '67421.jpg', '67423.jpg', '67430.jpg', '67465.jpg', '67469.jpg', '67492.jpg', '67496.jpg', '67524.jpg', '67528.jpg', '67534.jpg', '67539.jpg', '67541.jpg', '67546.jpg', '67548.jpg', '67551.jpg', '67553.jpg', '67558.jpg', '67564.jpg', '67580.jpg', '67588.jpg', '67590.jpg', '67592.jpg', '67595.jpg', '67633.jpg', '67636.jpg', '67640.jpg', '67644.jpg', '67647.jpg', '67649.jpg', '67678.jpg']\n",
            "train_path:  /content/drive/MyDrive/aiffelthon/FarmDataset/train\n",
            "path:  /content/drive/MyDrive/aiffelthon/FarmDataset/val/images/\n",
            "self.path:  /content/drive/MyDrive/aiffelthon/FarmDataset/val/images/\n",
            "self.imgs:  ['10027.jpg', '10037.jpg', '10173.jpg', '10192.jpg', '10226.jpg', '10238.jpg', '10299.jpg', '10462.jpg', '10523.jpg', '10721.jpg', '10925.jpg', '11087.jpg', '11150.jpg', '11193.jpg', '11225.jpg', '11231.jpg', '11261.jpg', '11407.jpg', '11438.jpg', '11443.jpg', '11482.jpg', '11546.jpg', '11556.jpg', '11596.jpg', '11639.jpg', '11770.jpg', '11811.jpg', '11883.jpg', '11886.jpg', '11921.jpg', '12071.jpg', '12085.jpg', '12164.jpg', '12203.jpg', '12205.jpg', '12225.jpg', '12239.jpg', '12240.jpg', '12290.jpg', '12299.jpg', '12357.jpg', '12389.jpg', '12422.jpg', '12504.jpg', '12519.jpg', '12604.jpg', '12652.jpg', '12683.jpg', '12716.jpg', '12723.jpg', '12734.jpg', '12793.jpg', '12796.jpg', '12834.jpg', '12916.jpg', '13018.jpg', '13034.jpg', '13041.jpg', '13051.jpg', '13064.jpg', '13069.jpg', '13109.jpg', '13152.jpg', '13180.jpg', '13210.jpg', '13231.jpg', '13242.jpg', '13289.jpg', '13291.jpg', '13351.jpg', '13403.jpg', '13444.jpg', '13579.jpg', '13626.jpg', '13667.jpg', '13693.jpg', '13698.jpg', '13861.jpg', '14107.jpg', '14212.jpg', '14236.jpg', '14268.jpg', '14317.jpg', '14404.jpg', '14412.jpg', '14423.jpg', '14445.jpg', '14490.jpg', '14568.jpg', '14577.jpg', '14646.jpg', '14772.jpg', '14796.jpg', '14802.jpg', '14814.jpg', '14876.jpg', '14895.jpg', '15026.jpg', '15071.jpg', '15302.jpg', '15339.jpg', '15367.jpg', '15384.jpg', '15554.jpg', '15572.jpg', '15663.jpg', '15681.jpg', '15709.jpg', '15718.jpg', '15723.jpg', '15769.jpg', '15788.jpg', '15842.jpg', '15845.jpg', '15866.jpg', '15969.jpg', '16011.jpg', '16057.jpg', '16108.jpg', '16138.jpg', '16152.jpg', '16172.jpg', '16186.jpg', '16194.jpg', '16213.jpg', '16267.jpg', '16315.jpg', '16324.jpg', '16435.jpg', '16512.jpg', '16514.jpg', '16643.jpg', '16709.jpg', '16764.jpg', '16766.jpg', '16872.jpg', '16991.jpg', '17051.jpg', '17065.jpg', '17066.jpg', '17080.jpg', '17247.jpg', '17268.jpg', '17303.jpg', '17310.jpg', '17326.jpg', '17354.jpg', '17367.jpg', '17573.jpg', '17737.jpg', '17785.jpg', '17873.jpg', '17879.jpg', '17944.jpg', '18171.jpg', '18185.jpg', '18204.jpg', '18274.jpg', '18425.jpg', '18437.jpg', '18464.jpg', '18481.jpg', '18499.jpg', '18601.jpg', '18621.jpg', '18646.jpg', '18711.jpg', '18726.jpg', '18798.jpg', '18830.jpg', '18891.jpg', '18901.jpg', '18941.jpg', '18946.jpg', '18989.jpg', '19081.jpg', '19103.jpg', '19138.jpg', '19156.jpg', '19211.jpg', '19262.jpg', '19294.jpg', '19364.jpg', '19414.jpg', '19417.jpg', '19501.jpg', '19527.jpg', '19548.jpg', '19563.jpg', '19680.jpg', '19722.jpg', '19900.jpg', '20042.jpg', '20091.jpg', '20187.jpg', '20196.jpg', '20199.jpg', '20202.jpg', '20276.jpg', '20278.jpg', '20283.jpg', '20384.jpg', '20409.jpg', '20443.jpg', '20502.jpg', '20513.jpg', '20717.jpg', '20765.jpg', '20782.jpg', '20946.jpg', '20965.jpg', '21068.jpg', '21142.jpg', '21167.jpg', '21250.jpg', '21313.jpg', '21338.jpg', '21394.jpg', '21440.jpg', '21469.jpg', '21552.jpg', '21571.jpg', '21587.jpg', '21643.jpg', '21730.jpg', '21785.jpg', '21830.jpg', '22006.jpg', '22008.jpg', '22042.jpg', '22090.jpg', '22139.jpg', '22209.jpg', '22228.jpg', '22307.jpg', '22415.jpg', '22433.jpg', '22465.jpg', '22572.jpg', '22646.jpg', '22706.jpg', '22763.jpg', '22773.jpg', '22816.jpg', '22887.jpg', '22893.jpg', '22924.jpg', '23042.jpg', '23062.jpg', '23103.jpg', '23178.jpg', '23212.jpg', '23240.jpg', '23362.jpg', '23417.jpg', '23526.jpg', '23602.jpg', '23604.jpg', '23623.jpg', '23640.jpg', '23645.jpg', '23649.jpg', '23729.jpg', '23769.jpg', '23798.jpg', '23938.jpg', '24107.jpg', '24169.jpg', '24196.jpg', '24268.jpg', '24383.jpg', '24422.jpg', '24426.jpg', '24561.jpg', '24600.jpg', '24663.jpg', '24672.jpg', '24678.jpg', '24766.jpg', '24796.jpg', '24850.jpg', '24883.jpg', '24884.jpg', '24936.jpg', '24957.jpg', '25031.jpg', '25049.jpg', '25149.jpg', '25168.jpg', '25169.jpg', '25189.jpg', '25398.jpg', '25417.jpg', '25431.jpg', '25460.jpg', '25506.jpg', '25614.jpg', '25667.jpg', '25674.jpg', '25684.jpg', '25721.jpg', '25780.jpg', '25819.jpg', '25846.jpg', '25857.jpg', '25860.jpg', '26011.jpg', '26032.jpg', '26042.jpg', '26109.jpg', '26188.jpg', '26209.jpg', '26237.jpg', '26260.jpg', '26377.jpg', '26382.jpg', '26413.jpg', '26456.jpg', '26499.jpg', '26538.jpg', '26545.jpg', '26816.jpg', '26944.jpg', '26951.jpg', '26978.jpg', '27174.jpg', '27189.jpg', '27231.jpg', '27275.jpg', '27313.jpg', '27320.jpg', '27362.jpg', '27382.jpg', '27427.jpg', '27561.jpg', '27586.jpg', '27608.jpg', '27655.jpg', '27686.jpg', '27844.jpg', '27884.jpg', '28061.jpg', '28080.jpg', '28120.jpg', '28169.jpg', '28185.jpg', '28228.jpg', '28232.jpg', '28269.jpg', '28292.jpg', '28381.jpg', '28454.jpg', '28506.jpg', '28519.jpg', '28525.jpg', '28561.jpg', '28567.jpg', '28569.jpg', '28583.jpg', '28634.jpg', '28699.jpg', '28745.jpg', '28784.jpg', '28829.jpg', '29013.jpg', '29026.jpg', '29077.jpg', '29114.jpg', '29116.jpg', '29120.jpg', '29201.jpg', '29253.jpg', '29395.jpg', '29438.jpg', '29598.jpg', '29638.jpg', '29648.jpg', '29667.jpg', '29687.jpg', '29721.jpg', '29734.jpg', '29960.jpg', '29989.jpg', '30028.jpg', '30047.jpg', '30071.jpg', '30174.jpg', '30211.jpg', '30283.jpg', '30303.jpg', '30306.jpg', '30310.jpg', '30315.jpg', '30368.jpg', '30447.jpg', '30510.jpg', '30685.jpg', '30698.jpg', '30760.jpg', '30794.jpg', '30922.jpg', '30931.jpg', '31093.jpg', '31150.jpg', '31172.jpg', '31233.jpg', '31243.jpg', '31263.jpg', '31283.jpg', '31322.jpg', '31349.jpg', '31444.jpg', '31473.jpg', '31628.jpg', '31644.jpg', '31663.jpg', '31690.jpg', '31713.jpg', '31782.jpg', '31873.jpg', '31902.jpg', '31914.jpg', '31932.jpg', '31953.jpg', '32003.jpg', '32012.jpg', '32032.jpg', '32089.jpg', '32173.jpg', '32180.jpg', '32206.jpg', '32241.jpg', '32249.jpg', '32295.jpg', '32346.jpg', '32391.jpg', '32465.jpg', '32466.jpg', '32640.jpg', '32672.jpg', '32706.jpg', '32712.jpg', '32716.jpg', '32727.jpg', '32745.jpg', '32759.jpg', '32811.jpg', '32812.jpg', '32897.jpg', '32935.jpg', '33103.jpg', '33117.jpg', '33190.jpg', '33266.jpg', '33396.jpg', '33478.jpg', '33558.jpg', '33590.jpg', '33595.jpg', '33640.jpg', '33680.jpg', '33689.jpg', '33731.jpg', '33765.jpg', '33827.jpg', '34003.jpg', '34294.jpg', '34392.jpg', '34425.jpg', '34432.jpg', '34563.jpg', '34569.jpg', '34714.jpg', '34763.jpg', '34775.jpg', '34809.jpg', '34849.jpg', '34889.jpg', '34890.jpg', '35020.jpg', '35051.jpg', '35094.jpg', '35111.jpg', '35220.jpg', '35250.jpg', '35267.jpg', '35289.jpg', '35395.jpg', '35443.jpg', '35464.jpg', '35475.jpg', '35489.jpg', '35493.jpg', '35644.jpg', '35663.jpg', '35722.jpg', '35778.jpg', '35833.jpg', '35838.jpg', '35906.jpg', '35914.jpg', '35916.jpg', '35995.jpg', '36019.jpg', '36034.jpg', '36057.jpg', '36105.jpg', '36131.jpg', '36143.jpg', '36178.jpg', '36201.jpg', '36278.jpg', '36341.jpg', '36350.jpg', '36448.jpg', '36456.jpg', '36504.jpg', '36525.jpg', '36639.jpg', '36679.jpg', '36700.jpg', '36751.jpg', '36792.jpg', '36816.jpg', '36818.jpg', '36837.jpg', '36909.jpg', '36970.jpg', '36975.jpg', '36978.jpg', '37018.jpg', '37093.jpg', '37246.jpg', '37282.jpg', '37413.jpg', '37415.jpg', '37577.jpg', '37585.jpg', '37636.jpg', '37704.jpg', '37761.jpg', '37784.jpg', '37806.jpg', '37817.jpg', '37821.jpg', '37880.jpg', '37941.jpg', '38183.jpg', '38199.jpg', '38215.jpg', '38239.jpg', '38281.jpg', '38284.jpg', '38287.jpg', '38292.jpg', '38304.jpg', '38323.jpg', '38468.jpg', '38469.jpg', '38501.jpg', '38524.jpg', '38616.jpg', '38618.jpg', '38623.jpg', '38671.jpg', '38872.jpg', '38935.jpg', '38941.jpg', '38974.jpg', '39026.jpg', '39032.jpg', '39069.jpg', '39145.jpg', '39208.jpg', '39317.jpg', '39318.jpg', '39392.jpg', '39412.jpg', '39422.jpg', '39467.jpg', '39475.jpg', '39588.jpg', '39676.jpg', '39750.jpg', '39858.jpg', '39864.jpg', '39893.jpg', '39966.jpg', '39986.jpg', '40051.jpg', '40072.jpg', '40076.jpg', '40311.jpg', '40355.jpg', '40387.jpg', '40490.jpg', '40521.jpg', '40596.jpg', '40650.jpg', '40718.jpg', '40720.jpg', '40807.jpg', '40821.jpg', '41088.jpg', '41089.jpg', '41093.jpg', '41217.jpg', '41249.jpg', '41304.jpg', '41305.jpg', '41389.jpg', '41398.jpg', '41423.jpg', '41575.jpg', '41579.jpg', '41617.jpg', '41623.jpg', '41639.jpg', '41680.jpg', '41688.jpg', '41704.jpg', '41881.jpg', '41968.jpg', '41972.jpg', '42119.jpg', '42134.jpg', '42227.jpg', '42245.jpg', '42333.jpg', '42376.jpg', '42423.jpg', '42580.jpg', '42652.jpg', '42656.jpg', '42711.jpg', '42775.jpg', '42787.jpg', '42947.jpg', '42989.jpg', '43050.jpg', '43077.jpg', '43088.jpg', '43157.jpg', '43173.jpg', '43223.jpg', '43229.jpg', '43251.jpg', '43423.jpg', '43528.jpg', '43536.jpg', '43551.jpg', '43605.jpg', '43606.jpg', '43610.jpg', '43620.jpg', '43639.jpg', '43726.jpg', '43734.jpg', '43747.jpg', '43786.jpg', '43901.jpg', '43925.jpg', '43993.jpg', '44001.jpg', '44019.jpg', '44021.jpg', '44035.jpg', '44118.jpg', '44174.jpg', '44188.jpg', '44200.jpg', '44221.jpg', '44260.jpg', '44385.jpg', '44503.jpg', '44541.jpg', '44558.jpg', '44632.jpg', '44685.jpg', '44688.jpg', '44713.jpg', '44802.jpg', '44969.jpg', '45067.jpg', '45094.jpg', '45157.jpg', '45180.jpg', '45321.jpg', '45415.jpg', '45452.jpg', '45475.jpg', '45477.jpg', '45523.jpg', '45587.jpg', '45712.jpg', '45824.jpg', '45840.jpg', '45844.jpg', '45857.jpg', '45929.jpg', '46056.jpg', '46073.jpg', '46155.jpg', '46163.jpg', '46204.jpg', '46235.jpg', '46271.jpg', '46390.jpg', '46397.jpg', '46500.jpg', '46514.jpg', '46556.jpg', '46559.jpg', '46562.jpg', '46582.jpg', '46627.jpg', '46645.jpg', '46703.jpg', '46735.jpg', '46749.jpg', '46802.jpg', '46942.jpg', '46968.jpg', '46985.jpg', '47061.jpg', '47075.jpg', '47120.jpg', '47266.jpg', '47328.jpg', '47339.jpg', '47422.jpg', '47526.jpg', '47552.jpg', '47665.jpg', '47696.jpg', '47742.jpg', '47764.jpg', '47775.jpg', '47947.jpg', '47995.jpg', '48018.jpg', '48052.jpg', '48071.jpg', '48095.jpg', '48097.jpg', '48151.jpg', '48187.jpg', '48209.jpg', '48218.jpg', '48298.jpg', '48392.jpg', '48452.jpg', '48457.jpg', '48462.jpg', '48476.jpg', '48485.jpg', '48501.jpg', '48604.jpg', '48784.jpg', '48801.jpg', '48816.jpg', '49059.jpg', '49119.jpg', '49227.jpg', '49290.jpg', '49326.jpg', '49383.jpg', '49388.jpg', '49448.jpg', '49659.jpg', '49667.jpg', '49685.jpg', '49786.jpg', '49922.jpg', '49994.jpg', '49998.jpg', '50072.jpg', '50218.jpg', '50229.jpg', '50269.jpg', '50365.jpg', '50376.jpg', '50456.jpg', '50533.jpg', '50601.jpg', '50628.jpg', '50695.jpg', '50741.jpg', '50805.jpg', '50816.jpg', '50907.jpg', '50920.jpg', '50940.jpg', '50957.jpg', '51020.jpg', '51152.jpg', '51291.jpg', '51292.jpg', '51306.jpg', '51319.jpg', '51347.jpg', '51363.jpg', '51373.jpg', '51518.jpg', '51541.jpg', '51590.jpg', '51630.jpg', '51722.jpg', '51738.jpg', '51802.jpg', '52066.jpg', '52146.jpg', '52163.jpg', '52188.jpg', '52206.jpg', '52222.jpg', '52364.jpg', '52467.jpg', '52478.jpg', '52568.jpg', '52582.jpg', '52618.jpg', '52758.jpg', '52826.jpg', '52905.jpg', '52972.jpg', '53087.jpg', '53099.jpg', '53119.jpg', '53152.jpg', '53159.jpg', '53310.jpg', '53416.jpg', '53492.jpg', '53547.jpg', '53559.jpg', '53560.jpg', '53563.jpg', '53667.jpg', '53726.jpg', '53751.jpg', '53755.jpg', '53758.jpg', '53820.jpg', '53852.jpg', '53853.jpg', '53896.jpg', '53916.jpg', '53969.jpg', '53973.jpg', '53984.jpg', '54017.jpg', '54162.jpg', '54185.jpg', '54247.jpg', '54292.jpg', '54393.jpg', '54577.jpg', '54602.jpg', '54644.jpg', '54669.jpg', '54714.jpg', '54788.jpg', '54796.jpg', '54804.jpg', '54851.jpg', '54860.jpg', '54866.jpg', '55065.jpg', '55101.jpg', '55108.jpg', '55203.jpg', '55213.jpg', '55249.jpg', '55275.jpg', '55277.jpg', '55297.jpg', '55298.jpg', '55344.jpg', '55351.jpg', '55361.jpg', '55511.jpg', '55580.jpg', '55610.jpg', '55632.jpg', '55689.jpg', '55710.jpg', '55740.jpg', '55759.jpg', '55830.jpg', '55835.jpg', '55847.jpg', '55870.jpg', '55889.jpg', '55895.jpg', '55906.jpg', '55945.jpg', '56027.jpg', '56081.jpg', '56108.jpg', '56161.jpg', '56219.jpg', '56238.jpg', '56307.jpg', '56320.jpg', '56324.jpg', '56330.jpg', '56435.jpg', '56461.jpg', '56482.jpg', '56517.jpg', '56536.jpg', '56561.jpg', '56570.jpg', '56572.jpg', '56611.jpg', '56659.jpg', '56702.jpg', '56724.jpg', '56731.jpg', '56736.jpg', '56742.jpg', '57020.jpg', '57023.jpg', '57071.jpg', '57090.jpg', '57159.jpg', '57171.jpg', '57173.jpg', '57304.jpg', '57314.jpg', '57351.jpg', '57375.jpg', '57380.jpg', '57473.jpg', '57592.jpg', '57665.jpg', '57667.jpg', '57722.jpg', '57738.jpg', '57742.jpg', '57764.jpg', '58014.jpg', '58016.jpg', '58025.jpg', '58045.jpg', '58092.jpg', '58273.jpg', '58322.jpg', '58329.jpg', '58334.jpg', '58364.jpg', '58375.jpg', '58401.jpg', '58418.jpg', '58590.jpg', '58677.jpg', '58678.jpg', '58724.jpg', '58726.jpg', '58822.jpg', '58837.jpg', '58849.jpg', '58868.jpg', '58887.jpg', '59160.jpg', '59171.jpg', '59179.jpg', '59294.jpg', '59435.jpg', '59436.jpg', '59522.jpg', '59607.jpg', '59631.jpg', '59690.jpg', '59716.jpg', '59766.jpg', '59772.jpg', '59830.jpg', '59836.jpg', '59869.jpg', '59898.jpg', '59937.jpg', '59952.jpg', '59981.jpg', '60041.jpg', '60462.jpg', '60478.jpg', '60499.jpg', '60500.jpg', '60578.jpg', '60584.jpg', '60627.jpg', '60652.jpg', '60653.jpg', '60659.jpg', '60665.jpg', '60681.jpg', '60705.jpg', '60740.jpg', '60746.jpg', '60864.jpg', '60896.jpg', '60900.jpg', '60990.jpg', '61006.jpg', '61024.jpg', '61055.jpg', '61075.jpg', '61156.jpg', '61195.jpg', '61275.jpg', '61331.jpg', '61354.jpg', '61366.jpg', '61367.jpg', '61383.jpg', '61397.jpg', '61453.jpg', '61508.jpg', '61517.jpg', '61528.jpg', '61582.jpg', '61592.jpg', '61730.jpg', '61769.jpg', '61800.jpg', '61907.jpg', '61909.jpg', '61953.jpg', '61965.jpg', '61988.jpg', '62008.jpg', '62016.jpg', '62094.jpg', '62113.jpg', '62123.jpg', '62131.jpg', '62156.jpg', '62213.jpg', '62275.jpg', '62312.jpg', '62333.jpg', '62388.jpg', '62400.jpg', '62451.jpg', '62476.jpg', '62507.jpg', '62508.jpg', '62563.jpg', '62575.jpg', '62587.jpg', '62606.jpg', '62618.jpg', '62627.jpg', '62662.jpg', '62686.jpg', '62700.jpg', '62740.jpg', '62775.jpg', '62783.jpg', '62841.jpg', '62864.jpg', '62871.jpg', '62890.jpg', '62924.jpg', '62928.jpg', '62955.jpg', '62976.jpg', '63130.jpg', '63215.jpg', '63423.jpg', '63436.jpg', '63640.jpg', '63660.jpg', '63683.jpg', '63718.jpg', '63828.jpg', '63830.jpg', '63832.jpg', '63870.jpg', '63921.jpg', '64001.jpg', '64101.jpg', '64103.jpg', '64192.jpg', '64248.jpg', '64303.jpg', '64336.jpg', '64349.jpg', '64388.jpg', '64403.jpg', '64421.jpg', '64494.jpg', '64540.jpg', '64591.jpg', '64615.jpg', '64650.jpg', '64661.jpg', '64710.jpg', '64745.jpg', '64799.jpg', '64801.jpg', '64804.jpg', '64816.jpg', '64911.jpg', '64935.jpg', '65081.jpg', '65119.jpg', '65278.jpg', '65280.jpg', '65312.jpg', '65429.jpg', '65435.jpg', '65504.jpg', '65518.jpg', '65620.jpg', '65733.jpg', '65757.jpg', '65789.jpg', '65826.jpg', '65834.jpg', '65841.jpg', '65877.jpg', '65916.jpg', '65968.jpg', '66101.jpg', '66354.jpg', '66470.jpg', '66536.jpg', '66579.jpg', '66597.jpg', '66659.jpg', '66675.jpg', '66678.jpg', '66717.jpg', '66835.jpg', '66842.jpg', '66859.jpg', '66896.jpg', '66947.jpg', '66990.jpg', '67003.jpg', '67041.jpg', '67138.jpg', '67227.jpg', '67386.jpg', '67499.jpg', '67574.jpg']\n",
            "test_path:  /content/drive/MyDrive/aiffelthon/FarmDataset/val\n"
          ]
        }
      ]
    },
    {
      "cell_type": "markdown",
      "source": [
        "### S1-4P. 플젝코드 참고 : 커스텀 데이터셋 클래스 정의"
      ],
      "metadata": {
        "id": "ewylDCNUmcOz"
      }
    },
    {
      "cell_type": "code",
      "source": [
        "# class CustomDataset(Dataset):\n",
        "#     def __init__(self, files, labels=None, mode='train'):\n",
        "#         self.mode = mode\n",
        "#         self.files = files\n",
        "#         self.csv_feature_dict = csv_feature_dict\n",
        "#         self.csv_feature_check = [0]*len(self.files)\n",
        "#         self.csv_features = [None]*len(self.files)\n",
        "#         self.max_len = 24 * 6\n",
        "#         self.label_encoder = label_encoder\n",
        "\n",
        "#     def __len__(self):\n",
        "#         return len(self.files)\n",
        "    \n",
        "#     def __getitem__(self, i):\n",
        "#         file = self.files[i]\n",
        "#         file_name = file.split('/')[-1]\n",
        "        \n",
        "#         # csv\n",
        "#         if self.csv_feature_check[i] == 0:\n",
        "#             csv_path = f'{file}/{file_name}.csv'\n",
        "#             df = pd.read_csv(csv_path)[self.csv_feature_dict.keys()]\n",
        "#             df = df.replace('-', 0)\n",
        "#             # MinMax scaling\n",
        "#             for col in df.columns:\n",
        "#                 df[col] = df[col].astype(float) - self.csv_feature_dict[col][0]\n",
        "#                 df[col] = df[col] / (self.csv_feature_dict[col][1]-self.csv_feature_dict[col][0])\n",
        "#             # zero padding\n",
        "#             pad = np.zeros((self.max_len, len(df.columns)))\n",
        "#             length = min(self.max_len, len(df))\n",
        "#             pad[-length:] = df.to_numpy()[-length:]\n",
        "#             # transpose to sequential data\n",
        "#             csv_feature = pad.T\n",
        "#             self.csv_features[i] = csv_feature\n",
        "#             self.csv_feature_check[i] = 1\n",
        "#         else:\n",
        "#             csv_feature = self.csv_features[i]\n",
        "        \n",
        "#         # image\n",
        "#         image_path = f'{file}/{file_name}.jpg'\n",
        "#         img = cv2.imread(image_path)\n",
        "#         img = cv2.resize(img, dsize=(256, 256), interpolation=cv2.INTER_AREA)\n",
        "#         img = img.astype(np.float32)/255\n",
        "#         img = np.transpose(img, (2,0,1))\n",
        "        \n",
        "#         if self.mode == 'train':\n",
        "#             json_path = f'{file}/{file_name}.json'\n",
        "#             with open(json_path, 'r') as f:\n",
        "#                 json_file = json.load(f)\n",
        "            \n",
        "#             crop = json_file['annotations']['crop']\n",
        "#             disease = json_file['annotations']['disease']\n",
        "#             risk = json_file['annotations']['risk']\n",
        "#             label = f'{crop}_{disease}_{risk}'\n",
        "            \n",
        "#             return {\n",
        "#                 'img' : torch.tensor(img, dtype=torch.float32),\n",
        "#                 'csv_feature' : torch.tensor(csv_feature, dtype=torch.float32),\n",
        "#                 'label' : torch.tensor(self.label_encoder[label], dtype=torch.long)\n",
        "#             }\n",
        "#         else:\n",
        "#             return {\n",
        "#                 'img' : torch.tensor(img, dtype=torch.float32),\n",
        "#                 'csv_feature' : torch.tensor(csv_feature, dtype=torch.float32)\n",
        "#             }"
      ],
      "metadata": {
        "id": "SXF-NG3hmeqK"
      },
      "execution_count": null,
      "outputs": []
    },
    {
      "cell_type": "markdown",
      "source": [
        "### S1-4P. 플젝코드 참고 : 데이터로더 설정"
      ],
      "metadata": {
        "id": "59tESm3anpne"
      }
    },
    {
      "cell_type": "code",
      "execution_count": null,
      "metadata": {
        "id": "8ebv6SqTno8G"
      },
      "outputs": [],
      "source": [
        "# train = sorted(glob('data/train/*'))\n",
        "# test = sorted(glob('data/test/*'))\n",
        "\n",
        "# labelsss = pd.read_csv('data/train.csv')['label']\n",
        "# train, val = train_test_split(train, test_size=0.2, stratify=labelsss)\n",
        "\n",
        "# train_dataset = CustomDataset(train)\n",
        "# val_dataset = CustomDataset(val)\n",
        "# test_dataset = CustomDataset(test, mode = 'test')\n",
        "\n",
        "# train_dataloader = torch.utils.data.DataLoader(train_dataset, batch_size=batch_size, num_workers=16, shuffle=True)\n",
        "# val_dataloader = torch.utils.data.DataLoader(val_dataset, batch_size=batch_size, num_workers=16, shuffle=False)\n",
        "# test_dataloader = torch.utils.data.DataLoader(test_dataset, batch_size=batch_size, num_workers=16, shuffle=False)"
      ]
    },
    {
      "cell_type": "markdown",
      "source": [
        "## STEP 4. 모델 불러오기 : Faster R-CNN\n",
        "\n",
        "* 모델 개요\n",
        "    * 이번 마스크 검출의 경우에 사용된 모델은 Faster R-CNN모델에 기반한 Mask R-CNN모델\n",
        "\n",
        "    * Faster R-CNN모델은 이미지에 존재할 수 있는 객체에 대한 바운딩 박스와 클래스 점수를 모두 예측하는 모델\n",
        "\n",
        "    * Mask R-CNN 모델은 각 인스턴스에 대한 분할 마스크를 예측하는 추가 분기(레이어)를 Faster R-CNN에 추가한 모델\n",
        "\n",
        "* 전이학습(미리 학습된 모델을 가지고 와서 사용)\n",
        "    * 첫번째, 미리 학습된 모델에서 시작해서 마지막 레이어 수준만 미세 조정하는 방법\n",
        "    * 두번째, 모델의 백본을 다른 백본으로 교체하는 것. 일테면 더 빠른 예측을 하려고 할 때(예:ResNet101에서 MobilenetV2로 교체하면 수행 속도 향상 기대. 단, 인식 성능은 저하될 수 있음)\n",
        "\n",
        "* torchvision에서는 각종 컴퓨터 비전 문제를 해결하기 위한 딥러닝모델을 쉽게 불러올 수 있는 API를 제공함.\n",
        "* torchvision.model.detection에서는 Faster R-CNN API(torchvision.models.detection.fasterrcnn_resnet50_fpns)을 제공하고 있어 쉽게 구현이 가능 \n",
        "* 이는 COCO데이터셋을 ResNet50기반으로 pre-trained한 모델을 제공하고 있으며, pretrained=True/False로 설정할 수 있음\n",
        "\n",
        "* 이후 모델을 불러올 때는, \n",
        "* num_classes에 원하는 클래스 갯수를 설정하고 모델을 사용하면 됨\n",
        "* Faster R-CNN 사용 시 주의할 점은, background 클래스를 포함한 갯수를 num_classes에 명시해주어야 함. -> 실제 데이터셋의 클래스 갯수에 1개를 더해 backgrond 클래스 갯수를 추가해 주어야 함"
      ],
      "metadata": {
        "id": "A_ce3VbF3qZN"
      }
    },
    {
      "cell_type": "code",
      "source": [
        "# 모델 불러오는 함수 정의 : [retrain된 fasterrcnn_resnet50_fpn 모델\n",
        "# 미리 학습된 모델로부터 특정 클래스를 위해 미세 조정 \n",
        "def get_model_instance_segmentation(num_classes):\n",
        "    # COCO로 미리 학습된 모델 할당\n",
        "    model = torchvision.models.detection.fasterrcnn_resnet50_fpn(pretrained=True)\n",
        "\n",
        "    # 분류기를 새로운 것으로 교체하는데, num_classes는 사용자가 정의해 줌\n",
        "    # num_classes = 2  # 1 클래스(작물) + 배경\n",
        "\n",
        "    # 분류기에 넣어줘서 사용할 입력 특징의 차원 정보(갯수)를 얻음\n",
        "    in_features = model.roi_heads.box_predictor.cls_score.in_features\n",
        "\n",
        "    # 마스크 예측기를(미리 학습된 모델의 머리 부분)을 새로운 것으로 교체함\n",
        "    model.roi_heads.box_predictor = FastRCNNPredictor(in_features, num_classes)\n",
        "\n",
        "    # 만일 모델을 일부 수정하려는 경우는 다음과 같이 사용함\n",
        "    '''\n",
        "    in_features = model.roi_heads.box_predictor.cls_score.in_features\n",
        "    hidden_layer = 256\n",
        "    model.roi_heads.box_predictor = FastRCNNPredictor(in_features, hidden_layer, num_classes)\n",
        "    '''\n",
        "    \n",
        "    return model"
      ],
      "metadata": {
        "id": "zoqrGNFR3zEt"
      },
      "execution_count": null,
      "outputs": []
    },
    {
      "cell_type": "markdown",
      "source": [
        "## STEP 5. 전이 학습\n",
        "* FaceMaskDetection에 전이 학습을 실시해 봄\n",
        "* FaceMaskDetection 데이터셋은 3개의 클래스로 이루어져 있지만, background 클래스를 포함해 num_classes를 4로 설정한 후 모델을 불러와야 함\n",
        "* GPU를 사용할 수 있는 환경이라면 device로 지정해 불러온 모델을 GPU에 보내줌\n",
        "=>\n",
        "* 플젝(농작물 병해 진단)에 전이 학습을 실시해 봄\n",
        "* 플젝(농작물 병해 진단) 데이터셋은 1개의 클래스로 이루어져 있지만, background 클래스를 포함해 num_classes를 2로 설정한 후 모델을 불러오\n",
        "* GPU를 사용할 수 있는 환경이라면 device로 지정해 불러온 모델을 GPU에 보내줌"
      ],
      "metadata": {
        "id": "gLpeojPP54NO"
      }
    },
    {
      "cell_type": "code",
      "source": [
        "# get_model_instance_segmentation()으로 모델 불러옴. 파라미터 4는 클래스의 수\n",
        "# 클래스 3개 + 배경 클래스 1개 = 4\n",
        "\n",
        "model = get_model_instance_segmentation(112)\n",
        "\n",
        "# GPU를 사용할 수 있으면 모델을 GPU에 보내줌\n",
        "device = torch.device('cuda') if torch.cuda.is_available() else torch.device('cpu') \n",
        "model.to(device)"
      ],
      "metadata": {
        "id": "eaFFnYv65_RP",
        "colab": {
          "base_uri": "https://localhost:8080/"
        },
        "outputId": "7a4d7e2a-6788-45ef-a59c-ef0ce9be5fd1"
      },
      "execution_count": null,
      "outputs": [
        {
          "output_type": "stream",
          "name": "stderr",
          "text": [
            "/usr/local/lib/python3.7/dist-packages/torchvision/models/_utils.py:209: UserWarning: The parameter 'pretrained' is deprecated since 0.13 and will be removed in 0.15, please use 'weights' instead.\n",
            "  f\"The parameter '{pretrained_param}' is deprecated since 0.13 and will be removed in 0.15, \"\n",
            "/usr/local/lib/python3.7/dist-packages/torchvision/models/_utils.py:223: UserWarning: Arguments other than a weight enum or `None` for 'weights' are deprecated since 0.13 and will be removed in 0.15. The current behavior is equivalent to passing `weights=FasterRCNN_ResNet50_FPN_Weights.COCO_V1`. You can also use `weights=FasterRCNN_ResNet50_FPN_Weights.DEFAULT` to get the most up-to-date weights.\n",
            "  warnings.warn(msg)\n"
          ]
        },
        {
          "output_type": "execute_result",
          "data": {
            "text/plain": [
              "FasterRCNN(\n",
              "  (transform): GeneralizedRCNNTransform(\n",
              "      Normalize(mean=[0.485, 0.456, 0.406], std=[0.229, 0.224, 0.225])\n",
              "      Resize(min_size=(800,), max_size=1333, mode='bilinear')\n",
              "  )\n",
              "  (backbone): BackboneWithFPN(\n",
              "    (body): IntermediateLayerGetter(\n",
              "      (conv1): Conv2d(3, 64, kernel_size=(7, 7), stride=(2, 2), padding=(3, 3), bias=False)\n",
              "      (bn1): FrozenBatchNorm2d(64, eps=0.0)\n",
              "      (relu): ReLU(inplace=True)\n",
              "      (maxpool): MaxPool2d(kernel_size=3, stride=2, padding=1, dilation=1, ceil_mode=False)\n",
              "      (layer1): Sequential(\n",
              "        (0): Bottleneck(\n",
              "          (conv1): Conv2d(64, 64, kernel_size=(1, 1), stride=(1, 1), bias=False)\n",
              "          (bn1): FrozenBatchNorm2d(64, eps=0.0)\n",
              "          (conv2): Conv2d(64, 64, kernel_size=(3, 3), stride=(1, 1), padding=(1, 1), bias=False)\n",
              "          (bn2): FrozenBatchNorm2d(64, eps=0.0)\n",
              "          (conv3): Conv2d(64, 256, kernel_size=(1, 1), stride=(1, 1), bias=False)\n",
              "          (bn3): FrozenBatchNorm2d(256, eps=0.0)\n",
              "          (relu): ReLU(inplace=True)\n",
              "          (downsample): Sequential(\n",
              "            (0): Conv2d(64, 256, kernel_size=(1, 1), stride=(1, 1), bias=False)\n",
              "            (1): FrozenBatchNorm2d(256, eps=0.0)\n",
              "          )\n",
              "        )\n",
              "        (1): Bottleneck(\n",
              "          (conv1): Conv2d(256, 64, kernel_size=(1, 1), stride=(1, 1), bias=False)\n",
              "          (bn1): FrozenBatchNorm2d(64, eps=0.0)\n",
              "          (conv2): Conv2d(64, 64, kernel_size=(3, 3), stride=(1, 1), padding=(1, 1), bias=False)\n",
              "          (bn2): FrozenBatchNorm2d(64, eps=0.0)\n",
              "          (conv3): Conv2d(64, 256, kernel_size=(1, 1), stride=(1, 1), bias=False)\n",
              "          (bn3): FrozenBatchNorm2d(256, eps=0.0)\n",
              "          (relu): ReLU(inplace=True)\n",
              "        )\n",
              "        (2): Bottleneck(\n",
              "          (conv1): Conv2d(256, 64, kernel_size=(1, 1), stride=(1, 1), bias=False)\n",
              "          (bn1): FrozenBatchNorm2d(64, eps=0.0)\n",
              "          (conv2): Conv2d(64, 64, kernel_size=(3, 3), stride=(1, 1), padding=(1, 1), bias=False)\n",
              "          (bn2): FrozenBatchNorm2d(64, eps=0.0)\n",
              "          (conv3): Conv2d(64, 256, kernel_size=(1, 1), stride=(1, 1), bias=False)\n",
              "          (bn3): FrozenBatchNorm2d(256, eps=0.0)\n",
              "          (relu): ReLU(inplace=True)\n",
              "        )\n",
              "      )\n",
              "      (layer2): Sequential(\n",
              "        (0): Bottleneck(\n",
              "          (conv1): Conv2d(256, 128, kernel_size=(1, 1), stride=(1, 1), bias=False)\n",
              "          (bn1): FrozenBatchNorm2d(128, eps=0.0)\n",
              "          (conv2): Conv2d(128, 128, kernel_size=(3, 3), stride=(2, 2), padding=(1, 1), bias=False)\n",
              "          (bn2): FrozenBatchNorm2d(128, eps=0.0)\n",
              "          (conv3): Conv2d(128, 512, kernel_size=(1, 1), stride=(1, 1), bias=False)\n",
              "          (bn3): FrozenBatchNorm2d(512, eps=0.0)\n",
              "          (relu): ReLU(inplace=True)\n",
              "          (downsample): Sequential(\n",
              "            (0): Conv2d(256, 512, kernel_size=(1, 1), stride=(2, 2), bias=False)\n",
              "            (1): FrozenBatchNorm2d(512, eps=0.0)\n",
              "          )\n",
              "        )\n",
              "        (1): Bottleneck(\n",
              "          (conv1): Conv2d(512, 128, kernel_size=(1, 1), stride=(1, 1), bias=False)\n",
              "          (bn1): FrozenBatchNorm2d(128, eps=0.0)\n",
              "          (conv2): Conv2d(128, 128, kernel_size=(3, 3), stride=(1, 1), padding=(1, 1), bias=False)\n",
              "          (bn2): FrozenBatchNorm2d(128, eps=0.0)\n",
              "          (conv3): Conv2d(128, 512, kernel_size=(1, 1), stride=(1, 1), bias=False)\n",
              "          (bn3): FrozenBatchNorm2d(512, eps=0.0)\n",
              "          (relu): ReLU(inplace=True)\n",
              "        )\n",
              "        (2): Bottleneck(\n",
              "          (conv1): Conv2d(512, 128, kernel_size=(1, 1), stride=(1, 1), bias=False)\n",
              "          (bn1): FrozenBatchNorm2d(128, eps=0.0)\n",
              "          (conv2): Conv2d(128, 128, kernel_size=(3, 3), stride=(1, 1), padding=(1, 1), bias=False)\n",
              "          (bn2): FrozenBatchNorm2d(128, eps=0.0)\n",
              "          (conv3): Conv2d(128, 512, kernel_size=(1, 1), stride=(1, 1), bias=False)\n",
              "          (bn3): FrozenBatchNorm2d(512, eps=0.0)\n",
              "          (relu): ReLU(inplace=True)\n",
              "        )\n",
              "        (3): Bottleneck(\n",
              "          (conv1): Conv2d(512, 128, kernel_size=(1, 1), stride=(1, 1), bias=False)\n",
              "          (bn1): FrozenBatchNorm2d(128, eps=0.0)\n",
              "          (conv2): Conv2d(128, 128, kernel_size=(3, 3), stride=(1, 1), padding=(1, 1), bias=False)\n",
              "          (bn2): FrozenBatchNorm2d(128, eps=0.0)\n",
              "          (conv3): Conv2d(128, 512, kernel_size=(1, 1), stride=(1, 1), bias=False)\n",
              "          (bn3): FrozenBatchNorm2d(512, eps=0.0)\n",
              "          (relu): ReLU(inplace=True)\n",
              "        )\n",
              "      )\n",
              "      (layer3): Sequential(\n",
              "        (0): Bottleneck(\n",
              "          (conv1): Conv2d(512, 256, kernel_size=(1, 1), stride=(1, 1), bias=False)\n",
              "          (bn1): FrozenBatchNorm2d(256, eps=0.0)\n",
              "          (conv2): Conv2d(256, 256, kernel_size=(3, 3), stride=(2, 2), padding=(1, 1), bias=False)\n",
              "          (bn2): FrozenBatchNorm2d(256, eps=0.0)\n",
              "          (conv3): Conv2d(256, 1024, kernel_size=(1, 1), stride=(1, 1), bias=False)\n",
              "          (bn3): FrozenBatchNorm2d(1024, eps=0.0)\n",
              "          (relu): ReLU(inplace=True)\n",
              "          (downsample): Sequential(\n",
              "            (0): Conv2d(512, 1024, kernel_size=(1, 1), stride=(2, 2), bias=False)\n",
              "            (1): FrozenBatchNorm2d(1024, eps=0.0)\n",
              "          )\n",
              "        )\n",
              "        (1): Bottleneck(\n",
              "          (conv1): Conv2d(1024, 256, kernel_size=(1, 1), stride=(1, 1), bias=False)\n",
              "          (bn1): FrozenBatchNorm2d(256, eps=0.0)\n",
              "          (conv2): Conv2d(256, 256, kernel_size=(3, 3), stride=(1, 1), padding=(1, 1), bias=False)\n",
              "          (bn2): FrozenBatchNorm2d(256, eps=0.0)\n",
              "          (conv3): Conv2d(256, 1024, kernel_size=(1, 1), stride=(1, 1), bias=False)\n",
              "          (bn3): FrozenBatchNorm2d(1024, eps=0.0)\n",
              "          (relu): ReLU(inplace=True)\n",
              "        )\n",
              "        (2): Bottleneck(\n",
              "          (conv1): Conv2d(1024, 256, kernel_size=(1, 1), stride=(1, 1), bias=False)\n",
              "          (bn1): FrozenBatchNorm2d(256, eps=0.0)\n",
              "          (conv2): Conv2d(256, 256, kernel_size=(3, 3), stride=(1, 1), padding=(1, 1), bias=False)\n",
              "          (bn2): FrozenBatchNorm2d(256, eps=0.0)\n",
              "          (conv3): Conv2d(256, 1024, kernel_size=(1, 1), stride=(1, 1), bias=False)\n",
              "          (bn3): FrozenBatchNorm2d(1024, eps=0.0)\n",
              "          (relu): ReLU(inplace=True)\n",
              "        )\n",
              "        (3): Bottleneck(\n",
              "          (conv1): Conv2d(1024, 256, kernel_size=(1, 1), stride=(1, 1), bias=False)\n",
              "          (bn1): FrozenBatchNorm2d(256, eps=0.0)\n",
              "          (conv2): Conv2d(256, 256, kernel_size=(3, 3), stride=(1, 1), padding=(1, 1), bias=False)\n",
              "          (bn2): FrozenBatchNorm2d(256, eps=0.0)\n",
              "          (conv3): Conv2d(256, 1024, kernel_size=(1, 1), stride=(1, 1), bias=False)\n",
              "          (bn3): FrozenBatchNorm2d(1024, eps=0.0)\n",
              "          (relu): ReLU(inplace=True)\n",
              "        )\n",
              "        (4): Bottleneck(\n",
              "          (conv1): Conv2d(1024, 256, kernel_size=(1, 1), stride=(1, 1), bias=False)\n",
              "          (bn1): FrozenBatchNorm2d(256, eps=0.0)\n",
              "          (conv2): Conv2d(256, 256, kernel_size=(3, 3), stride=(1, 1), padding=(1, 1), bias=False)\n",
              "          (bn2): FrozenBatchNorm2d(256, eps=0.0)\n",
              "          (conv3): Conv2d(256, 1024, kernel_size=(1, 1), stride=(1, 1), bias=False)\n",
              "          (bn3): FrozenBatchNorm2d(1024, eps=0.0)\n",
              "          (relu): ReLU(inplace=True)\n",
              "        )\n",
              "        (5): Bottleneck(\n",
              "          (conv1): Conv2d(1024, 256, kernel_size=(1, 1), stride=(1, 1), bias=False)\n",
              "          (bn1): FrozenBatchNorm2d(256, eps=0.0)\n",
              "          (conv2): Conv2d(256, 256, kernel_size=(3, 3), stride=(1, 1), padding=(1, 1), bias=False)\n",
              "          (bn2): FrozenBatchNorm2d(256, eps=0.0)\n",
              "          (conv3): Conv2d(256, 1024, kernel_size=(1, 1), stride=(1, 1), bias=False)\n",
              "          (bn3): FrozenBatchNorm2d(1024, eps=0.0)\n",
              "          (relu): ReLU(inplace=True)\n",
              "        )\n",
              "      )\n",
              "      (layer4): Sequential(\n",
              "        (0): Bottleneck(\n",
              "          (conv1): Conv2d(1024, 512, kernel_size=(1, 1), stride=(1, 1), bias=False)\n",
              "          (bn1): FrozenBatchNorm2d(512, eps=0.0)\n",
              "          (conv2): Conv2d(512, 512, kernel_size=(3, 3), stride=(2, 2), padding=(1, 1), bias=False)\n",
              "          (bn2): FrozenBatchNorm2d(512, eps=0.0)\n",
              "          (conv3): Conv2d(512, 2048, kernel_size=(1, 1), stride=(1, 1), bias=False)\n",
              "          (bn3): FrozenBatchNorm2d(2048, eps=0.0)\n",
              "          (relu): ReLU(inplace=True)\n",
              "          (downsample): Sequential(\n",
              "            (0): Conv2d(1024, 2048, kernel_size=(1, 1), stride=(2, 2), bias=False)\n",
              "            (1): FrozenBatchNorm2d(2048, eps=0.0)\n",
              "          )\n",
              "        )\n",
              "        (1): Bottleneck(\n",
              "          (conv1): Conv2d(2048, 512, kernel_size=(1, 1), stride=(1, 1), bias=False)\n",
              "          (bn1): FrozenBatchNorm2d(512, eps=0.0)\n",
              "          (conv2): Conv2d(512, 512, kernel_size=(3, 3), stride=(1, 1), padding=(1, 1), bias=False)\n",
              "          (bn2): FrozenBatchNorm2d(512, eps=0.0)\n",
              "          (conv3): Conv2d(512, 2048, kernel_size=(1, 1), stride=(1, 1), bias=False)\n",
              "          (bn3): FrozenBatchNorm2d(2048, eps=0.0)\n",
              "          (relu): ReLU(inplace=True)\n",
              "        )\n",
              "        (2): Bottleneck(\n",
              "          (conv1): Conv2d(2048, 512, kernel_size=(1, 1), stride=(1, 1), bias=False)\n",
              "          (bn1): FrozenBatchNorm2d(512, eps=0.0)\n",
              "          (conv2): Conv2d(512, 512, kernel_size=(3, 3), stride=(1, 1), padding=(1, 1), bias=False)\n",
              "          (bn2): FrozenBatchNorm2d(512, eps=0.0)\n",
              "          (conv3): Conv2d(512, 2048, kernel_size=(1, 1), stride=(1, 1), bias=False)\n",
              "          (bn3): FrozenBatchNorm2d(2048, eps=0.0)\n",
              "          (relu): ReLU(inplace=True)\n",
              "        )\n",
              "      )\n",
              "    )\n",
              "    (fpn): FeaturePyramidNetwork(\n",
              "      (inner_blocks): ModuleList(\n",
              "        (0): Conv2dNormActivation(\n",
              "          (0): Conv2d(256, 256, kernel_size=(1, 1), stride=(1, 1))\n",
              "        )\n",
              "        (1): Conv2dNormActivation(\n",
              "          (0): Conv2d(512, 256, kernel_size=(1, 1), stride=(1, 1))\n",
              "        )\n",
              "        (2): Conv2dNormActivation(\n",
              "          (0): Conv2d(1024, 256, kernel_size=(1, 1), stride=(1, 1))\n",
              "        )\n",
              "        (3): Conv2dNormActivation(\n",
              "          (0): Conv2d(2048, 256, kernel_size=(1, 1), stride=(1, 1))\n",
              "        )\n",
              "      )\n",
              "      (layer_blocks): ModuleList(\n",
              "        (0): Conv2dNormActivation(\n",
              "          (0): Conv2d(256, 256, kernel_size=(3, 3), stride=(1, 1), padding=(1, 1))\n",
              "        )\n",
              "        (1): Conv2dNormActivation(\n",
              "          (0): Conv2d(256, 256, kernel_size=(3, 3), stride=(1, 1), padding=(1, 1))\n",
              "        )\n",
              "        (2): Conv2dNormActivation(\n",
              "          (0): Conv2d(256, 256, kernel_size=(3, 3), stride=(1, 1), padding=(1, 1))\n",
              "        )\n",
              "        (3): Conv2dNormActivation(\n",
              "          (0): Conv2d(256, 256, kernel_size=(3, 3), stride=(1, 1), padding=(1, 1))\n",
              "        )\n",
              "      )\n",
              "      (extra_blocks): LastLevelMaxPool()\n",
              "    )\n",
              "  )\n",
              "  (rpn): RegionProposalNetwork(\n",
              "    (anchor_generator): AnchorGenerator()\n",
              "    (head): RPNHead(\n",
              "      (conv): Sequential(\n",
              "        (0): Conv2dNormActivation(\n",
              "          (0): Conv2d(256, 256, kernel_size=(3, 3), stride=(1, 1), padding=(1, 1))\n",
              "          (1): ReLU(inplace=True)\n",
              "        )\n",
              "      )\n",
              "      (cls_logits): Conv2d(256, 3, kernel_size=(1, 1), stride=(1, 1))\n",
              "      (bbox_pred): Conv2d(256, 12, kernel_size=(1, 1), stride=(1, 1))\n",
              "    )\n",
              "  )\n",
              "  (roi_heads): RoIHeads(\n",
              "    (box_roi_pool): MultiScaleRoIAlign(featmap_names=['0', '1', '2', '3'], output_size=(7, 7), sampling_ratio=2)\n",
              "    (box_head): TwoMLPHead(\n",
              "      (fc6): Linear(in_features=12544, out_features=1024, bias=True)\n",
              "      (fc7): Linear(in_features=1024, out_features=1024, bias=True)\n",
              "    )\n",
              "    (box_predictor): FastRCNNPredictor(\n",
              "      (cls_score): Linear(in_features=1024, out_features=112, bias=True)\n",
              "      (bbox_pred): Linear(in_features=1024, out_features=448, bias=True)\n",
              "    )\n",
              "  )\n",
              ")"
            ]
          },
          "metadata": {},
          "execution_count": 31
        }
      ]
    },
    {
      "cell_type": "code",
      "source": [
        "torch.cuda.is_available()"
      ],
      "metadata": {
        "id": "7yFaHqIM6HdV",
        "colab": {
          "base_uri": "https://localhost:8080/"
        },
        "outputId": "f39ff243-9736-432e-a232-62996fb200fe"
      },
      "execution_count": null,
      "outputs": [
        {
          "output_type": "execute_result",
          "data": {
            "text/plain": [
              "True"
            ]
          },
          "metadata": {},
          "execution_count": 32
        }
      ]
    },
    {
      "cell_type": "markdown",
      "source": [
        "## STEP 6. 모델 학습"
      ],
      "metadata": {
        "id": "Sc36u0m0VJUP"
      }
    },
    {
      "cell_type": "code",
      "source": [
        "# 모델 학습. epoch지정해 주고, optimizer도 지정해 줌(여기선 SGD)\n",
        "\n",
        "num_epochs = 1\n",
        "params = [p for p in model.parameters() if p.requires_grad]\n",
        "optimizer = torch.optim.SGD(params, lr=0.005,\n",
        "                                momentum=0.9, weight_decay=0.0005)"
      ],
      "metadata": {
        "id": "MOAh-CMM6Oyk"
      },
      "execution_count": null,
      "outputs": []
    },
    {
      "cell_type": "code",
      "source": [
        "# data_loader에서 한 배치씩 순서대로 모델에 사용하며, 이후 loss 계산을 통해 최적화 수행\n",
        "# 각 epoch마다 출력되는 loss를 통해 학습이 진행되는 것을 확인할 수 있음\n",
        "\n",
        "print('----------------------train start--------------------------')\n",
        "for epoch in range(num_epochs):\n",
        "    start = time.time()\n",
        "    model.train()\n",
        "    i = 0    \n",
        "    epoch_loss = 0\n",
        "    for imgs, annotations in data_loader:\n",
        "        i += 1\n",
        "\n",
        "        # 이미지 넘겨받은 것을 GPU에 할당\n",
        "        imgs = list(img.to(device) for img in imgs)\n",
        "\n",
        "        # annotations 넘겨받은 것을 GPU에 할당..\n",
        "        annotations = [{k: v.to(device) for k, v in t.items()} for t in annotations]\n",
        "\n",
        "        ##################################################################\n",
        "        # print(len(imgs))\n",
        "        # print(len(annotations))\n",
        "\n",
        "        # 1, 2, 3, 4\n",
        "        # [1, 2, 3, 4] <- list라서 tensor의 차원이 없음\n",
        "        # torch.cat([1, 2, 3, 4], dim=0) <- (N,) Tensor의 차원이 생김\n",
        "        # annotations = torch.cat(annotations, dim=0) # batch dimension 추가\n",
        "        ##################################################################\n",
        "\n",
        "        loss_dict = model(imgs, annotations) \n",
        "        losses = sum(loss for loss in loss_dict.values())        \n",
        "\n",
        "        optimizer.zero_grad()\n",
        "        losses.backward()\n",
        "        optimizer.step() \n",
        "        epoch_loss += losses\n",
        "    print(f'epoch : {epoch+1}, Loss : {epoch_loss}, time : {time.time() - start}')"
      ],
      "metadata": {
        "id": "cvGheWhe6TPn",
        "colab": {
          "base_uri": "https://localhost:8080/"
        },
        "outputId": "869d8ef6-11a1-44e4-9730-b56bdbf6e352"
      },
      "execution_count": null,
      "outputs": [
        {
          "output_type": "stream",
          "name": "stdout",
          "text": [
            "----------------------train start--------------------------\n",
            "epoch : 1, Loss : 491.5052795410156, time : 1795.7643465995789\n"
          ]
        }
      ]
    },
    {
      "cell_type": "code",
      "source": [
        "# torch.save() : 학습시킨 가중치를 저장해 두고 나중에 언제든지 불러와 사용\n",
        "torch.save(model.state_dict(),f'model_{num_epochs}.pt')"
      ],
      "metadata": {
        "id": "rBKYjjB66WHb"
      },
      "execution_count": null,
      "outputs": []
    },
    {
      "cell_type": "code",
      "source": [
        "model.load_state_dict(torch.load(f'model_{num_epochs}.pt'))"
      ],
      "metadata": {
        "id": "6JSnhMJQ6Y2r",
        "colab": {
          "base_uri": "https://localhost:8080/"
        },
        "outputId": "2f98cdcb-9012-49f4-b9ca-e22904c9229f"
      },
      "execution_count": null,
      "outputs": [
        {
          "output_type": "execute_result",
          "data": {
            "text/plain": [
              "<All keys matched successfully>"
            ]
          },
          "metadata": {},
          "execution_count": 36
        }
      ]
    },
    {
      "cell_type": "markdown",
      "source": [
        "## STEP 7. Inference\n",
        "* 모델 학습이 끝났으면 잘 학습되었는지 예측 결과를 확인해 봄\n",
        "* 예측결과에는 바운딩박스의 좌표(bbox)와 클래스(label), 점수(scores)가 포함됨\n",
        "* 점수(scores)에는 해당 클래스의 신뢰도 값이 저장되는데..\n",
        "* make_prediction : treshhold값이 0.5이상인 것만 추출하도록 설정해주는 파라미터\n",
        "* test_data_loader의 첫번째 배치에 대해서만 결과 출력"
      ],
      "metadata": {
        "id": "EerOoaPR6lBG"
      }
    },
    {
      "cell_type": "code",
      "source": [
        "def make_prediction(model, img, threshold):\n",
        "    model.eval()\n",
        "    preds = model(img)\n",
        "    for id in range(len(preds)) :\n",
        "        idx_list = []\n",
        "\n",
        "        for idx, score in enumerate(preds[id]['scores']) :\n",
        "            if score > threshold : \n",
        "                idx_list.append(idx)\n",
        "\n",
        "        preds[id]['labels'] = preds[id]['labels'][idx_list]\n",
        "        preds[id]['boxes'] = preds[id]['boxes'][idx_list]\n",
        "\n",
        "        ''' 이 부분은 일단 배제\n",
        "        preds[id]['pboxes'] = preds[id]['pboxes'][idx_list]\n",
        "        ''' \n",
        "        \n",
        "        preds[id]['scores'] = preds[id]['scores'][idx_list]\n",
        "\n",
        "    return preds"
      ],
      "metadata": {
        "id": "pssASrXy6r6_"
      },
      "execution_count": null,
      "outputs": []
    },
    {
      "cell_type": "code",
      "source": [
        "with torch.no_grad(): \n",
        "    # 테스트셋 배치사이즈= 2\n",
        "    for imgs, annotations in test_data_loader:\n",
        "        imgs = list(img.to(device) for img in imgs)\n",
        "\n",
        "        pred = make_prediction(model, imgs, 0.5)\n",
        "        print(pred)\n",
        "        break\n",
        "\n",
        "    ''' \n",
        "    Error : 10027.json은 없는 파일인데 열려고 해서 생기는 오류 => 왜?\n",
        "    <ipython-input-22-8d6b95dd040f> in generate_target(file)\n",
        "        75     \n",
        "        76 \n",
        "    ---> 77     with open(file) as f:\n",
        "        78 \n",
        "        79         # json파일을 읽어서 part\n",
        "\n",
        "    FileNotFoundError: [Errno 2] No such file or directory:\n",
        "    '/content/drive/MyDrive/aiffelthon/FarmDataset/train/annotations/10027.json'\n",
        "\n",
        "    => 해결 : test이 경우 경로 지정의 조건에 'test'가 포함되었는지 여부로 했는데\n",
        "            새롭게 데이터셋 정리하면서 'val'로 했기 때문에 train과 test인 경우의\n",
        "            경로 지정이 구분되지 못함\n",
        "    '''"
      ],
      "metadata": {
        "id": "IBeD60JJ6vXB",
        "colab": {
          "base_uri": "https://localhost:8080/"
        },
        "outputId": "a5c04b68-76db-4df9-9a2a-b63d0300ae42"
      },
      "execution_count": null,
      "outputs": [
        {
          "output_type": "stream",
          "name": "stdout",
          "text": [
            "idx:  0\n",
            "10027.json\n",
            "test label_path: /content/drive/MyDrive/aiffelthon/FarmDataset/val/annotations/10027.json\n",
            "idx:  1\n",
            "10037.json\n",
            "test label_path: /content/drive/MyDrive/aiffelthon/FarmDataset/val/annotations/10037.json\n",
            "[{'boxes': tensor([], device='cuda:0', size=(0, 4)), 'labels': tensor([], device='cuda:0', dtype=torch.int64), 'scores': tensor([], device='cuda:0')}, {'boxes': tensor([], device='cuda:0', size=(0, 4)), 'labels': tensor([], device='cuda:0', dtype=torch.int64), 'scores': tensor([], device='cuda:0')}]\n"
          ]
        }
      ]
    },
    {
      "cell_type": "code",
      "source": [
        "# 예측된 결과를 이용해 이미지 위에 바운딩 박스를 그려봄\n",
        "# 위에서 정의한 plot_image_from_output()함수로 그림을 출력함\n",
        "# Target이 실제 바운딩 박스 위치,, Prediction이 모델이 예측한 결과\n",
        "\n",
        "_idx = 1\n",
        "\n",
        "# 실제 바운딩 박스 위치\n",
        "print(\"Target : \", annotations[_idx]['labels'][0])\n",
        "plot_image_from_output(imgs[_idx], annotations[_idx])\n",
        "\n",
        "# 모델이 예측한 바운딩 박스 위치 결과\n",
        "print(\"Prediction : \", pred[_idx]['labels'][0])\n",
        "plot_image_from_output(imgs[_idx], pred[_idx])"
      ],
      "metadata": {
        "id": "ASZ25gx46vcQ",
        "colab": {
          "base_uri": "https://localhost:8080/",
          "height": 524
        },
        "outputId": "ab251e47-bc10-482f-90ba-2940ab9d90ae"
      },
      "execution_count": null,
      "outputs": [
        {
          "output_type": "stream",
          "name": "stderr",
          "text": [
            "WARNING:matplotlib.image:Clipping input data to the valid range for imshow with RGB data ([0..1] for floats or [0..255] for integers).\n"
          ]
        },
        {
          "output_type": "stream",
          "name": "stdout",
          "text": [
            "Target :  tensor(41)\n"
          ]
        },
        {
          "output_type": "display_data",
          "data": {
            "text/plain": [
              "<Figure size 432x288 with 1 Axes>"
            ],
            "image/png": "[encoded data removed]"
          },
          "metadata": {
            "needs_background": "light"
          }
        },
        {
          "output_type": "error",
          "ename": "IndexError",
          "evalue": "ignored",
          "traceback": [
            "\u001b[0;31m---------------------------------------------------------------------------\u001b[0m",
            "\u001b[0;31mIndexError\u001b[0m                                Traceback (most recent call last)",
            "\u001b[0;32m<ipython-input-53-4e99097a467c>\u001b[0m in \u001b[0;36m<module>\u001b[0;34m\u001b[0m\n\u001b[1;32m     10\u001b[0m \u001b[0;34m\u001b[0m\u001b[0m\n\u001b[1;32m     11\u001b[0m \u001b[0;31m# 모델이 예측한 바운딩 박스 위치 결과\u001b[0m\u001b[0;34m\u001b[0m\u001b[0;34m\u001b[0m\u001b[0;34m\u001b[0m\u001b[0m\n\u001b[0;32m---> 12\u001b[0;31m \u001b[0mprint\u001b[0m\u001b[0;34m(\u001b[0m\u001b[0;34m\"Prediction : \"\u001b[0m\u001b[0;34m,\u001b[0m \u001b[0mpred\u001b[0m\u001b[0;34m[\u001b[0m\u001b[0m_idx\u001b[0m\u001b[0;34m]\u001b[0m\u001b[0;34m[\u001b[0m\u001b[0;34m'labels'\u001b[0m\u001b[0;34m]\u001b[0m\u001b[0;34m[\u001b[0m\u001b[0;36m0\u001b[0m\u001b[0;34m]\u001b[0m\u001b[0;34m)\u001b[0m\u001b[0;34m\u001b[0m\u001b[0;34m\u001b[0m\u001b[0m\n\u001b[0m\u001b[1;32m     13\u001b[0m \u001b[0mplot_image_from_output\u001b[0m\u001b[0;34m(\u001b[0m\u001b[0mimgs\u001b[0m\u001b[0;34m[\u001b[0m\u001b[0m_idx\u001b[0m\u001b[0;34m]\u001b[0m\u001b[0;34m,\u001b[0m \u001b[0mpred\u001b[0m\u001b[0;34m[\u001b[0m\u001b[0m_idx\u001b[0m\u001b[0;34m]\u001b[0m\u001b[0;34m)\u001b[0m\u001b[0;34m\u001b[0m\u001b[0;34m\u001b[0m\u001b[0m\n",
            "\u001b[0;31mIndexError\u001b[0m: index 0 is out of bounds for dimension 0 with size 0"
          ]
        }
      ]
    },
    {
      "cell_type": "markdown",
      "source": [
        "## STEP 8. 평가\n",
        "* 전체 시험 데이터에 대해 예측 결과를 평가해 봄\n"
      ],
      "metadata": {
        "id": "W3AFacoCVZ7B"
      }
    },
    {
      "cell_type": "markdown",
      "source": [
        "### S8-1. 모든 시험 데이터에 대한 예측 결과와 실제 label을 각각 preds_adj_all, annot_all에 담아줌"
      ],
      "metadata": {
        "id": "UYQGanR_VzzG"
      }
    },
    {
      "cell_type": "code",
      "source": [
        "# 모든 시험 데이터에 대한 예측 결과와 실제 label을 \n",
        "# 각각 preds_adj_all, annot_all에 담아줌\n",
        "\n",
        "from tqdm import tqdm\n",
        "\n",
        "labels = []\n",
        "preds_adj_all = []\n",
        "annot_all = []\n",
        "\n",
        "for im, annot in tqdm(test_data_loader, position = 0, leave = True):\n",
        "    im = list(img.to(device) for img in im)\n",
        "    #annot = [{k: v.to(device) for k, v in t.items()} for t in annot]\n",
        "\n",
        "    for t in annot:\n",
        "        labels += t['labels']\n",
        "\n",
        "    with torch.no_grad():\n",
        "        preds_adj = make_prediction(model, im, 0.5)\n",
        "        preds_adj = [{k: v.to(torch.device('cpu')) for k, v in t.items()} for t in preds_adj]\n",
        "        preds_adj_all.append(preds_adj)\n",
        "        annot_all.append(annot)"
      ],
      "metadata": {
        "id": "m01hmSr96vhd"
      },
      "execution_count": null,
      "outputs": []
    },
    {
      "cell_type": "markdown",
      "source": [
        "### S8-2. mAP값을 산출\n",
        "* Tutorial-Book-Utils 폴더 내에 있는 utils_ObejctDetection.py 파일을 통해 mAP값을 산출"
      ],
      "metadata": {
        "id": "7zCpfuJVVsrH"
      }
    },
    {
      "cell_type": "code",
      "source": [
        "%cd /content/drive/MyDrive/Tutorial-Book-Utils/\n",
        "import utils_ObjectDetection as utils"
      ],
      "metadata": {
        "id": "lqsiSosc6vlk"
      },
      "execution_count": null,
      "outputs": []
    },
    {
      "cell_type": "code",
      "source": [
        "# get_batch_statistics 함수를 통해 IoU(Intersection of Union) 조건을 만족하는 \n",
        "# 바운딩 박스간의 통곗값을 계산후\n",
        "sample_metrics = []\n",
        "for batch_i in range(len(preds_adj_all)):\n",
        "    sample_metrics += utils.get_batch_statistics(preds_adj_all[batch_i], annot_all[batch_i], iou_threshold=0.5) \n",
        "\n",
        "# ap_per_class 함수를 통해 각 클래스에 대한 AP값을 계산해줍니다.\n",
        "true_positives, pred_scores, pred_labels = [torch.cat(x, 0) for x in list(zip(*sample_metrics))]  # 배치가 전부 합쳐짐\n",
        "precision, recall, AP, f1, ap_class = utils.ap_per_class(true_positives, pred_scores, pred_labels, torch.tensor(labels))\n",
        "mAP = torch.mean(AP)\n",
        "print(f'mAP : {mAP}')\n",
        "print(f'AP : {AP}')"
      ],
      "metadata": {
        "id": "5rbrNBnB6vpt"
      },
      "execution_count": null,
      "outputs": []
    },
    {
      "cell_type": "markdown",
      "source": [
        "## 회고\n",
        "\n",
        "* AP값은 검출한 클래스에 대해서 보여줍니다. \n",
        "\n",
        "* epoch30으로 학습한 결과 AP는 1.009의 정확도를 보이고 loss는 0.43 정도에 수렴하고 있지만, RetinaNet 결과보다는 향상된 것을 확인할 수 있습니다. \n",
        "\n",
        "\n",
        "* RetinaNet이 FPN과 Focal loss로 one-stage method임에도 높은 성능을 보인다고 일반적으로 알려져 있습니다. \n",
        "\n",
        "* 물론 하이퍼파라미터 튜닝을 통해 RetinaNet의 성능을 최적화 해도 되겠지만, 현재 실험 결과로 미뤄봤을 때 이 데이터셋에는 Faster-RCNN이 더 좋은 성능을 보이고 있습니다.\n",
        "\n",
        "* 이제 전처리를 통해서 결과가 어떻게 되는지 확인해서 비교해 보겠습니다."
      ],
      "metadata": {
        "id": "QhEUKixX6vtZ"
      }
    }
  ]
}